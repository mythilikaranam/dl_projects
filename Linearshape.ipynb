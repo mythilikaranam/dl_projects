{
 "cells": [
  {
   "cell_type": "markdown",
   "id": "ca38c02d",
   "metadata": {},
   "source": [
    "**Importing Required Libraries**"
   ]
  },
  {
   "cell_type": "code",
   "execution_count": 1,
   "id": "2dab248d",
   "metadata": {},
   "outputs": [],
   "source": [
    "import pandas as pd\n",
    "import matplotlib.pyplot as plt\n",
    "import numpy as np\n",
    "import seaborn as sns\n",
    "import warnings\n",
    "warnings.filterwarnings(\"ignore\")"
   ]
  },
  {
   "cell_type": "code",
   "execution_count": 2,
   "id": "637b0690",
   "metadata": {},
   "outputs": [],
   "source": [
    "df=pd.read_csv(r\"C:\\Users\\mythi\\Downloads\\data\\data\\demo_data\\4.linearsep.csv\",header=None)"
   ]
  },
  {
   "cell_type": "code",
   "execution_count": 3,
   "id": "8b9b42df",
   "metadata": {},
   "outputs": [
    {
     "data": {
      "text/html": [
       "<div>\n",
       "<style scoped>\n",
       "    .dataframe tbody tr th:only-of-type {\n",
       "        vertical-align: middle;\n",
       "    }\n",
       "\n",
       "    .dataframe tbody tr th {\n",
       "        vertical-align: top;\n",
       "    }\n",
       "\n",
       "    .dataframe thead th {\n",
       "        text-align: right;\n",
       "    }\n",
       "</style>\n",
       "<table border=\"1\" class=\"dataframe\">\n",
       "  <thead>\n",
       "    <tr style=\"text-align: right;\">\n",
       "      <th></th>\n",
       "      <th>0</th>\n",
       "      <th>1</th>\n",
       "      <th>2</th>\n",
       "    </tr>\n",
       "  </thead>\n",
       "  <tbody>\n",
       "    <tr>\n",
       "      <th>0</th>\n",
       "      <td>-0.177497</td>\n",
       "      <td>0.930496</td>\n",
       "      <td>1.0</td>\n",
       "    </tr>\n",
       "    <tr>\n",
       "      <th>1</th>\n",
       "      <td>1.977424</td>\n",
       "      <td>1.766155</td>\n",
       "      <td>0.0</td>\n",
       "    </tr>\n",
       "    <tr>\n",
       "      <th>2</th>\n",
       "      <td>1.800024</td>\n",
       "      <td>1.700343</td>\n",
       "      <td>0.0</td>\n",
       "    </tr>\n",
       "    <tr>\n",
       "      <th>3</th>\n",
       "      <td>-0.770837</td>\n",
       "      <td>2.359163</td>\n",
       "      <td>1.0</td>\n",
       "    </tr>\n",
       "    <tr>\n",
       "      <th>4</th>\n",
       "      <td>-0.308009</td>\n",
       "      <td>1.594063</td>\n",
       "      <td>1.0</td>\n",
       "    </tr>\n",
       "  </tbody>\n",
       "</table>\n",
       "</div>"
      ],
      "text/plain": [
       "          0         1    2\n",
       "0 -0.177497  0.930496  1.0\n",
       "1  1.977424  1.766155  0.0\n",
       "2  1.800024  1.700343  0.0\n",
       "3 -0.770837  2.359163  1.0\n",
       "4 -0.308009  1.594063  1.0"
      ]
     },
     "execution_count": 3,
     "metadata": {},
     "output_type": "execute_result"
    }
   ],
   "source": [
    "df.head()"
   ]
  },
  {
   "cell_type": "code",
   "execution_count": 4,
   "id": "11c54328",
   "metadata": {
    "scrolled": true
   },
   "outputs": [
    {
     "name": "stdout",
     "output_type": "stream",
     "text": [
      "<class 'pandas.core.frame.DataFrame'>\n",
      "RangeIndex: 100 entries, 0 to 99\n",
      "Data columns (total 3 columns):\n",
      " #   Column  Non-Null Count  Dtype  \n",
      "---  ------  --------------  -----  \n",
      " 0   0       100 non-null    float64\n",
      " 1   1       100 non-null    float64\n",
      " 2   2       100 non-null    float64\n",
      "dtypes: float64(3)\n",
      "memory usage: 2.5 KB\n"
     ]
    }
   ],
   "source": [
    "df.info()"
   ]
  },
  {
   "cell_type": "code",
   "execution_count": 6,
   "id": "0f41d120",
   "metadata": {},
   "outputs": [
    {
     "data": {
      "text/plain": [
       "1.0    0.5\n",
       "0.0    0.5\n",
       "Name: 2, dtype: float64"
      ]
     },
     "execution_count": 6,
     "metadata": {},
     "output_type": "execute_result"
    }
   ],
   "source": [
    "df[2].value_counts(normalize = True)"
   ]
  },
  {
   "cell_type": "code",
   "execution_count": 7,
   "id": "fe1f24ef",
   "metadata": {},
   "outputs": [
    {
     "data": {
      "text/plain": [
       "<AxesSubplot:xlabel='0', ylabel='1'>"
      ]
     },
     "execution_count": 7,
     "metadata": {},
     "output_type": "execute_result"
    },
    {
     "data": {
      "image/png": "[encoded data removed]",
      "text/plain": [
       "<Figure size 360x216 with 1 Axes>"
      ]
     },
     "metadata": {
      "needs_background": "light"
     },
     "output_type": "display_data"
    }
   ],
   "source": [
    "plt.figure(figsize = (5,3))\n",
    "sns.scatterplot(x = df[0], y = df[1], hue = df[2])"
   ]
  },
  {
   "cell_type": "markdown",
   "id": "06ca9096",
   "metadata": {},
   "source": [
    "**Splitting train and test data**"
   ]
  },
  {
   "cell_type": "code",
   "execution_count": 9,
   "id": "7630cd8d",
   "metadata": {},
   "outputs": [],
   "source": [
    "from sklearn.model_selection import train_test_split\n",
    "x_train, x_test, y_train, y_test = train_test_split(df[[0,1]], df[2], train_size = 0.9)"
   ]
  },
  {
   "cell_type": "code",
   "execution_count": 10,
   "id": "088c90e2",
   "metadata": {},
   "outputs": [
    {
     "name": "stdout",
     "output_type": "stream",
     "text": [
      "(90, 2) (90,)\n",
      "(10, 2) (10,)\n"
     ]
    }
   ],
   "source": [
    "#Shape of 'x_train' and 'y_train'\n",
    "\n",
    "print(x_train.shape,y_train.shape)\n",
    "\n",
    "#Shape of 'x_test' and 'y_test'\n",
    "\n",
    "print(x_test.shape,y_test.shape)"
   ]
  },
  {
   "cell_type": "markdown",
   "id": "889308e5",
   "metadata": {},
   "source": [
    "**Standardizing the train data**"
   ]
  },
  {
   "cell_type": "code",
   "execution_count": 11,
   "id": "18a68eed",
   "metadata": {},
   "outputs": [],
   "source": [
    "from sklearn.preprocessing import StandardScaler\n",
    "std = StandardScaler()"
   ]
  },
  {
   "cell_type": "code",
   "execution_count": 12,
   "id": "71b70bd1",
   "metadata": {},
   "outputs": [],
   "source": [
    "std_train=std.fit_transform(x_train)"
   ]
  },
  {
   "cell_type": "code",
   "execution_count": 13,
   "id": "49b7f766",
   "metadata": {
    "scrolled": true
   },
   "outputs": [
    {
     "data": {
      "text/plain": [
       "array([[ 0.37919019,  0.37593126],\n",
       "       [-0.34177433, -1.71663368],\n",
       "       [-0.50769653, -0.79913631],\n",
       "       [ 0.62966518, -1.20326738],\n",
       "       [-1.05311904,  0.1969485 ],\n",
       "       [ 0.56517931, -0.82847279],\n",
       "       [-1.31899996,  0.69150712],\n",
       "       [-1.08912684, -0.12464315],\n",
       "       [-0.48752001,  1.14265247],\n",
       "       [ 0.01104104,  1.04754731],\n",
       "       [-2.07455633, -0.86120224],\n",
       "       [ 0.75114327,  0.33477127],\n",
       "       [ 1.26086652, -0.78197279],\n",
       "       [ 0.41900484,  0.99682252],\n",
       "       [-0.06073827,  0.36992716],\n",
       "       [ 0.92979565, -0.39479618],\n",
       "       [-1.56524758,  1.28941649],\n",
       "       [ 1.60141133,  1.52879281],\n",
       "       [ 0.54409354,  0.20375029],\n",
       "       [-2.02480812, -0.59660419],\n",
       "       [ 0.98281574,  1.01563466],\n",
       "       [-1.71263442, -1.03804262],\n",
       "       [-0.21923893,  0.80038174],\n",
       "       [ 0.72157274, -0.25559907],\n",
       "       [ 0.38572701, -1.04696336],\n",
       "       [ 0.75797599, -1.04555609],\n",
       "       [-0.71166203, -1.08932593],\n",
       "       [ 0.28015994, -0.60104408],\n",
       "       [-1.33218886, -0.68685225],\n",
       "       [-1.12784311,  0.20311606],\n",
       "       [ 0.58593104, -1.43248816],\n",
       "       [-1.01725967,  0.36527683],\n",
       "       [ 0.88165612, -1.12061808],\n",
       "       [ 0.2026213 ,  0.27650964],\n",
       "       [ 1.22750235, -0.76592418],\n",
       "       [ 1.11447902,  2.89605341],\n",
       "       [-2.13725808, -0.92960968],\n",
       "       [-1.56296014, -0.68524624],\n",
       "       [ 0.15875316,  0.48660988],\n",
       "       [ 0.39232003, -0.07485297],\n",
       "       [ 1.1074891 ,  0.18215667],\n",
       "       [ 0.24473242, -0.07378695],\n",
       "       [ 0.19612922,  1.36772457],\n",
       "       [ 0.6398276 ,  2.29874028],\n",
       "       [ 0.24347453,  0.75379344],\n",
       "       [-1.33491693, -0.32674134],\n",
       "       [ 0.77496575, -0.99367439],\n",
       "       [ 1.32939232, -1.27196566],\n",
       "       [-0.45930111,  0.52890273],\n",
       "       [ 1.22658692, -0.63317614],\n",
       "       [ 1.75740172, -0.19857965],\n",
       "       [ 0.78443567, -0.22356934],\n",
       "       [-1.14385804, -1.14495867],\n",
       "       [ 0.65953505, -0.14028239],\n",
       "       [-0.95319499, -1.38809198],\n",
       "       [-1.06260482,  1.87756689],\n",
       "       [-0.25471398, -0.08067185],\n",
       "       [-0.56400594, -0.89455197],\n",
       "       [-0.77211745, -0.2551501 ],\n",
       "       [ 0.6296175 , -1.18334303],\n",
       "       [ 0.31752023,  1.25614934],\n",
       "       [ 1.06546629,  1.83244158],\n",
       "       [-0.639472  , -0.22322745],\n",
       "       [-1.34286523,  0.02961238],\n",
       "       [-0.1728651 , -1.14200723],\n",
       "       [ 0.79845355,  0.54959436],\n",
       "       [-0.91015316, -0.2376744 ],\n",
       "       [-0.1495087 , -0.74916253],\n",
       "       [ 0.76367811,  2.57036631],\n",
       "       [-1.10429697,  0.20545021],\n",
       "       [-0.22833327,  0.44293129],\n",
       "       [-0.95163899, -0.40838436],\n",
       "       [-0.93266714, -0.02999959],\n",
       "       [-1.36984058,  0.69082465],\n",
       "       [-1.15768796, -1.27662527],\n",
       "       [-0.48161573,  1.10231828],\n",
       "       [ 0.36911289, -1.88339437],\n",
       "       [ 1.0271895 , -1.51729711],\n",
       "       [ 1.43784969, -0.41790051],\n",
       "       [-0.73911482, -0.13719252],\n",
       "       [-1.02333021,  0.15267627],\n",
       "       [ 1.64998599,  0.35233306],\n",
       "       [ 1.23667947,  0.88064033],\n",
       "       [ 1.07899873,  1.78732638],\n",
       "       [-0.22281511,  0.41259557],\n",
       "       [-0.84804718, -1.36231359],\n",
       "       [ 1.76034429,  0.56025848],\n",
       "       [ 0.79031501,  1.21152462],\n",
       "       [ 1.55712886, -0.04734747],\n",
       "       [ 0.93438191,  1.05234414]])"
      ]
     },
     "execution_count": 13,
     "metadata": {},
     "output_type": "execute_result"
    }
   ],
   "source": [
    "std_train"
   ]
  },
  {
   "cell_type": "markdown",
   "id": "0969041b",
   "metadata": {},
   "source": [
    "**Creating Dense layers**"
   ]
  },
  {
   "cell_type": "code",
   "execution_count": 14,
   "id": "dac46f48",
   "metadata": {},
   "outputs": [],
   "source": [
    "import tensorflow\n",
    "from tensorflow.keras import Sequential\n",
    "from tensorflow.keras.layers import Dense"
   ]
  },
  {
   "cell_type": "code",
   "execution_count": 15,
   "id": "ff164333",
   "metadata": {},
   "outputs": [],
   "source": [
    "model=Sequential()\n",
    "model.add(Dense(15, activation = 'tanh', input_dim = 2))\n",
    "model.add(Dense(10, activation = 'tanh'))\n",
    "model.add(Dense(5, activation = 'tanh'))\n",
    "model.add(Dense(1, activation = 'sigmoid'))"
   ]
  },
  {
   "cell_type": "code",
   "execution_count": 16,
   "id": "32a42552",
   "metadata": {},
   "outputs": [
    {
     "name": "stdout",
     "output_type": "stream",
     "text": [
      "Model: \"sequential\"\n",
      "_________________________________________________________________\n",
      " Layer (type)                Output Shape              Param #   \n",
      "=================================================================\n",
      " dense (Dense)               (None, 15)                45        \n",
      "                                                                 \n",
      " dense_1 (Dense)             (None, 10)                160       \n",
      "                                                                 \n",
      " dense_2 (Dense)             (None, 5)                 55        \n",
      "                                                                 \n",
      " dense_3 (Dense)             (None, 1)                 6         \n",
      "                                                                 \n",
      "=================================================================\n",
      "Total params: 266\n",
      "Trainable params: 266\n",
      "Non-trainable params: 0\n",
      "_________________________________________________________________\n"
     ]
    }
   ],
   "source": [
    "model.summary()"
   ]
  },
  {
   "cell_type": "markdown",
   "id": "0615c374",
   "metadata": {},
   "source": [
    "**Compile**"
   ]
  },
  {
   "cell_type": "code",
   "execution_count": 18,
   "id": "87667689",
   "metadata": {},
   "outputs": [],
   "source": [
    "model.compile(optimizer=\"Adam\",loss='binary_crossentropy',metrics=['accuracy'])"
   ]
  },
  {
   "cell_type": "markdown",
   "id": "9954e88d",
   "metadata": {},
   "source": [
    "**Fitting**"
   ]
  },
  {
   "cell_type": "code",
   "execution_count": 19,
   "id": "bd149736",
   "metadata": {},
   "outputs": [
    {
     "name": "stdout",
     "output_type": "stream",
     "text": [
      "Epoch 1/100\n",
      "8/8 [==============================] - 1s 33ms/step - loss: 0.7038 - accuracy: 0.5139 - val_loss: 0.6855 - val_accuracy: 0.4444\n",
      "Epoch 2/100\n",
      "8/8 [==============================] - 0s 6ms/step - loss: 0.6400 - accuracy: 0.5139 - val_loss: 0.6079 - val_accuracy: 0.5556\n",
      "Epoch 3/100\n",
      "8/8 [==============================] - 0s 6ms/step - loss: 0.5880 - accuracy: 0.7639 - val_loss: 0.5407 - val_accuracy: 1.0000\n",
      "Epoch 4/100\n",
      "8/8 [==============================] - 0s 6ms/step - loss: 0.5405 - accuracy: 0.9167 - val_loss: 0.4840 - val_accuracy: 1.0000\n",
      "Epoch 5/100\n",
      "8/8 [==============================] - 0s 6ms/step - loss: 0.5024 - accuracy: 0.9028 - val_loss: 0.4371 - val_accuracy: 1.0000\n",
      "Epoch 6/100\n",
      "8/8 [==============================] - 0s 5ms/step - loss: 0.4681 - accuracy: 0.9028 - val_loss: 0.3953 - val_accuracy: 1.0000\n",
      "Epoch 7/100\n",
      "8/8 [==============================] - 0s 6ms/step - loss: 0.4356 - accuracy: 0.9306 - val_loss: 0.3583 - val_accuracy: 1.0000\n",
      "Epoch 8/100\n",
      "8/8 [==============================] - 0s 6ms/step - loss: 0.4090 - accuracy: 0.9306 - val_loss: 0.3244 - val_accuracy: 1.0000\n",
      "Epoch 9/100\n",
      "8/8 [==============================] - 0s 8ms/step - loss: 0.3847 - accuracy: 0.9028 - val_loss: 0.2959 - val_accuracy: 1.0000\n",
      "Epoch 10/100\n",
      "8/8 [==============================] - 0s 7ms/step - loss: 0.3623 - accuracy: 0.9306 - val_loss: 0.2705 - val_accuracy: 1.0000\n",
      "Epoch 11/100\n",
      "8/8 [==============================] - 0s 6ms/step - loss: 0.3432 - accuracy: 0.9306 - val_loss: 0.2476 - val_accuracy: 1.0000\n",
      "Epoch 12/100\n",
      "8/8 [==============================] - 0s 6ms/step - loss: 0.3250 - accuracy: 0.9306 - val_loss: 0.2275 - val_accuracy: 1.0000\n",
      "Epoch 13/100\n",
      "8/8 [==============================] - 0s 6ms/step - loss: 0.3093 - accuracy: 0.9444 - val_loss: 0.2095 - val_accuracy: 1.0000\n",
      "Epoch 14/100\n",
      "8/8 [==============================] - 0s 6ms/step - loss: 0.2957 - accuracy: 0.9306 - val_loss: 0.1928 - val_accuracy: 1.0000\n",
      "Epoch 15/100\n",
      "8/8 [==============================] - 0s 6ms/step - loss: 0.2826 - accuracy: 0.9444 - val_loss: 0.1774 - val_accuracy: 1.0000\n",
      "Epoch 16/100\n",
      "8/8 [==============================] - 0s 6ms/step - loss: 0.2697 - accuracy: 0.9306 - val_loss: 0.1646 - val_accuracy: 1.0000\n",
      "Epoch 17/100\n",
      "8/8 [==============================] - 0s 6ms/step - loss: 0.2600 - accuracy: 0.9306 - val_loss: 0.1531 - val_accuracy: 1.0000\n",
      "Epoch 18/100\n",
      "8/8 [==============================] - 0s 6ms/step - loss: 0.2511 - accuracy: 0.9444 - val_loss: 0.1427 - val_accuracy: 1.0000\n",
      "Epoch 19/100\n",
      "8/8 [==============================] - 0s 6ms/step - loss: 0.2424 - accuracy: 0.9306 - val_loss: 0.1338 - val_accuracy: 1.0000\n",
      "Epoch 20/100\n",
      "8/8 [==============================] - 0s 6ms/step - loss: 0.2338 - accuracy: 0.9306 - val_loss: 0.1250 - val_accuracy: 1.0000\n",
      "Epoch 21/100\n",
      "8/8 [==============================] - 0s 6ms/step - loss: 0.2258 - accuracy: 0.9306 - val_loss: 0.1173 - val_accuracy: 1.0000\n",
      "Epoch 22/100\n",
      "8/8 [==============================] - 0s 6ms/step - loss: 0.2198 - accuracy: 0.9306 - val_loss: 0.1106 - val_accuracy: 1.0000\n",
      "Epoch 23/100\n",
      "8/8 [==============================] - 0s 6ms/step - loss: 0.2140 - accuracy: 0.9167 - val_loss: 0.1062 - val_accuracy: 1.0000\n",
      "Epoch 24/100\n",
      "8/8 [==============================] - 0s 6ms/step - loss: 0.2100 - accuracy: 0.9167 - val_loss: 0.1003 - val_accuracy: 1.0000\n",
      "Epoch 25/100\n",
      "8/8 [==============================] - 0s 6ms/step - loss: 0.2047 - accuracy: 0.9306 - val_loss: 0.0951 - val_accuracy: 1.0000\n",
      "Epoch 26/100\n",
      "8/8 [==============================] - 0s 6ms/step - loss: 0.2012 - accuracy: 0.9306 - val_loss: 0.0897 - val_accuracy: 1.0000\n",
      "Epoch 27/100\n",
      "8/8 [==============================] - 0s 6ms/step - loss: 0.1951 - accuracy: 0.9306 - val_loss: 0.0853 - val_accuracy: 1.0000\n",
      "Epoch 28/100\n",
      "8/8 [==============================] - 0s 5ms/step - loss: 0.1899 - accuracy: 0.9306 - val_loss: 0.0809 - val_accuracy: 1.0000\n",
      "Epoch 29/100\n",
      "8/8 [==============================] - 0s 5ms/step - loss: 0.1873 - accuracy: 0.9306 - val_loss: 0.0776 - val_accuracy: 1.0000\n",
      "Epoch 30/100\n",
      "8/8 [==============================] - 0s 6ms/step - loss: 0.1848 - accuracy: 0.9444 - val_loss: 0.0738 - val_accuracy: 1.0000\n",
      "Epoch 31/100\n",
      "8/8 [==============================] - 0s 6ms/step - loss: 0.1770 - accuracy: 0.9306 - val_loss: 0.0720 - val_accuracy: 1.0000\n",
      "Epoch 32/100\n",
      "8/8 [==============================] - 0s 5ms/step - loss: 0.1802 - accuracy: 0.9444 - val_loss: 0.0717 - val_accuracy: 1.0000\n",
      "Epoch 33/100\n",
      "8/8 [==============================] - 0s 6ms/step - loss: 0.1824 - accuracy: 0.9444 - val_loss: 0.0680 - val_accuracy: 1.0000\n",
      "Epoch 34/100\n",
      "8/8 [==============================] - 0s 5ms/step - loss: 0.1744 - accuracy: 0.9306 - val_loss: 0.0633 - val_accuracy: 1.0000\n",
      "Epoch 35/100\n",
      "8/8 [==============================] - 0s 5ms/step - loss: 0.1689 - accuracy: 0.9444 - val_loss: 0.0606 - val_accuracy: 1.0000\n",
      "Epoch 36/100\n",
      "8/8 [==============================] - 0s 6ms/step - loss: 0.1674 - accuracy: 0.9444 - val_loss: 0.0584 - val_accuracy: 1.0000\n",
      "Epoch 37/100\n",
      "8/8 [==============================] - 0s 7ms/step - loss: 0.1646 - accuracy: 0.9444 - val_loss: 0.0563 - val_accuracy: 1.0000\n",
      "Epoch 38/100\n",
      "8/8 [==============================] - 0s 7ms/step - loss: 0.1628 - accuracy: 0.9444 - val_loss: 0.0541 - val_accuracy: 1.0000\n",
      "Epoch 39/100\n",
      "8/8 [==============================] - 0s 7ms/step - loss: 0.1594 - accuracy: 0.9444 - val_loss: 0.0531 - val_accuracy: 1.0000\n",
      "Epoch 40/100\n",
      "8/8 [==============================] - 0s 6ms/step - loss: 0.1610 - accuracy: 0.9444 - val_loss: 0.0516 - val_accuracy: 1.0000\n",
      "Epoch 41/100\n",
      "8/8 [==============================] - 0s 7ms/step - loss: 0.1596 - accuracy: 0.9444 - val_loss: 0.0495 - val_accuracy: 1.0000\n",
      "Epoch 42/100\n",
      "8/8 [==============================] - 0s 7ms/step - loss: 0.1553 - accuracy: 0.9583 - val_loss: 0.0474 - val_accuracy: 1.0000\n",
      "Epoch 43/100\n",
      "8/8 [==============================] - 0s 7ms/step - loss: 0.1553 - accuracy: 0.9444 - val_loss: 0.0457 - val_accuracy: 1.0000\n",
      "Epoch 44/100\n",
      "8/8 [==============================] - 0s 6ms/step - loss: 0.1516 - accuracy: 0.9444 - val_loss: 0.0443 - val_accuracy: 1.0000\n",
      "Epoch 45/100\n",
      "8/8 [==============================] - 0s 6ms/step - loss: 0.1495 - accuracy: 0.9444 - val_loss: 0.0428 - val_accuracy: 1.0000\n",
      "Epoch 46/100\n",
      "8/8 [==============================] - 0s 6ms/step - loss: 0.1482 - accuracy: 0.9444 - val_loss: 0.0416 - val_accuracy: 1.0000\n",
      "Epoch 47/100\n",
      "8/8 [==============================] - 0s 7ms/step - loss: 0.1476 - accuracy: 0.9444 - val_loss: 0.0403 - val_accuracy: 1.0000\n",
      "Epoch 48/100\n",
      "8/8 [==============================] - 0s 6ms/step - loss: 0.1466 - accuracy: 0.9444 - val_loss: 0.0391 - val_accuracy: 1.0000\n",
      "Epoch 49/100\n",
      "8/8 [==============================] - 0s 7ms/step - loss: 0.1451 - accuracy: 0.9444 - val_loss: 0.0380 - val_accuracy: 1.0000\n",
      "Epoch 50/100\n",
      "8/8 [==============================] - 0s 6ms/step - loss: 0.1454 - accuracy: 0.9444 - val_loss: 0.0378 - val_accuracy: 1.0000\n",
      "Epoch 51/100\n",
      "8/8 [==============================] - 0s 7ms/step - loss: 0.1438 - accuracy: 0.9444 - val_loss: 0.0367 - val_accuracy: 1.0000\n",
      "Epoch 52/100\n",
      "8/8 [==============================] - 0s 6ms/step - loss: 0.1421 - accuracy: 0.9444 - val_loss: 0.0358 - val_accuracy: 1.0000\n",
      "Epoch 53/100\n",
      "8/8 [==============================] - 0s 6ms/step - loss: 0.1429 - accuracy: 0.9444 - val_loss: 0.0347 - val_accuracy: 1.0000\n",
      "Epoch 54/100\n",
      "8/8 [==============================] - 0s 7ms/step - loss: 0.1380 - accuracy: 0.9444 - val_loss: 0.0344 - val_accuracy: 1.0000\n",
      "Epoch 55/100\n",
      "8/8 [==============================] - 0s 6ms/step - loss: 0.1421 - accuracy: 0.9444 - val_loss: 0.0340 - val_accuracy: 1.0000\n",
      "Epoch 56/100\n",
      "8/8 [==============================] - 0s 7ms/step - loss: 0.1393 - accuracy: 0.9583 - val_loss: 0.0329 - val_accuracy: 1.0000\n",
      "Epoch 57/100\n",
      "8/8 [==============================] - 0s 6ms/step - loss: 0.1386 - accuracy: 0.9583 - val_loss: 0.0320 - val_accuracy: 1.0000\n",
      "Epoch 58/100\n",
      "8/8 [==============================] - 0s 5ms/step - loss: 0.1366 - accuracy: 0.9583 - val_loss: 0.0312 - val_accuracy: 1.0000\n",
      "Epoch 59/100\n",
      "8/8 [==============================] - 0s 6ms/step - loss: 0.1348 - accuracy: 0.9583 - val_loss: 0.0305 - val_accuracy: 1.0000\n",
      "Epoch 60/100\n",
      "8/8 [==============================] - 0s 6ms/step - loss: 0.1368 - accuracy: 0.9583 - val_loss: 0.0297 - val_accuracy: 1.0000\n",
      "Epoch 61/100\n",
      "8/8 [==============================] - 0s 7ms/step - loss: 0.1370 - accuracy: 0.9583 - val_loss: 0.0291 - val_accuracy: 1.0000\n",
      "Epoch 62/100\n",
      "8/8 [==============================] - 0s 6ms/step - loss: 0.1314 - accuracy: 0.9583 - val_loss: 0.0284 - val_accuracy: 1.0000\n",
      "Epoch 63/100\n",
      "8/8 [==============================] - 0s 7ms/step - loss: 0.1326 - accuracy: 0.9583 - val_loss: 0.0278 - val_accuracy: 1.0000\n",
      "Epoch 64/100\n",
      "8/8 [==============================] - 0s 6ms/step - loss: 0.1328 - accuracy: 0.9583 - val_loss: 0.0273 - val_accuracy: 1.0000\n",
      "Epoch 65/100\n",
      "8/8 [==============================] - 0s 9ms/step - loss: 0.1324 - accuracy: 0.9583 - val_loss: 0.0267 - val_accuracy: 1.0000\n",
      "Epoch 66/100\n",
      "8/8 [==============================] - 0s 7ms/step - loss: 0.1324 - accuracy: 0.9583 - val_loss: 0.0261 - val_accuracy: 1.0000\n",
      "Epoch 67/100\n",
      "8/8 [==============================] - 0s 6ms/step - loss: 0.1301 - accuracy: 0.9583 - val_loss: 0.0255 - val_accuracy: 1.0000\n",
      "Epoch 68/100\n",
      "8/8 [==============================] - 0s 6ms/step - loss: 0.1316 - accuracy: 0.9583 - val_loss: 0.0250 - val_accuracy: 1.0000\n",
      "Epoch 69/100\n",
      "8/8 [==============================] - 0s 6ms/step - loss: 0.1293 - accuracy: 0.9444 - val_loss: 0.0244 - val_accuracy: 1.0000\n",
      "Epoch 70/100\n",
      "8/8 [==============================] - 0s 5ms/step - loss: 0.1301 - accuracy: 0.9444 - val_loss: 0.0239 - val_accuracy: 1.0000\n",
      "Epoch 71/100\n",
      "8/8 [==============================] - 0s 6ms/step - loss: 0.1276 - accuracy: 0.9583 - val_loss: 0.0233 - val_accuracy: 1.0000\n",
      "Epoch 72/100\n",
      "8/8 [==============================] - 0s 6ms/step - loss: 0.1287 - accuracy: 0.9583 - val_loss: 0.0232 - val_accuracy: 1.0000\n",
      "Epoch 73/100\n",
      "8/8 [==============================] - 0s 5ms/step - loss: 0.1317 - accuracy: 0.9444 - val_loss: 0.0228 - val_accuracy: 1.0000\n",
      "Epoch 74/100\n",
      "8/8 [==============================] - 0s 5ms/step - loss: 0.1292 - accuracy: 0.9444 - val_loss: 0.0223 - val_accuracy: 1.0000\n",
      "Epoch 75/100\n",
      "8/8 [==============================] - 0s 6ms/step - loss: 0.1276 - accuracy: 0.9583 - val_loss: 0.0220 - val_accuracy: 1.0000\n",
      "Epoch 76/100\n",
      "8/8 [==============================] - 0s 5ms/step - loss: 0.1269 - accuracy: 0.9583 - val_loss: 0.0217 - val_accuracy: 1.0000\n",
      "Epoch 77/100\n",
      "8/8 [==============================] - 0s 6ms/step - loss: 0.1308 - accuracy: 0.9306 - val_loss: 0.0227 - val_accuracy: 1.0000\n",
      "Epoch 78/100\n",
      "8/8 [==============================] - 0s 5ms/step - loss: 0.1402 - accuracy: 0.9306 - val_loss: 0.0227 - val_accuracy: 1.0000\n",
      "Epoch 79/100\n",
      "8/8 [==============================] - 0s 5ms/step - loss: 0.1382 - accuracy: 0.9444 - val_loss: 0.0218 - val_accuracy: 1.0000\n",
      "Epoch 80/100\n",
      "8/8 [==============================] - 0s 5ms/step - loss: 0.1285 - accuracy: 0.9444 - val_loss: 0.0212 - val_accuracy: 1.0000\n",
      "Epoch 81/100\n",
      "8/8 [==============================] - 0s 5ms/step - loss: 0.1268 - accuracy: 0.9444 - val_loss: 0.0208 - val_accuracy: 1.0000\n",
      "Epoch 82/100\n",
      "8/8 [==============================] - 0s 6ms/step - loss: 0.1247 - accuracy: 0.9444 - val_loss: 0.0207 - val_accuracy: 1.0000\n",
      "Epoch 83/100\n",
      "8/8 [==============================] - 0s 7ms/step - loss: 0.1258 - accuracy: 0.9444 - val_loss: 0.0203 - val_accuracy: 1.0000\n",
      "Epoch 84/100\n",
      "8/8 [==============================] - 0s 6ms/step - loss: 0.1272 - accuracy: 0.9444 - val_loss: 0.0199 - val_accuracy: 1.0000\n",
      "Epoch 85/100\n",
      "8/8 [==============================] - 0s 6ms/step - loss: 0.1237 - accuracy: 0.9583 - val_loss: 0.0195 - val_accuracy: 1.0000\n",
      "Epoch 86/100\n",
      "8/8 [==============================] - 0s 6ms/step - loss: 0.1236 - accuracy: 0.9444 - val_loss: 0.0193 - val_accuracy: 1.0000\n",
      "Epoch 87/100\n",
      "8/8 [==============================] - 0s 5ms/step - loss: 0.1246 - accuracy: 0.9583 - val_loss: 0.0189 - val_accuracy: 1.0000\n",
      "Epoch 88/100\n",
      "8/8 [==============================] - 0s 6ms/step - loss: 0.1223 - accuracy: 0.9583 - val_loss: 0.0187 - val_accuracy: 1.0000\n",
      "Epoch 89/100\n",
      "8/8 [==============================] - 0s 6ms/step - loss: 0.1233 - accuracy: 0.9444 - val_loss: 0.0185 - val_accuracy: 1.0000\n",
      "Epoch 90/100\n",
      "8/8 [==============================] - 0s 6ms/step - loss: 0.1235 - accuracy: 0.9444 - val_loss: 0.0183 - val_accuracy: 1.0000\n",
      "Epoch 91/100\n",
      "8/8 [==============================] - 0s 6ms/step - loss: 0.1262 - accuracy: 0.9444 - val_loss: 0.0186 - val_accuracy: 1.0000\n",
      "Epoch 92/100\n",
      "8/8 [==============================] - 0s 6ms/step - loss: 0.1320 - accuracy: 0.9444 - val_loss: 0.0188 - val_accuracy: 1.0000\n",
      "Epoch 93/100\n",
      "8/8 [==============================] - 0s 6ms/step - loss: 0.1329 - accuracy: 0.9444 - val_loss: 0.0182 - val_accuracy: 1.0000\n",
      "Epoch 94/100\n",
      "8/8 [==============================] - 0s 7ms/step - loss: 0.1246 - accuracy: 0.9583 - val_loss: 0.0178 - val_accuracy: 1.0000\n",
      "Epoch 95/100\n",
      "8/8 [==============================] - 0s 6ms/step - loss: 0.1225 - accuracy: 0.9444 - val_loss: 0.0175 - val_accuracy: 1.0000\n",
      "Epoch 96/100\n",
      "8/8 [==============================] - 0s 6ms/step - loss: 0.1218 - accuracy: 0.9444 - val_loss: 0.0173 - val_accuracy: 1.0000\n",
      "Epoch 97/100\n",
      "8/8 [==============================] - 0s 6ms/step - loss: 0.1213 - accuracy: 0.9583 - val_loss: 0.0170 - val_accuracy: 1.0000\n",
      "Epoch 98/100\n",
      "8/8 [==============================] - 0s 6ms/step - loss: 0.1211 - accuracy: 0.9583 - val_loss: 0.0168 - val_accuracy: 1.0000\n",
      "Epoch 99/100\n",
      "8/8 [==============================] - 0s 6ms/step - loss: 0.1209 - accuracy: 0.9583 - val_loss: 0.0166 - val_accuracy: 1.0000\n",
      "Epoch 100/100\n",
      "8/8 [==============================] - 0s 7ms/step - loss: 0.1207 - accuracy: 0.9583 - val_loss: 0.0164 - val_accuracy: 1.0000\n"
     ]
    }
   ],
   "source": [
    "save=model.fit(x_train,y_train,batch_size=10,epochs=100,verbose=1,validation_split=0.2)"
   ]
  },
  {
   "cell_type": "code",
   "execution_count": 20,
   "id": "11bdc4f0",
   "metadata": {},
   "outputs": [],
   "source": [
    "tl=save.history[\"loss\"]\n",
    "cvl=save.history[\"val_loss\"]"
   ]
  },
  {
   "cell_type": "code",
   "execution_count": 24,
   "id": "97c6cf4c",
   "metadata": {},
   "outputs": [
    {
     "data": {
      "text/plain": [
       "<matplotlib.legend.Legend at 0x1b9037dc820>"
      ]
     },
     "execution_count": 24,
     "metadata": {},
     "output_type": "execute_result"
    },
    {
     "data": {
      "image/png": "[encoded data removed]",
      "text/plain": [
       "<Figure size 432x288 with 1 Axes>"
      ]
     },
     "metadata": {
      "needs_background": "light"
     },
     "output_type": "display_data"
    }
   ],
   "source": [
    "plt.plot(range(1, 101),tl,label=\"training_loss\")\n",
    "plt.plot(range(1, 101),cvl,label=\"crossval_loss\")\n",
    "plt.legend()"
   ]
  },
  {
   "cell_type": "code",
   "execution_count": 26,
   "id": "00f1dfd8",
   "metadata": {},
   "outputs": [
    {
     "name": "stdout",
     "output_type": "stream",
     "text": [
      "3/3 [==============================] - 0s 2ms/step\n"
     ]
    }
   ],
   "source": [
    "pred_train = model.predict(x_train)"
   ]
  },
  {
   "cell_type": "code",
   "execution_count": 27,
   "id": "37954f84",
   "metadata": {
    "scrolled": true
   },
   "outputs": [
    {
     "data": {
      "text/plain": [
       "array([[0.07918359],\n",
       "       [0.753133  ],\n",
       "       [0.9755433 ],\n",
       "       [0.01608267],\n",
       "       [0.98764133],\n",
       "       [0.01873696],\n",
       "       [0.9881239 ],\n",
       "       [0.9876616 ],\n",
       "       [0.9843209 ],\n",
       "       [0.9089412 ],\n",
       "       [0.98851   ],\n",
       "       [0.02002202],\n",
       "       [0.01317018],\n",
       "       [0.12546974],\n",
       "       [0.89033264],\n",
       "       [0.01483769],\n",
       "       [0.98832166],\n",
       "       [0.01361727],\n",
       "       [0.03057666],\n",
       "       [0.9885025 ],\n",
       "       [0.01762834],\n",
       "       [0.98834884],\n",
       "       [0.96989834],\n",
       "       [0.01781297],\n",
       "       [0.024021  ],\n",
       "       [0.01509521],\n",
       "       [0.9829526 ],\n",
       "       [0.04943495],\n",
       "       [0.9880209 ],\n",
       "       [0.98780864],\n",
       "       [0.01598958],\n",
       "       [0.9875829 ],\n",
       "       [0.01416045],\n",
       "       [0.27050367],\n",
       "       [0.01324971],\n",
       "       [0.02535764],\n",
       "       [0.9885248 ],\n",
       "       [0.98827136],\n",
       "       [0.47446758],\n",
       "       [0.04604253],\n",
       "       [0.01446446],\n",
       "       [0.11830519],\n",
       "       [0.72404593],\n",
       "       [0.1177755 ],\n",
       "       [0.35718173],\n",
       "       [0.9880731 ],\n",
       "       [0.0150475 ],\n",
       "       [0.01286914],\n",
       "       [0.982331  ],\n",
       "       [0.01332204],\n",
       "       [0.01267182],\n",
       "       [0.01680136],\n",
       "       [0.98744786],\n",
       "       [0.01999743],\n",
       "       [0.98606974],\n",
       "       [0.9878341 ],\n",
       "       [0.9547438 ],\n",
       "       [0.97831154],\n",
       "       [0.9860022 ],\n",
       "       [0.01614006],\n",
       "       [0.36735633],\n",
       "       [0.0193398 ],\n",
       "       [0.9843137 ],\n",
       "       [0.9881146 ],\n",
       "       [0.6190245 ],\n",
       "       [0.01984247],\n",
       "       [0.9869757 ],\n",
       "       [0.7499734 ],\n",
       "       [0.073064  ],\n",
       "       [0.98776084],\n",
       "       [0.9647824 ],\n",
       "       [0.98708093],\n",
       "       [0.98718256],\n",
       "       [0.988174  ],\n",
       "       [0.98741966],\n",
       "       [0.9841587 ],\n",
       "       [0.01789231],\n",
       "       [0.01330529],\n",
       "       [0.01299789],\n",
       "       [0.98582244],\n",
       "       [0.98755264],\n",
       "       [0.01293952],\n",
       "       [0.01457403],\n",
       "       [0.01879426],\n",
       "       [0.96315575],\n",
       "       [0.9847988 ],\n",
       "       [0.01285538],\n",
       "       [0.02575133],\n",
       "       [0.01294234],\n",
       "       [0.01880434]], dtype=float32)"
      ]
     },
     "execution_count": 27,
     "metadata": {},
     "output_type": "execute_result"
    }
   ],
   "source": [
    "pred_train"
   ]
  },
  {
   "cell_type": "code",
   "execution_count": 28,
   "id": "580ce37c",
   "metadata": {},
   "outputs": [],
   "source": [
    "import numpy as np\n",
    "train_pred = np.where(pred_train<0.5,0,1)"
   ]
  },
  {
   "cell_type": "code",
   "execution_count": 29,
   "id": "42785ade",
   "metadata": {},
   "outputs": [
    {
     "data": {
      "text/plain": [
       "(90, 1)"
      ]
     },
     "execution_count": 29,
     "metadata": {},
     "output_type": "execute_result"
    }
   ],
   "source": [
    "train_pred.shape"
   ]
  },
  {
   "cell_type": "code",
   "execution_count": 30,
   "id": "17e59aab",
   "metadata": {},
   "outputs": [],
   "source": [
    "y_pred = train_pred.flatten()"
   ]
  },
  {
   "cell_type": "code",
   "execution_count": 35,
   "id": "e0b76cd5",
   "metadata": {},
   "outputs": [
    {
     "data": {
      "text/plain": [
       "(90,)"
      ]
     },
     "execution_count": 35,
     "metadata": {},
     "output_type": "execute_result"
    }
   ],
   "source": [
    "y_pred.shape"
   ]
  },
  {
   "cell_type": "code",
   "execution_count": 31,
   "id": "bd7570bf",
   "metadata": {},
   "outputs": [
    {
     "data": {
      "text/plain": [
       "<AxesSubplot:xlabel='0', ylabel='1'>"
      ]
     },
     "execution_count": 31,
     "metadata": {},
     "output_type": "execute_result"
    },
    {
     "data": {
      "image/png": "[encoded data removed]",
      "text/plain": [
       "<Figure size 360x216 with 1 Axes>"
      ]
     },
     "metadata": {
      "needs_background": "light"
     },
     "output_type": "display_data"
    }
   ],
   "source": [
    "plt.figure(figsize = (5,3))\n",
    "sns.scatterplot(x=x_train[0],y=x_train[1],hue=y_pred)"
   ]
  },
  {
   "cell_type": "code",
   "execution_count": 32,
   "id": "4f6bec27",
   "metadata": {},
   "outputs": [
    {
     "data": {
      "text/plain": [
       "<AxesSubplot:xlabel='0', ylabel='1'>"
      ]
     },
     "execution_count": 32,
     "metadata": {},
     "output_type": "execute_result"
    },
    {
     "data": {
      "image/png": "[encoded data removed]",
      "text/plain": [
       "<Figure size 360x216 with 1 Axes>"
      ]
     },
     "metadata": {
      "needs_background": "light"
     },
     "output_type": "display_data"
    }
   ],
   "source": [
    "plt.figure(figsize = (5,3))\n",
    "sns.scatterplot(x=x_train[0],y=x_train[1],hue=y_train)"
   ]
  },
  {
   "cell_type": "code",
   "execution_count": 33,
   "id": "2448c12c",
   "metadata": {},
   "outputs": [],
   "source": [
    "from mlxtend.plotting import plot_decision_regions"
   ]
  },
  {
   "cell_type": "code",
   "execution_count": 34,
   "id": "336ebbd7",
   "metadata": {},
   "outputs": [
    {
     "name": "stdout",
     "output_type": "stream",
     "text": [
      "2430/2430 [==============================] - 3s 1ms/step\n"
     ]
    },
    {
     "data": {
      "text/plain": [
       "<AxesSubplot:>"
      ]
     },
     "execution_count": 34,
     "metadata": {},
     "output_type": "execute_result"
    },
    {
     "data": {
      "image/png": "[encoded data removed]",
      "text/plain": [
       "<Figure size 360x216 with 1 Axes>"
      ]
     },
     "metadata": {
      "needs_background": "light"
     },
     "output_type": "display_data"
    }
   ],
   "source": [
    "plt.figure(figsize = (5,3))\n",
    "plot_decision_regions(x_train[[0,1]].values,y_train.values.astype(int),clf=model)"
   ]
  },
  {
   "cell_type": "code",
   "execution_count": 36,
   "id": "cdfa97bf",
   "metadata": {},
   "outputs": [
    {
     "name": "stdout",
     "output_type": "stream",
     "text": [
      "2430/2430 [==============================] - 3s 1ms/step\n"
     ]
    },
    {
     "data": {
      "text/plain": [
       "<AxesSubplot:>"
      ]
     },
     "execution_count": 36,
     "metadata": {},
     "output_type": "execute_result"
    },
    {
     "data": {
      "image/png": "[encoded data removed]",
      "text/plain": [
       "<Figure size 360x216 with 1 Axes>"
      ]
     },
     "metadata": {
      "needs_background": "light"
     },
     "output_type": "display_data"
    }
   ],
   "source": [
    "plt.figure(figsize = (5,3))\n",
    "plot_decision_regions(x_train[[0,1]].values,y_pred.astype(int),clf=model)"
   ]
  },
  {
   "cell_type": "code",
   "execution_count": 37,
   "id": "42b18bab",
   "metadata": {},
   "outputs": [
    {
     "data": {
      "text/plain": [
       "0.9666666666666667"
      ]
     },
     "execution_count": 37,
     "metadata": {},
     "output_type": "execute_result"
    }
   ],
   "source": [
    "from sklearn import metrics\n",
    "metrics.accuracy_score(y_train, y_pred)"
   ]
  },
  {
   "cell_type": "code",
   "execution_count": null,
   "id": "727b6163",
   "metadata": {},
   "outputs": [],
   "source": []
  }
 ],
 "metadata": {
  "kernelspec": {
   "display_name": "Python 3 (ipykernel)",
   "language": "python",
   "name": "python3"
  },
  "language_info": {
   "codemirror_mode": {
    "name": "ipython",
    "version": 3
   },
   "file_extension": ".py",
   "mimetype": "text/x-python",
   "name": "python",
   "nbconvert_exporter": "python",
   "pygments_lexer": "ipython3",
   "version": "3.9.12"
  }
 },
 "nbformat": 4,
 "nbformat_minor": 5
}
