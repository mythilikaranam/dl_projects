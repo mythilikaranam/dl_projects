{
 "cells": [
  {
   "cell_type": "markdown",
   "id": "c8563ed8",
   "metadata": {},
   "source": [
    "**Single Neuron Model:**"
   ]
  },
  {
   "cell_type": "markdown",
   "id": "e91d5d72",
   "metadata": {},
   "source": [
    "**Importing Required Libraries**"
   ]
  },
  {
   "cell_type": "code",
   "execution_count": 9,
   "id": "71188e88",
   "metadata": {},
   "outputs": [],
   "source": [
    "import pandas as pd\n",
    "import numpy as np\n",
    "import matplotlib.pyplot as plt\n",
    "import seaborn as sns"
   ]
  },
  {
   "cell_type": "code",
   "execution_count": 5,
   "id": "2b33914e",
   "metadata": {},
   "outputs": [],
   "source": [
    "df=pd.read_csv(r\"C:\\Users\\mythi\\Downloads\\data\\data\\demo_data\\4.linearsep.csv\",header=None)"
   ]
  },
  {
   "cell_type": "code",
   "execution_count": 6,
   "id": "a246c12f",
   "metadata": {},
   "outputs": [
    {
     "data": {
      "text/html": [
       "<div>\n",
       "<style scoped>\n",
       "    .dataframe tbody tr th:only-of-type {\n",
       "        vertical-align: middle;\n",
       "    }\n",
       "\n",
       "    .dataframe tbody tr th {\n",
       "        vertical-align: top;\n",
       "    }\n",
       "\n",
       "    .dataframe thead th {\n",
       "        text-align: right;\n",
       "    }\n",
       "</style>\n",
       "<table border=\"1\" class=\"dataframe\">\n",
       "  <thead>\n",
       "    <tr style=\"text-align: right;\">\n",
       "      <th></th>\n",
       "      <th>0</th>\n",
       "      <th>1</th>\n",
       "      <th>2</th>\n",
       "    </tr>\n",
       "  </thead>\n",
       "  <tbody>\n",
       "    <tr>\n",
       "      <th>0</th>\n",
       "      <td>-0.177497</td>\n",
       "      <td>0.930496</td>\n",
       "      <td>1.0</td>\n",
       "    </tr>\n",
       "    <tr>\n",
       "      <th>1</th>\n",
       "      <td>1.977424</td>\n",
       "      <td>1.766155</td>\n",
       "      <td>0.0</td>\n",
       "    </tr>\n",
       "    <tr>\n",
       "      <th>2</th>\n",
       "      <td>1.800024</td>\n",
       "      <td>1.700343</td>\n",
       "      <td>0.0</td>\n",
       "    </tr>\n",
       "    <tr>\n",
       "      <th>3</th>\n",
       "      <td>-0.770837</td>\n",
       "      <td>2.359163</td>\n",
       "      <td>1.0</td>\n",
       "    </tr>\n",
       "    <tr>\n",
       "      <th>4</th>\n",
       "      <td>-0.308009</td>\n",
       "      <td>1.594063</td>\n",
       "      <td>1.0</td>\n",
       "    </tr>\n",
       "  </tbody>\n",
       "</table>\n",
       "</div>"
      ],
      "text/plain": [
       "          0         1    2\n",
       "0 -0.177497  0.930496  1.0\n",
       "1  1.977424  1.766155  0.0\n",
       "2  1.800024  1.700343  0.0\n",
       "3 -0.770837  2.359163  1.0\n",
       "4 -0.308009  1.594063  1.0"
      ]
     },
     "execution_count": 6,
     "metadata": {},
     "output_type": "execute_result"
    }
   ],
   "source": [
    "df.head()"
   ]
  },
  {
   "cell_type": "code",
   "execution_count": 7,
   "id": "f2bb0738",
   "metadata": {},
   "outputs": [
    {
     "name": "stdout",
     "output_type": "stream",
     "text": [
      "<class 'pandas.core.frame.DataFrame'>\n",
      "RangeIndex: 100 entries, 0 to 99\n",
      "Data columns (total 3 columns):\n",
      " #   Column  Non-Null Count  Dtype  \n",
      "---  ------  --------------  -----  \n",
      " 0   0       100 non-null    float64\n",
      " 1   1       100 non-null    float64\n",
      " 2   2       100 non-null    float64\n",
      "dtypes: float64(3)\n",
      "memory usage: 2.5 KB\n"
     ]
    }
   ],
   "source": [
    "df.info()"
   ]
  },
  {
   "cell_type": "code",
   "execution_count": 8,
   "id": "c55ba270",
   "metadata": {},
   "outputs": [
    {
     "data": {
      "text/plain": [
       "1.0    50.0\n",
       "0.0    50.0\n",
       "Name: 2, dtype: float64"
      ]
     },
     "execution_count": 8,
     "metadata": {},
     "output_type": "execute_result"
    }
   ],
   "source": [
    "df[2].value_counts(normalize=True)*100"
   ]
  },
  {
   "cell_type": "code",
   "execution_count": 11,
   "id": "216aeae9",
   "metadata": {},
   "outputs": [
    {
     "data": {
      "text/plain": [
       "<AxesSubplot:xlabel='0', ylabel='1'>"
      ]
     },
     "execution_count": 11,
     "metadata": {},
     "output_type": "execute_result"
    },
    {
     "data": {
      "image/png": "[encoded data removed]",
      "text/plain": [
       "<Figure size 360x216 with 1 Axes>"
      ]
     },
     "metadata": {
      "needs_background": "light"
     },
     "output_type": "display_data"
    }
   ],
   "source": [
    "plt.figure(figsize=(5,3))\n",
    "sns.scatterplot(x=df[0],y=df[1],hue=df[2])"
   ]
  },
  {
   "cell_type": "markdown",
   "id": "e5e0b0d0",
   "metadata": {},
   "source": [
    "**Separating train and test data**"
   ]
  },
  {
   "cell_type": "code",
   "execution_count": 13,
   "id": "02d778d2",
   "metadata": {},
   "outputs": [],
   "source": [
    "from sklearn.model_selection import train_test_split\n",
    "x_train,x_test,y_train,y_test=train_test_split(df[[0,1]],df[2],train_size=0.9)"
   ]
  },
  {
   "cell_type": "code",
   "execution_count": 14,
   "id": "c4a0f5be",
   "metadata": {},
   "outputs": [
    {
     "name": "stdout",
     "output_type": "stream",
     "text": [
      "(90, 2) (90,)\n",
      "(10, 2) (10,)\n"
     ]
    }
   ],
   "source": [
    "#Shape of 'x_train' and 'y_train'\n",
    "\n",
    "print(x_train.shape,y_train.shape)\n",
    "\n",
    "#Shape of 'x_test' and 'y_test'\n",
    "\n",
    "print(x_test.shape,y_test.shape)"
   ]
  },
  {
   "cell_type": "markdown",
   "id": "e41d71a8",
   "metadata": {},
   "source": [
    "**Standardizing the data**"
   ]
  },
  {
   "cell_type": "code",
   "execution_count": 15,
   "id": "a48300c4",
   "metadata": {},
   "outputs": [],
   "source": [
    "from sklearn.preprocessing import StandardScaler\n",
    "std=StandardScaler()"
   ]
  },
  {
   "cell_type": "code",
   "execution_count": 16,
   "id": "8ffccfc5",
   "metadata": {},
   "outputs": [],
   "source": [
    "std_train=std.fit_transform(x_train)"
   ]
  },
  {
   "cell_type": "code",
   "execution_count": 17,
   "id": "1fe46cee",
   "metadata": {
    "scrolled": true
   },
   "outputs": [
    {
     "data": {
      "text/plain": [
       "array([[ 1.61684634, -0.0110719 ],\n",
       "       [ 0.81035101, -1.00950693],\n",
       "       [ 0.29112241,  0.79025072],\n",
       "       [-0.73380062, -0.21892166],\n",
       "       [ 1.29345273,  0.91712638],\n",
       "       [-0.44658836,  1.17919795],\n",
       "       [ 0.91571517, -0.12473867],\n",
       "       [-0.29950359, -1.68073672],\n",
       "       [-1.30979232,  0.06590541],\n",
       "       [-2.11148389, -0.89353422],\n",
       "       [ 1.49647126, -0.38170899],\n",
       "       [-1.10895669, -1.10893205],\n",
       "       [-1.53421788,  1.32599526],\n",
       "       [-1.09279462,  0.23944844],\n",
       "       [-0.17584236,  0.83684959],\n",
       "       [ 0.20562265,  0.52300656],\n",
       "       [ 0.98837772,  1.08886913],\n",
       "       [ 0.59450346,  0.24008282],\n",
       "       [ 0.62161583,  0.31071304],\n",
       "       [-0.91654187, -1.35212051],\n",
       "       [-0.1239478 ,  0.35334641],\n",
       "       [ 0.81610552,  2.60723561],\n",
       "       [ 0.61578295, -0.79237439],\n",
       "       [ 0.32814488, -0.56489409],\n",
       "       [ 1.3870174 , -1.23596785],\n",
       "       [-2.04820605, -0.82511126],\n",
       "       [-0.89582541,  0.00627992],\n",
       "       [-0.01588543,  0.40629738],\n",
       "       [ 0.41791511, -1.84753523],\n",
       "       [ 0.80345551,  0.37113351],\n",
       "       [-1.29901785, -0.65072173],\n",
       "       [-0.21164335, -0.04440384],\n",
       "       [ 1.71055662,  0.38869928],\n",
       "       [ 0.43468188, -1.01091452],\n",
       "       [-1.017384  ,  0.23327949],\n",
       "       [ 0.98374932, -0.35859941],\n",
       "       [ 0.05655337,  1.08407122],\n",
       "       [-1.12291367, -1.24062851],\n",
       "       [-0.46695025, -0.76303125],\n",
       "       [-1.28570778,  0.72795027],\n",
       "       [-0.70049477, -0.10093733],\n",
       "       [-0.52377702, -0.85846855],\n",
       "       [ 0.84298716,  1.24808572],\n",
       "       [-0.91497157, -0.37219067],\n",
       "       [ 0.71100562, -0.10402789],\n",
       "       [ 0.7736133 , -0.21937073],\n",
       "       [ 1.82192888,  0.59667186],\n",
       "       [-0.98119516,  0.40164599],\n",
       "       [-0.98732147,  0.18899721],\n",
       "       [-1.99800077, -0.56045319],\n",
       "       [-0.10547147, -0.71304613],\n",
       "       [ 0.8370538 , -0.18733373],\n",
       "       [ 0.68081319, -1.14732512],\n",
       "       [-0.87310457, -0.201442  ],\n",
       "       [ 0.6911171 ,  2.33554798],\n",
       "       [ 0.36584843,  1.29272056],\n",
       "       [ 1.17012953,  2.93299658],\n",
       "       [-1.53190942, -0.64911535],\n",
       "       [-0.4170726 , -0.72129032],\n",
       "       [-1.68295888, -1.00199175],\n",
       "       [-0.59993645, -0.18699177],\n",
       "       [-1.02695693,  1.91427906],\n",
       "       [-0.77397875,  0.12534545],\n",
       "       [ 1.08203801, -1.48135494],\n",
       "       [ 0.24989384,  0.31285866],\n",
       "       [ 0.63672535, -1.39652675],\n",
       "       [ 0.82749688, -0.95761346],\n",
       "       [-0.12904246, -1.10597994],\n",
       "       [-0.41811018,  0.565309  ],\n",
       "       [ 1.66153567,  1.56542587],\n",
       "       [ 1.44035188, -0.83628586],\n",
       "       [-0.67278975, -1.05328669],\n",
       "       [ 1.16307538,  0.2184843 ],\n",
       "       [ 0.2433421 ,  1.4043211 ],\n",
       "       [-1.06903214,  0.24178312],\n",
       "       [ 0.46826547,  1.03333492],\n",
       "       [-0.18502026,  0.47931806],\n",
       "       [-1.30177099, -0.29052914],\n",
       "       [-0.81042798, -1.32633626],\n",
       "       [ 0.80447992, -1.33183501],\n",
       "       [ 0.85120048,  0.58600533],\n",
       "       [ 1.49323388,  2.43928677],\n",
       "       [-1.05372263, -0.08838511],\n",
       "       [ 0.44133548, -0.03858364],\n",
       "       [-1.33701551,  0.72726765],\n",
       "       [ 1.28326745, -0.59703345],\n",
       "       [-0.75969086, -1.43355027],\n",
       "       [-0.1794514 ,  0.44897546],\n",
       "       [ 1.28419129, -0.72981159],\n",
       "       [ 1.03725654,  1.05215133]])"
      ]
     },
     "execution_count": 17,
     "metadata": {},
     "output_type": "execute_result"
    }
   ],
   "source": [
    "std_train"
   ]
  },
  {
   "cell_type": "code",
   "execution_count": 18,
   "id": "95ff418b",
   "metadata": {},
   "outputs": [],
   "source": [
    "std_test=std.transform(x_test)"
   ]
  },
  {
   "cell_type": "code",
   "execution_count": 19,
   "id": "0820c0e2",
   "metadata": {},
   "outputs": [
    {
     "data": {
      "text/plain": [
       "array([[ 1.81895927, -0.16233838],\n",
       "       [ 0.42808501,  0.41230283],\n",
       "       [ 1.12066648,  1.86914351],\n",
       "       [ 0.93516749, -1.08458593],\n",
       "       [ 1.13432324,  1.82401807],\n",
       "       [ 0.29239187, -0.03751738],\n",
       "       [ 1.317862  , -0.74586384],\n",
       "       [-0.44062982,  1.13885461],\n",
       "       [ 0.68086131, -1.16725398],\n",
       "       [ 0.45219068, -1.66790455]])"
      ]
     },
     "execution_count": 19,
     "metadata": {},
     "output_type": "execute_result"
    }
   ],
   "source": [
    "std_test"
   ]
  },
  {
   "cell_type": "markdown",
   "id": "8066ed7c",
   "metadata": {},
   "source": [
    "**Creating 1st Model**"
   ]
  },
  {
   "cell_type": "markdown",
   "id": "e2ccc702",
   "metadata": {},
   "source": [
    "**Creating Dense Layers**"
   ]
  },
  {
   "cell_type": "code",
   "execution_count": 20,
   "id": "64b2af46",
   "metadata": {},
   "outputs": [],
   "source": [
    "import tensorflow\n",
    "from tensorflow.keras import Sequential\n",
    "from tensorflow.keras.layers import Dense"
   ]
  },
  {
   "cell_type": "code",
   "execution_count": 65,
   "id": "a2284693",
   "metadata": {},
   "outputs": [],
   "source": [
    "model1 = Sequential()\n",
    "model1.add(Dense(1, activation = 'relu', input_dim = 2, kernel_initializer='he_uniform'))\n",
    "model1.add(Dense(1, activation = 'relu', kernel_initializer='he_uniform'))\n",
    "model1.add(Dense(1, activation = 'relu', kernel_initializer='he_uniform'))\n",
    "model1.add(Dense(1, activation = 'sigmoid'))"
   ]
  },
  {
   "cell_type": "code",
   "execution_count": 66,
   "id": "93337afb",
   "metadata": {},
   "outputs": [
    {
     "name": "stdout",
     "output_type": "stream",
     "text": [
      "Model: \"sequential_7\"\n",
      "_________________________________________________________________\n",
      " Layer (type)                Output Shape              Param #   \n",
      "=================================================================\n",
      " dense_28 (Dense)            (None, 1)                 3         \n",
      "                                                                 \n",
      " dense_29 (Dense)            (None, 1)                 2         \n",
      "                                                                 \n",
      " dense_30 (Dense)            (None, 1)                 2         \n",
      "                                                                 \n",
      " dense_31 (Dense)            (None, 1)                 2         \n",
      "                                                                 \n",
      "=================================================================\n",
      "Total params: 9\n",
      "Trainable params: 9\n",
      "Non-trainable params: 0\n",
      "_________________________________________________________________\n"
     ]
    }
   ],
   "source": [
    "model1.summary()"
   ]
  },
  {
   "cell_type": "markdown",
   "id": "0caf6bec",
   "metadata": {},
   "source": [
    "**Compile**"
   ]
  },
  {
   "cell_type": "code",
   "execution_count": 67,
   "id": "b5fa1173",
   "metadata": {},
   "outputs": [],
   "source": [
    "model1.compile(optimizer='SGD', loss = 'binary_crossentropy', metrics = ['accuracy'])"
   ]
  },
  {
   "cell_type": "markdown",
   "id": "c9e0d4f5",
   "metadata": {},
   "source": [
    "**Fitting**"
   ]
  },
  {
   "cell_type": "code",
   "execution_count": 69,
   "id": "ae2b7f72",
   "metadata": {},
   "outputs": [
    {
     "name": "stdout",
     "output_type": "stream",
     "text": [
      "Epoch 1/100\n",
      "9/9 [==============================] - 1s 22ms/step - loss: 0.6932 - accuracy: 0.5062 - val_loss: 0.6935 - val_accuracy: 0.4444\n",
      "Epoch 2/100\n",
      "9/9 [==============================] - 0s 4ms/step - loss: 0.6929 - accuracy: 0.5309 - val_loss: 0.6934 - val_accuracy: 0.4444\n",
      "Epoch 3/100\n",
      "9/9 [==============================] - 0s 6ms/step - loss: 0.6931 - accuracy: 0.5309 - val_loss: 0.6938 - val_accuracy: 0.4444\n",
      "Epoch 4/100\n",
      "9/9 [==============================] - 0s 6ms/step - loss: 0.6930 - accuracy: 0.5309 - val_loss: 0.6937 - val_accuracy: 0.4444\n",
      "Epoch 5/100\n",
      "9/9 [==============================] - 0s 4ms/step - loss: 0.6931 - accuracy: 0.5309 - val_loss: 0.6935 - val_accuracy: 0.4444\n",
      "Epoch 6/100\n",
      "9/9 [==============================] - 0s 4ms/step - loss: 0.6933 - accuracy: 0.5309 - val_loss: 0.6939 - val_accuracy: 0.4444\n",
      "Epoch 7/100\n",
      "9/9 [==============================] - 0s 4ms/step - loss: 0.6929 - accuracy: 0.5309 - val_loss: 0.6943 - val_accuracy: 0.4444\n",
      "Epoch 8/100\n",
      "9/9 [==============================] - 0s 6ms/step - loss: 0.6928 - accuracy: 0.5309 - val_loss: 0.6947 - val_accuracy: 0.4444\n",
      "Epoch 9/100\n",
      "9/9 [==============================] - 0s 6ms/step - loss: 0.6924 - accuracy: 0.5309 - val_loss: 0.6952 - val_accuracy: 0.4444\n",
      "Epoch 10/100\n",
      "9/9 [==============================] - 0s 6ms/step - loss: 0.6923 - accuracy: 0.5309 - val_loss: 0.6950 - val_accuracy: 0.4444\n",
      "Epoch 11/100\n",
      "9/9 [==============================] - 0s 4ms/step - loss: 0.6924 - accuracy: 0.5309 - val_loss: 0.6954 - val_accuracy: 0.4444\n",
      "Epoch 12/100\n",
      "9/9 [==============================] - 0s 6ms/step - loss: 0.6923 - accuracy: 0.5309 - val_loss: 0.6958 - val_accuracy: 0.4444\n",
      "Epoch 13/100\n",
      "9/9 [==============================] - 0s 10ms/step - loss: 0.6921 - accuracy: 0.5309 - val_loss: 0.6956 - val_accuracy: 0.4444\n",
      "Epoch 14/100\n",
      "9/9 [==============================] - 0s 5ms/step - loss: 0.6923 - accuracy: 0.5309 - val_loss: 0.6960 - val_accuracy: 0.4444\n",
      "Epoch 15/100\n",
      "9/9 [==============================] - 0s 6ms/step - loss: 0.6920 - accuracy: 0.5309 - val_loss: 0.6964 - val_accuracy: 0.4444\n",
      "Epoch 16/100\n",
      "9/9 [==============================] - 0s 4ms/step - loss: 0.6920 - accuracy: 0.5309 - val_loss: 0.6968 - val_accuracy: 0.4444\n",
      "Epoch 17/100\n",
      "9/9 [==============================] - 0s 4ms/step - loss: 0.6920 - accuracy: 0.5309 - val_loss: 0.6972 - val_accuracy: 0.4444\n",
      "Epoch 18/100\n",
      "9/9 [==============================] - 0s 6ms/step - loss: 0.6918 - accuracy: 0.5309 - val_loss: 0.6976 - val_accuracy: 0.4444\n",
      "Epoch 19/100\n",
      "9/9 [==============================] - 0s 6ms/step - loss: 0.6917 - accuracy: 0.5309 - val_loss: 0.6980 - val_accuracy: 0.4444\n",
      "Epoch 20/100\n",
      "9/9 [==============================] - 0s 5ms/step - loss: 0.6916 - accuracy: 0.5309 - val_loss: 0.6984 - val_accuracy: 0.4444\n",
      "Epoch 21/100\n",
      "9/9 [==============================] - 0s 6ms/step - loss: 0.6915 - accuracy: 0.5309 - val_loss: 0.6981 - val_accuracy: 0.4444\n",
      "Epoch 22/100\n",
      "9/9 [==============================] - 0s 6ms/step - loss: 0.6916 - accuracy: 0.5309 - val_loss: 0.6978 - val_accuracy: 0.4444\n",
      "Epoch 23/100\n",
      "9/9 [==============================] - 0s 4ms/step - loss: 0.6916 - accuracy: 0.5309 - val_loss: 0.6976 - val_accuracy: 0.4444\n",
      "Epoch 24/100\n",
      "9/9 [==============================] - 0s 8ms/step - loss: 0.6919 - accuracy: 0.5309 - val_loss: 0.6973 - val_accuracy: 0.4444\n",
      "Epoch 25/100\n",
      "9/9 [==============================] - 0s 6ms/step - loss: 0.6917 - accuracy: 0.5309 - val_loss: 0.6971 - val_accuracy: 0.4444\n",
      "Epoch 26/100\n",
      "9/9 [==============================] - 0s 5ms/step - loss: 0.6919 - accuracy: 0.5309 - val_loss: 0.6968 - val_accuracy: 0.4444\n",
      "Epoch 27/100\n",
      "9/9 [==============================] - 0s 4ms/step - loss: 0.6919 - accuracy: 0.5309 - val_loss: 0.6972 - val_accuracy: 0.4444\n",
      "Epoch 28/100\n",
      "9/9 [==============================] - 0s 6ms/step - loss: 0.6917 - accuracy: 0.5309 - val_loss: 0.6976 - val_accuracy: 0.4444\n",
      "Epoch 29/100\n",
      "9/9 [==============================] - 0s 6ms/step - loss: 0.6917 - accuracy: 0.5309 - val_loss: 0.6974 - val_accuracy: 0.4444\n",
      "Epoch 30/100\n",
      "9/9 [==============================] - 0s 6ms/step - loss: 0.6917 - accuracy: 0.5309 - val_loss: 0.6971 - val_accuracy: 0.4444\n",
      "Epoch 31/100\n",
      "9/9 [==============================] - 0s 8ms/step - loss: 0.6918 - accuracy: 0.5309 - val_loss: 0.6969 - val_accuracy: 0.4444\n",
      "Epoch 32/100\n",
      "9/9 [==============================] - 0s 6ms/step - loss: 0.6919 - accuracy: 0.5309 - val_loss: 0.6966 - val_accuracy: 0.4444\n",
      "Epoch 33/100\n",
      "9/9 [==============================] - 0s 6ms/step - loss: 0.6919 - accuracy: 0.5309 - val_loss: 0.6970 - val_accuracy: 0.4444\n",
      "Epoch 34/100\n",
      "9/9 [==============================] - 0s 7ms/step - loss: 0.6918 - accuracy: 0.5309 - val_loss: 0.6974 - val_accuracy: 0.4444\n",
      "Epoch 35/100\n",
      "9/9 [==============================] - 0s 6ms/step - loss: 0.6918 - accuracy: 0.5309 - val_loss: 0.6978 - val_accuracy: 0.4444\n",
      "Epoch 36/100\n",
      "9/9 [==============================] - 0s 6ms/step - loss: 0.6917 - accuracy: 0.5309 - val_loss: 0.6982 - val_accuracy: 0.4444\n",
      "Epoch 37/100\n",
      "9/9 [==============================] - 0s 6ms/step - loss: 0.6916 - accuracy: 0.5309 - val_loss: 0.6986 - val_accuracy: 0.4444\n",
      "Epoch 38/100\n",
      "9/9 [==============================] - 0s 8ms/step - loss: 0.6916 - accuracy: 0.5309 - val_loss: 0.6983 - val_accuracy: 0.4444\n",
      "Epoch 39/100\n",
      "9/9 [==============================] - 0s 7ms/step - loss: 0.6916 - accuracy: 0.5309 - val_loss: 0.6987 - val_accuracy: 0.4444\n",
      "Epoch 40/100\n",
      "9/9 [==============================] - 0s 4ms/step - loss: 0.6915 - accuracy: 0.5309 - val_loss: 0.6991 - val_accuracy: 0.4444\n",
      "Epoch 41/100\n",
      "9/9 [==============================] - 0s 6ms/step - loss: 0.6915 - accuracy: 0.5309 - val_loss: 0.6995 - val_accuracy: 0.4444\n",
      "Epoch 42/100\n",
      "9/9 [==============================] - 0s 4ms/step - loss: 0.6915 - accuracy: 0.5309 - val_loss: 0.6999 - val_accuracy: 0.4444\n",
      "Epoch 43/100\n",
      "9/9 [==============================] - 0s 4ms/step - loss: 0.6914 - accuracy: 0.5309 - val_loss: 0.7003 - val_accuracy: 0.4444\n",
      "Epoch 44/100\n",
      "9/9 [==============================] - 0s 4ms/step - loss: 0.6915 - accuracy: 0.5309 - val_loss: 0.7007 - val_accuracy: 0.4444\n",
      "Epoch 45/100\n",
      "9/9 [==============================] - 0s 6ms/step - loss: 0.6914 - accuracy: 0.5309 - val_loss: 0.7003 - val_accuracy: 0.4444\n",
      "Epoch 46/100\n",
      "9/9 [==============================] - 0s 6ms/step - loss: 0.6913 - accuracy: 0.5309 - val_loss: 0.6999 - val_accuracy: 0.4444\n",
      "Epoch 47/100\n",
      "9/9 [==============================] - 0s 4ms/step - loss: 0.6914 - accuracy: 0.5309 - val_loss: 0.6996 - val_accuracy: 0.4444\n",
      "Epoch 48/100\n",
      "9/9 [==============================] - 0s 6ms/step - loss: 0.6915 - accuracy: 0.5309 - val_loss: 0.6993 - val_accuracy: 0.4444\n",
      "Epoch 49/100\n",
      "9/9 [==============================] - 0s 4ms/step - loss: 0.6915 - accuracy: 0.5309 - val_loss: 0.6997 - val_accuracy: 0.4444\n",
      "Epoch 50/100\n",
      "9/9 [==============================] - 0s 4ms/step - loss: 0.6914 - accuracy: 0.5309 - val_loss: 0.7001 - val_accuracy: 0.4444\n",
      "Epoch 51/100\n",
      "9/9 [==============================] - 0s 4ms/step - loss: 0.6914 - accuracy: 0.5309 - val_loss: 0.7004 - val_accuracy: 0.4444\n",
      "Epoch 52/100\n",
      "9/9 [==============================] - 0s 6ms/step - loss: 0.6913 - accuracy: 0.5309 - val_loss: 0.7001 - val_accuracy: 0.4444\n",
      "Epoch 53/100\n",
      "9/9 [==============================] - 0s 6ms/step - loss: 0.6914 - accuracy: 0.5309 - val_loss: 0.6997 - val_accuracy: 0.4444\n",
      "Epoch 54/100\n",
      "9/9 [==============================] - 0s 6ms/step - loss: 0.6914 - accuracy: 0.5309 - val_loss: 0.7001 - val_accuracy: 0.4444\n",
      "Epoch 55/100\n",
      "9/9 [==============================] - 0s 6ms/step - loss: 0.6914 - accuracy: 0.5309 - val_loss: 0.6998 - val_accuracy: 0.4444\n",
      "Epoch 56/100\n",
      "9/9 [==============================] - 0s 6ms/step - loss: 0.6915 - accuracy: 0.5309 - val_loss: 0.6994 - val_accuracy: 0.4444\n",
      "Epoch 57/100\n",
      "9/9 [==============================] - 0s 6ms/step - loss: 0.6915 - accuracy: 0.5309 - val_loss: 0.6998 - val_accuracy: 0.4444\n",
      "Epoch 58/100\n",
      "9/9 [==============================] - 0s 4ms/step - loss: 0.6914 - accuracy: 0.5309 - val_loss: 0.7002 - val_accuracy: 0.4444\n",
      "Epoch 59/100\n"
     ]
    },
    {
     "name": "stdout",
     "output_type": "stream",
     "text": [
      "9/9 [==============================] - 0s 4ms/step - loss: 0.6914 - accuracy: 0.5309 - val_loss: 0.7006 - val_accuracy: 0.4444\n",
      "Epoch 60/100\n",
      "9/9 [==============================] - 0s 6ms/step - loss: 0.6914 - accuracy: 0.5309 - val_loss: 0.7010 - val_accuracy: 0.4444\n",
      "Epoch 61/100\n",
      "9/9 [==============================] - 0s 6ms/step - loss: 0.6913 - accuracy: 0.5309 - val_loss: 0.7014 - val_accuracy: 0.4444\n",
      "Epoch 62/100\n",
      "9/9 [==============================] - 0s 6ms/step - loss: 0.6914 - accuracy: 0.5309 - val_loss: 0.7017 - val_accuracy: 0.4444\n",
      "Epoch 63/100\n",
      "9/9 [==============================] - 0s 6ms/step - loss: 0.6913 - accuracy: 0.5309 - val_loss: 0.7021 - val_accuracy: 0.4444\n",
      "Epoch 64/100\n",
      "9/9 [==============================] - 0s 6ms/step - loss: 0.6914 - accuracy: 0.5309 - val_loss: 0.7017 - val_accuracy: 0.4444\n",
      "Epoch 65/100\n",
      "9/9 [==============================] - 0s 6ms/step - loss: 0.6914 - accuracy: 0.5309 - val_loss: 0.7013 - val_accuracy: 0.4444\n",
      "Epoch 66/100\n",
      "9/9 [==============================] - 0s 6ms/step - loss: 0.6913 - accuracy: 0.5309 - val_loss: 0.7017 - val_accuracy: 0.4444\n",
      "Epoch 67/100\n",
      "9/9 [==============================] - 0s 4ms/step - loss: 0.6914 - accuracy: 0.5309 - val_loss: 0.7020 - val_accuracy: 0.4444\n",
      "Epoch 68/100\n",
      "9/9 [==============================] - 0s 6ms/step - loss: 0.6914 - accuracy: 0.5309 - val_loss: 0.7016 - val_accuracy: 0.4444\n",
      "Epoch 69/100\n",
      "9/9 [==============================] - 0s 6ms/step - loss: 0.6914 - accuracy: 0.5309 - val_loss: 0.7020 - val_accuracy: 0.4444\n",
      "Epoch 70/100\n",
      "9/9 [==============================] - 0s 6ms/step - loss: 0.6913 - accuracy: 0.5309 - val_loss: 0.7016 - val_accuracy: 0.4444\n",
      "Epoch 71/100\n",
      "9/9 [==============================] - 0s 6ms/step - loss: 0.6913 - accuracy: 0.5309 - val_loss: 0.7019 - val_accuracy: 0.4444\n",
      "Epoch 72/100\n",
      "9/9 [==============================] - 0s 6ms/step - loss: 0.6913 - accuracy: 0.5309 - val_loss: 0.7015 - val_accuracy: 0.4444\n",
      "Epoch 73/100\n",
      "9/9 [==============================] - 0s 6ms/step - loss: 0.6913 - accuracy: 0.5309 - val_loss: 0.7011 - val_accuracy: 0.4444\n",
      "Epoch 74/100\n",
      "9/9 [==============================] - 0s 6ms/step - loss: 0.6913 - accuracy: 0.5309 - val_loss: 0.7008 - val_accuracy: 0.4444\n",
      "Epoch 75/100\n",
      "9/9 [==============================] - 0s 6ms/step - loss: 0.6913 - accuracy: 0.5309 - val_loss: 0.7011 - val_accuracy: 0.4444\n",
      "Epoch 76/100\n",
      "9/9 [==============================] - 0s 8ms/step - loss: 0.6913 - accuracy: 0.5309 - val_loss: 0.7008 - val_accuracy: 0.4444\n",
      "Epoch 77/100\n",
      "9/9 [==============================] - 0s 6ms/step - loss: 0.6915 - accuracy: 0.5309 - val_loss: 0.7004 - val_accuracy: 0.4444\n",
      "Epoch 78/100\n",
      "9/9 [==============================] - 0s 6ms/step - loss: 0.6915 - accuracy: 0.5309 - val_loss: 0.7000 - val_accuracy: 0.4444\n",
      "Epoch 79/100\n",
      "9/9 [==============================] - 0s 6ms/step - loss: 0.6914 - accuracy: 0.5309 - val_loss: 0.7004 - val_accuracy: 0.4444\n",
      "Epoch 80/100\n",
      "9/9 [==============================] - 0s 6ms/step - loss: 0.6913 - accuracy: 0.5309 - val_loss: 0.7008 - val_accuracy: 0.4444\n",
      "Epoch 81/100\n",
      "9/9 [==============================] - 0s 6ms/step - loss: 0.6915 - accuracy: 0.5309 - val_loss: 0.7012 - val_accuracy: 0.4444\n",
      "Epoch 82/100\n",
      "9/9 [==============================] - 0s 6ms/step - loss: 0.6913 - accuracy: 0.5309 - val_loss: 0.7015 - val_accuracy: 0.4444\n",
      "Epoch 83/100\n",
      "9/9 [==============================] - 0s 6ms/step - loss: 0.6914 - accuracy: 0.5309 - val_loss: 0.7011 - val_accuracy: 0.4444\n",
      "Epoch 84/100\n",
      "9/9 [==============================] - 0s 6ms/step - loss: 0.6913 - accuracy: 0.5309 - val_loss: 0.7008 - val_accuracy: 0.4444\n",
      "Epoch 85/100\n",
      "9/9 [==============================] - 0s 4ms/step - loss: 0.6914 - accuracy: 0.5309 - val_loss: 0.7011 - val_accuracy: 0.4444\n",
      "Epoch 86/100\n",
      "9/9 [==============================] - 0s 4ms/step - loss: 0.6913 - accuracy: 0.5309 - val_loss: 0.7008 - val_accuracy: 0.4444\n",
      "Epoch 87/100\n",
      "9/9 [==============================] - 0s 6ms/step - loss: 0.6915 - accuracy: 0.5309 - val_loss: 0.7011 - val_accuracy: 0.4444\n",
      "Epoch 88/100\n",
      "9/9 [==============================] - 0s 6ms/step - loss: 0.6914 - accuracy: 0.5309 - val_loss: 0.7015 - val_accuracy: 0.4444\n",
      "Epoch 89/100\n",
      "9/9 [==============================] - 0s 6ms/step - loss: 0.6915 - accuracy: 0.5309 - val_loss: 0.7011 - val_accuracy: 0.4444\n",
      "Epoch 90/100\n",
      "9/9 [==============================] - 0s 6ms/step - loss: 0.6914 - accuracy: 0.5309 - val_loss: 0.7015 - val_accuracy: 0.4444\n",
      "Epoch 91/100\n",
      "9/9 [==============================] - 0s 4ms/step - loss: 0.6913 - accuracy: 0.5309 - val_loss: 0.7019 - val_accuracy: 0.4444\n",
      "Epoch 92/100\n",
      "9/9 [==============================] - 0s 8ms/step - loss: 0.6914 - accuracy: 0.5309 - val_loss: 0.7015 - val_accuracy: 0.4444\n",
      "Epoch 93/100\n",
      "9/9 [==============================] - 0s 8ms/step - loss: 0.6913 - accuracy: 0.5309 - val_loss: 0.7018 - val_accuracy: 0.4444\n",
      "Epoch 94/100\n",
      "9/9 [==============================] - 0s 8ms/step - loss: 0.6913 - accuracy: 0.5309 - val_loss: 0.7014 - val_accuracy: 0.4444\n",
      "Epoch 95/100\n",
      "9/9 [==============================] - 0s 6ms/step - loss: 0.6913 - accuracy: 0.5309 - val_loss: 0.7018 - val_accuracy: 0.4444\n",
      "Epoch 96/100\n",
      "9/9 [==============================] - 0s 6ms/step - loss: 0.6913 - accuracy: 0.5309 - val_loss: 0.7022 - val_accuracy: 0.4444\n",
      "Epoch 97/100\n",
      "9/9 [==============================] - 0s 6ms/step - loss: 0.6913 - accuracy: 0.5309 - val_loss: 0.7025 - val_accuracy: 0.4444\n",
      "Epoch 98/100\n",
      "9/9 [==============================] - 0s 4ms/step - loss: 0.6914 - accuracy: 0.5309 - val_loss: 0.7029 - val_accuracy: 0.4444\n",
      "Epoch 99/100\n",
      "9/9 [==============================] - 0s 6ms/step - loss: 0.6913 - accuracy: 0.5309 - val_loss: 0.7024 - val_accuracy: 0.4444\n",
      "Epoch 100/100\n",
      "9/9 [==============================] - 0s 5ms/step - loss: 0.6914 - accuracy: 0.5309 - val_loss: 0.7028 - val_accuracy: 0.4444\n"
     ]
    }
   ],
   "source": [
    "save = model1.fit(x_train, y_train,batch_size=10, epochs = 100, validation_split= 0.1)"
   ]
  },
  {
   "cell_type": "code",
   "execution_count": 70,
   "id": "786d53cf",
   "metadata": {},
   "outputs": [],
   "source": [
    "tl=save.history[\"loss\"]\n",
    "cvl=save.history[\"val_loss\"]"
   ]
  },
  {
   "cell_type": "code",
   "execution_count": 71,
   "id": "1ee5da04",
   "metadata": {},
   "outputs": [
    {
     "data": {
      "text/plain": [
       "<matplotlib.legend.Legend at 0x1d884d2ba30>"
      ]
     },
     "execution_count": 71,
     "metadata": {},
     "output_type": "execute_result"
    },
    {
     "data": {
      "image/png": "[encoded data removed]",
      "text/plain": [
       "<Figure size 432x288 with 1 Axes>"
      ]
     },
     "metadata": {
      "needs_background": "light"
     },
     "output_type": "display_data"
    }
   ],
   "source": [
    "plt.plot(tl,label=\"training_loss\")\n",
    "plt.plot(cvl,label=\"crossval_loss\")\n",
    "plt.legend()"
   ]
  },
  {
   "cell_type": "code",
   "execution_count": 72,
   "id": "e367814b",
   "metadata": {},
   "outputs": [
    {
     "name": "stdout",
     "output_type": "stream",
     "text": [
      "1/1 [==============================] - 0s 31ms/step - loss: 0.7221 - accuracy: 0.3000\n"
     ]
    }
   ],
   "source": [
    "y_testpred=model1.evaluate(x_test,y_test)"
   ]
  },
  {
   "cell_type": "code",
   "execution_count": 73,
   "id": "e3db5412",
   "metadata": {},
   "outputs": [
    {
     "data": {
      "text/plain": [
       "[0.7220791578292847, 0.30000001192092896]"
      ]
     },
     "execution_count": 73,
     "metadata": {},
     "output_type": "execute_result"
    }
   ],
   "source": [
    "y_testpred"
   ]
  },
  {
   "cell_type": "markdown",
   "id": "60b96de1",
   "metadata": {},
   "source": [
    "**Creating 2nd Model**"
   ]
  },
  {
   "cell_type": "markdown",
   "id": "a9924554",
   "metadata": {},
   "source": [
    "**Creating Dense Layers**"
   ]
  },
  {
   "cell_type": "code",
   "execution_count": 74,
   "id": "a4ffee5f",
   "metadata": {},
   "outputs": [],
   "source": [
    "model2=Sequential()\n",
    "model2.add(Dense(1,activation=\"tanh\",input_dim=2))\n",
    "model2.add(Dense(1,activation=\"tanh\"))\n",
    "model2.add(Dense(1,activation=\"tanh\"))\n",
    "model2.add(Dense(1,activation=\"sigmoid\"))"
   ]
  },
  {
   "cell_type": "code",
   "execution_count": 75,
   "id": "f7fa9eaa",
   "metadata": {},
   "outputs": [
    {
     "name": "stdout",
     "output_type": "stream",
     "text": [
      "Model: \"sequential_8\"\n",
      "_________________________________________________________________\n",
      " Layer (type)                Output Shape              Param #   \n",
      "=================================================================\n",
      " dense_32 (Dense)            (None, 1)                 3         \n",
      "                                                                 \n",
      " dense_33 (Dense)            (None, 1)                 2         \n",
      "                                                                 \n",
      " dense_34 (Dense)            (None, 1)                 2         \n",
      "                                                                 \n",
      " dense_35 (Dense)            (None, 1)                 2         \n",
      "                                                                 \n",
      "=================================================================\n",
      "Total params: 9\n",
      "Trainable params: 9\n",
      "Non-trainable params: 0\n",
      "_________________________________________________________________\n"
     ]
    }
   ],
   "source": [
    "model2.summary()"
   ]
  },
  {
   "cell_type": "markdown",
   "id": "f669992e",
   "metadata": {},
   "source": [
    "**Compile**"
   ]
  },
  {
   "cell_type": "code",
   "execution_count": 76,
   "id": "f2713b0f",
   "metadata": {},
   "outputs": [],
   "source": [
    "model2.compile(optimizer='Adam', loss = 'binary_crossentropy', metrics = ['accuracy'])"
   ]
  },
  {
   "cell_type": "markdown",
   "id": "61a3d19b",
   "metadata": {},
   "source": [
    "**Fitting**"
   ]
  },
  {
   "cell_type": "code",
   "execution_count": 77,
   "id": "37e5ac89",
   "metadata": {},
   "outputs": [
    {
     "name": "stdout",
     "output_type": "stream",
     "text": [
      "Epoch 1/150\n",
      "8/8 [==============================] - 1s 27ms/step - loss: 0.6726 - accuracy: 0.5417 - val_loss: 0.6692 - val_accuracy: 0.5000\n",
      "Epoch 2/150\n",
      "8/8 [==============================] - 0s 6ms/step - loss: 0.6697 - accuracy: 0.5833 - val_loss: 0.6663 - val_accuracy: 0.5556\n",
      "Epoch 3/150\n",
      "8/8 [==============================] - 0s 9ms/step - loss: 0.6666 - accuracy: 0.6111 - val_loss: 0.6635 - val_accuracy: 0.7222\n",
      "Epoch 4/150\n",
      "8/8 [==============================] - 0s 9ms/step - loss: 0.6633 - accuracy: 0.6389 - val_loss: 0.6605 - val_accuracy: 0.8333\n",
      "Epoch 5/150\n",
      "8/8 [==============================] - 0s 9ms/step - loss: 0.6600 - accuracy: 0.7222 - val_loss: 0.6574 - val_accuracy: 0.8333\n",
      "Epoch 6/150\n",
      "8/8 [==============================] - 0s 6ms/step - loss: 0.6566 - accuracy: 0.7500 - val_loss: 0.6540 - val_accuracy: 0.8333\n",
      "Epoch 7/150\n",
      "8/8 [==============================] - 0s 7ms/step - loss: 0.6530 - accuracy: 0.8194 - val_loss: 0.6504 - val_accuracy: 0.8333\n",
      "Epoch 8/150\n",
      "8/8 [==============================] - 0s 5ms/step - loss: 0.6492 - accuracy: 0.8750 - val_loss: 0.6468 - val_accuracy: 0.8333\n",
      "Epoch 9/150\n",
      "8/8 [==============================] - 0s 7ms/step - loss: 0.6454 - accuracy: 0.8750 - val_loss: 0.6430 - val_accuracy: 0.8333\n",
      "Epoch 10/150\n",
      "8/8 [==============================] - 0s 7ms/step - loss: 0.6415 - accuracy: 0.8750 - val_loss: 0.6390 - val_accuracy: 0.8333\n",
      "Epoch 11/150\n",
      "8/8 [==============================] - 0s 4ms/step - loss: 0.6373 - accuracy: 0.9028 - val_loss: 0.6350 - val_accuracy: 0.8333\n",
      "Epoch 12/150\n",
      "8/8 [==============================] - 0s 5ms/step - loss: 0.6327 - accuracy: 0.9306 - val_loss: 0.6307 - val_accuracy: 0.8333\n",
      "Epoch 13/150\n",
      "8/8 [==============================] - 0s 4ms/step - loss: 0.6283 - accuracy: 0.9167 - val_loss: 0.6262 - val_accuracy: 0.9444\n",
      "Epoch 14/150\n",
      "8/8 [==============================] - 0s 7ms/step - loss: 0.6237 - accuracy: 0.9306 - val_loss: 0.6217 - val_accuracy: 0.9444\n",
      "Epoch 15/150\n",
      "8/8 [==============================] - 0s 7ms/step - loss: 0.6191 - accuracy: 0.9444 - val_loss: 0.6170 - val_accuracy: 0.9444\n",
      "Epoch 16/150\n",
      "8/8 [==============================] - 0s 7ms/step - loss: 0.6145 - accuracy: 0.9444 - val_loss: 0.6124 - val_accuracy: 0.9444\n",
      "Epoch 17/150\n",
      "8/8 [==============================] - 0s 8ms/step - loss: 0.6098 - accuracy: 0.9444 - val_loss: 0.6076 - val_accuracy: 0.9444\n",
      "Epoch 18/150\n",
      "8/8 [==============================] - 0s 7ms/step - loss: 0.6047 - accuracy: 0.9444 - val_loss: 0.6027 - val_accuracy: 0.9444\n",
      "Epoch 19/150\n",
      "8/8 [==============================] - 0s 9ms/step - loss: 0.5998 - accuracy: 0.9583 - val_loss: 0.5975 - val_accuracy: 0.9444\n",
      "Epoch 20/150\n",
      "8/8 [==============================] - 0s 9ms/step - loss: 0.5946 - accuracy: 0.9583 - val_loss: 0.5923 - val_accuracy: 0.9444\n",
      "Epoch 21/150\n",
      "8/8 [==============================] - 0s 6ms/step - loss: 0.5895 - accuracy: 0.9722 - val_loss: 0.5871 - val_accuracy: 0.9444\n",
      "Epoch 22/150\n",
      "8/8 [==============================] - 0s 7ms/step - loss: 0.5842 - accuracy: 0.9722 - val_loss: 0.5819 - val_accuracy: 0.9444\n",
      "Epoch 23/150\n",
      "8/8 [==============================] - 0s 7ms/step - loss: 0.5790 - accuracy: 0.9722 - val_loss: 0.5767 - val_accuracy: 0.9444\n",
      "Epoch 24/150\n",
      "8/8 [==============================] - 0s 5ms/step - loss: 0.5742 - accuracy: 0.9722 - val_loss: 0.5714 - val_accuracy: 0.9444\n",
      "Epoch 25/150\n",
      "8/8 [==============================] - 0s 4ms/step - loss: 0.5686 - accuracy: 0.9722 - val_loss: 0.5662 - val_accuracy: 0.9444\n",
      "Epoch 26/150\n",
      "8/8 [==============================] - 0s 5ms/step - loss: 0.5635 - accuracy: 0.9722 - val_loss: 0.5609 - val_accuracy: 0.9444\n",
      "Epoch 27/150\n",
      "8/8 [==============================] - 0s 7ms/step - loss: 0.5582 - accuracy: 0.9722 - val_loss: 0.5558 - val_accuracy: 0.9444\n",
      "Epoch 28/150\n",
      "8/8 [==============================] - 0s 7ms/step - loss: 0.5532 - accuracy: 0.9722 - val_loss: 0.5507 - val_accuracy: 0.9444\n",
      "Epoch 29/150\n",
      "8/8 [==============================] - 0s 7ms/step - loss: 0.5480 - accuracy: 0.9722 - val_loss: 0.5456 - val_accuracy: 0.9444\n",
      "Epoch 30/150\n",
      "8/8 [==============================] - 0s 7ms/step - loss: 0.5429 - accuracy: 0.9722 - val_loss: 0.5404 - val_accuracy: 0.9444\n",
      "Epoch 31/150\n",
      "8/8 [==============================] - 0s 4ms/step - loss: 0.5377 - accuracy: 0.9722 - val_loss: 0.5350 - val_accuracy: 0.9444\n",
      "Epoch 32/150\n",
      "8/8 [==============================] - 0s 7ms/step - loss: 0.5328 - accuracy: 0.9722 - val_loss: 0.5297 - val_accuracy: 0.9444\n",
      "Epoch 33/150\n",
      "8/8 [==============================] - 0s 9ms/step - loss: 0.5274 - accuracy: 0.9722 - val_loss: 0.5244 - val_accuracy: 0.9444\n",
      "Epoch 34/150\n",
      "8/8 [==============================] - 0s 7ms/step - loss: 0.5221 - accuracy: 0.9722 - val_loss: 0.5194 - val_accuracy: 0.9444\n",
      "Epoch 35/150\n",
      "8/8 [==============================] - 0s 7ms/step - loss: 0.5172 - accuracy: 0.9722 - val_loss: 0.5144 - val_accuracy: 0.9444\n",
      "Epoch 36/150\n",
      "8/8 [==============================] - 0s 8ms/step - loss: 0.5122 - accuracy: 0.9722 - val_loss: 0.5091 - val_accuracy: 0.9444\n",
      "Epoch 37/150\n",
      "8/8 [==============================] - 0s 7ms/step - loss: 0.5069 - accuracy: 0.9722 - val_loss: 0.5039 - val_accuracy: 0.9444\n",
      "Epoch 38/150\n",
      "8/8 [==============================] - 0s 7ms/step - loss: 0.5018 - accuracy: 0.9722 - val_loss: 0.4988 - val_accuracy: 0.9444\n",
      "Epoch 39/150\n",
      "8/8 [==============================] - 0s 7ms/step - loss: 0.4967 - accuracy: 0.9722 - val_loss: 0.4937 - val_accuracy: 0.9444\n",
      "Epoch 40/150\n",
      "8/8 [==============================] - 0s 7ms/step - loss: 0.4919 - accuracy: 0.9722 - val_loss: 0.4885 - val_accuracy: 0.9444\n",
      "Epoch 41/150\n",
      "8/8 [==============================] - 0s 7ms/step - loss: 0.4866 - accuracy: 0.9722 - val_loss: 0.4836 - val_accuracy: 0.9444\n",
      "Epoch 42/150\n",
      "8/8 [==============================] - 0s 7ms/step - loss: 0.4821 - accuracy: 0.9722 - val_loss: 0.4788 - val_accuracy: 0.9444\n",
      "Epoch 43/150\n",
      "8/8 [==============================] - 0s 7ms/step - loss: 0.4769 - accuracy: 0.9722 - val_loss: 0.4737 - val_accuracy: 0.9444\n",
      "Epoch 44/150\n",
      "8/8 [==============================] - 0s 7ms/step - loss: 0.4725 - accuracy: 0.9722 - val_loss: 0.4688 - val_accuracy: 0.9444\n",
      "Epoch 45/150\n",
      "8/8 [==============================] - 0s 7ms/step - loss: 0.4678 - accuracy: 0.9722 - val_loss: 0.4640 - val_accuracy: 0.9444\n",
      "Epoch 46/150\n",
      "8/8 [==============================] - 0s 7ms/step - loss: 0.4632 - accuracy: 0.9722 - val_loss: 0.4593 - val_accuracy: 0.9444\n",
      "Epoch 47/150\n",
      "8/8 [==============================] - 0s 7ms/step - loss: 0.4586 - accuracy: 0.9722 - val_loss: 0.4544 - val_accuracy: 0.9444\n",
      "Epoch 48/150\n",
      "8/8 [==============================] - 0s 7ms/step - loss: 0.4540 - accuracy: 0.9722 - val_loss: 0.4497 - val_accuracy: 0.9444\n",
      "Epoch 49/150\n",
      "8/8 [==============================] - 0s 6ms/step - loss: 0.4496 - accuracy: 0.9722 - val_loss: 0.4448 - val_accuracy: 0.9444\n",
      "Epoch 50/150\n",
      "8/8 [==============================] - 0s 6ms/step - loss: 0.4450 - accuracy: 0.9722 - val_loss: 0.4401 - val_accuracy: 0.9444\n",
      "Epoch 51/150\n",
      "8/8 [==============================] - 0s 4ms/step - loss: 0.4407 - accuracy: 0.9722 - val_loss: 0.4362 - val_accuracy: 0.9444\n",
      "Epoch 52/150\n",
      "8/8 [==============================] - 0s 7ms/step - loss: 0.4360 - accuracy: 0.9722 - val_loss: 0.4320 - val_accuracy: 0.9444\n",
      "Epoch 53/150\n",
      "8/8 [==============================] - 0s 7ms/step - loss: 0.4317 - accuracy: 0.9722 - val_loss: 0.4277 - val_accuracy: 0.9444\n",
      "Epoch 54/150\n",
      "8/8 [==============================] - 0s 7ms/step - loss: 0.4273 - accuracy: 0.9722 - val_loss: 0.4238 - val_accuracy: 0.9444\n",
      "Epoch 55/150\n",
      "8/8 [==============================] - 0s 8ms/step - loss: 0.4233 - accuracy: 0.9722 - val_loss: 0.4199 - val_accuracy: 0.9444\n",
      "Epoch 56/150\n",
      "8/8 [==============================] - 0s 7ms/step - loss: 0.4190 - accuracy: 0.9722 - val_loss: 0.4153 - val_accuracy: 0.9444\n",
      "Epoch 57/150\n",
      "8/8 [==============================] - 0s 7ms/step - loss: 0.4148 - accuracy: 0.9722 - val_loss: 0.4109 - val_accuracy: 0.9444\n",
      "Epoch 58/150\n",
      "8/8 [==============================] - 0s 7ms/step - loss: 0.4105 - accuracy: 0.9722 - val_loss: 0.4058 - val_accuracy: 0.9444\n",
      "Epoch 59/150\n"
     ]
    },
    {
     "name": "stdout",
     "output_type": "stream",
     "text": [
      "8/8 [==============================] - 0s 7ms/step - loss: 0.4065 - accuracy: 0.9722 - val_loss: 0.4014 - val_accuracy: 0.9444\n",
      "Epoch 60/150\n",
      "8/8 [==============================] - 0s 7ms/step - loss: 0.4022 - accuracy: 0.9722 - val_loss: 0.3965 - val_accuracy: 1.0000\n",
      "Epoch 61/150\n",
      "8/8 [==============================] - 0s 7ms/step - loss: 0.3990 - accuracy: 0.9722 - val_loss: 0.3922 - val_accuracy: 1.0000\n",
      "Epoch 62/150\n",
      "8/8 [==============================] - 0s 7ms/step - loss: 0.3952 - accuracy: 0.9722 - val_loss: 0.3883 - val_accuracy: 1.0000\n",
      "Epoch 63/150\n",
      "8/8 [==============================] - 0s 7ms/step - loss: 0.3914 - accuracy: 0.9722 - val_loss: 0.3845 - val_accuracy: 1.0000\n",
      "Epoch 64/150\n",
      "8/8 [==============================] - 0s 7ms/step - loss: 0.3875 - accuracy: 0.9722 - val_loss: 0.3810 - val_accuracy: 0.9444\n",
      "Epoch 65/150\n",
      "8/8 [==============================] - 0s 7ms/step - loss: 0.3837 - accuracy: 0.9722 - val_loss: 0.3775 - val_accuracy: 0.9444\n",
      "Epoch 66/150\n",
      "8/8 [==============================] - 0s 7ms/step - loss: 0.3800 - accuracy: 0.9722 - val_loss: 0.3740 - val_accuracy: 0.9444\n",
      "Epoch 67/150\n",
      "8/8 [==============================] - 0s 7ms/step - loss: 0.3765 - accuracy: 0.9722 - val_loss: 0.3708 - val_accuracy: 0.9444\n",
      "Epoch 68/150\n",
      "8/8 [==============================] - 0s 7ms/step - loss: 0.3732 - accuracy: 0.9722 - val_loss: 0.3683 - val_accuracy: 0.9444\n",
      "Epoch 69/150\n",
      "8/8 [==============================] - 0s 7ms/step - loss: 0.3700 - accuracy: 0.9722 - val_loss: 0.3654 - val_accuracy: 0.9444\n",
      "Epoch 70/150\n",
      "8/8 [==============================] - 0s 7ms/step - loss: 0.3660 - accuracy: 0.9722 - val_loss: 0.3608 - val_accuracy: 0.9444\n",
      "Epoch 71/150\n",
      "8/8 [==============================] - 0s 7ms/step - loss: 0.3626 - accuracy: 0.9722 - val_loss: 0.3571 - val_accuracy: 0.9444\n",
      "Epoch 72/150\n",
      "8/8 [==============================] - 0s 7ms/step - loss: 0.3593 - accuracy: 0.9722 - val_loss: 0.3540 - val_accuracy: 0.9444\n",
      "Epoch 73/150\n",
      "8/8 [==============================] - 0s 4ms/step - loss: 0.3560 - accuracy: 0.9722 - val_loss: 0.3505 - val_accuracy: 0.9444\n",
      "Epoch 74/150\n",
      "8/8 [==============================] - 0s 5ms/step - loss: 0.3528 - accuracy: 0.9722 - val_loss: 0.3466 - val_accuracy: 0.9444\n",
      "Epoch 75/150\n",
      "8/8 [==============================] - 0s 7ms/step - loss: 0.3496 - accuracy: 0.9722 - val_loss: 0.3429 - val_accuracy: 0.9444\n",
      "Epoch 76/150\n",
      "8/8 [==============================] - 0s 7ms/step - loss: 0.3463 - accuracy: 0.9722 - val_loss: 0.3387 - val_accuracy: 0.9444\n",
      "Epoch 77/150\n",
      "8/8 [==============================] - 0s 4ms/step - loss: 0.3439 - accuracy: 0.9722 - val_loss: 0.3349 - val_accuracy: 1.0000\n",
      "Epoch 78/150\n",
      "8/8 [==============================] - 0s 4ms/step - loss: 0.3405 - accuracy: 0.9722 - val_loss: 0.3325 - val_accuracy: 0.9444\n",
      "Epoch 79/150\n",
      "8/8 [==============================] - 0s 7ms/step - loss: 0.3374 - accuracy: 0.9722 - val_loss: 0.3300 - val_accuracy: 0.9444\n",
      "Epoch 80/150\n",
      "8/8 [==============================] - 0s 7ms/step - loss: 0.3345 - accuracy: 0.9722 - val_loss: 0.3274 - val_accuracy: 0.9444\n",
      "Epoch 81/150\n",
      "8/8 [==============================] - 0s 5ms/step - loss: 0.3317 - accuracy: 0.9722 - val_loss: 0.3243 - val_accuracy: 0.9444\n",
      "Epoch 82/150\n",
      "8/8 [==============================] - 0s 4ms/step - loss: 0.3286 - accuracy: 0.9722 - val_loss: 0.3207 - val_accuracy: 0.9444\n",
      "Epoch 83/150\n",
      "8/8 [==============================] - 0s 7ms/step - loss: 0.3258 - accuracy: 0.9722 - val_loss: 0.3174 - val_accuracy: 0.9444\n",
      "Epoch 84/150\n",
      "8/8 [==============================] - 0s 6ms/step - loss: 0.3233 - accuracy: 0.9722 - val_loss: 0.3138 - val_accuracy: 1.0000\n",
      "Epoch 85/150\n",
      "8/8 [==============================] - 0s 7ms/step - loss: 0.3205 - accuracy: 0.9722 - val_loss: 0.3111 - val_accuracy: 1.0000\n",
      "Epoch 86/150\n",
      "8/8 [==============================] - 0s 7ms/step - loss: 0.3178 - accuracy: 0.9722 - val_loss: 0.3083 - val_accuracy: 1.0000\n",
      "Epoch 87/150\n",
      "8/8 [==============================] - 0s 9ms/step - loss: 0.3150 - accuracy: 0.9722 - val_loss: 0.3058 - val_accuracy: 1.0000\n",
      "Epoch 88/150\n",
      "8/8 [==============================] - 0s 7ms/step - loss: 0.3124 - accuracy: 0.9722 - val_loss: 0.3037 - val_accuracy: 0.9444\n",
      "Epoch 89/150\n",
      "8/8 [==============================] - 0s 7ms/step - loss: 0.3106 - accuracy: 0.9722 - val_loss: 0.3021 - val_accuracy: 0.9444\n",
      "Epoch 90/150\n",
      "8/8 [==============================] - 0s 7ms/step - loss: 0.3077 - accuracy: 0.9722 - val_loss: 0.2988 - val_accuracy: 0.9444\n",
      "Epoch 91/150\n",
      "8/8 [==============================] - 0s 5ms/step - loss: 0.3048 - accuracy: 0.9722 - val_loss: 0.2962 - val_accuracy: 0.9444\n",
      "Epoch 92/150\n",
      "8/8 [==============================] - 0s 7ms/step - loss: 0.3023 - accuracy: 0.9722 - val_loss: 0.2936 - val_accuracy: 0.9444\n",
      "Epoch 93/150\n",
      "8/8 [==============================] - 0s 7ms/step - loss: 0.2998 - accuracy: 0.9722 - val_loss: 0.2910 - val_accuracy: 0.9444\n",
      "Epoch 94/150\n",
      "8/8 [==============================] - 0s 7ms/step - loss: 0.2973 - accuracy: 0.9722 - val_loss: 0.2879 - val_accuracy: 0.9444\n",
      "Epoch 95/150\n",
      "8/8 [==============================] - 0s 7ms/step - loss: 0.2953 - accuracy: 0.9722 - val_loss: 0.2845 - val_accuracy: 1.0000\n",
      "Epoch 96/150\n",
      "8/8 [==============================] - 0s 7ms/step - loss: 0.2927 - accuracy: 0.9722 - val_loss: 0.2828 - val_accuracy: 0.9444\n",
      "Epoch 97/150\n",
      "8/8 [==============================] - 0s 7ms/step - loss: 0.2904 - accuracy: 0.9722 - val_loss: 0.2808 - val_accuracy: 0.9444\n",
      "Epoch 98/150\n",
      "8/8 [==============================] - 0s 4ms/step - loss: 0.2882 - accuracy: 0.9722 - val_loss: 0.2785 - val_accuracy: 0.9444\n",
      "Epoch 99/150\n",
      "8/8 [==============================] - 0s 7ms/step - loss: 0.2859 - accuracy: 0.9722 - val_loss: 0.2764 - val_accuracy: 0.9444\n",
      "Epoch 100/150\n",
      "8/8 [==============================] - 0s 7ms/step - loss: 0.2840 - accuracy: 0.9722 - val_loss: 0.2749 - val_accuracy: 0.9444\n",
      "Epoch 101/150\n",
      "8/8 [==============================] - 0s 7ms/step - loss: 0.2816 - accuracy: 0.9722 - val_loss: 0.2728 - val_accuracy: 0.9444\n",
      "Epoch 102/150\n",
      "8/8 [==============================] - 0s 7ms/step - loss: 0.2795 - accuracy: 0.9722 - val_loss: 0.2709 - val_accuracy: 0.9444\n",
      "Epoch 103/150\n",
      "8/8 [==============================] - 0s 7ms/step - loss: 0.2776 - accuracy: 0.9722 - val_loss: 0.2693 - val_accuracy: 0.9444\n",
      "Epoch 104/150\n",
      "8/8 [==============================] - 0s 7ms/step - loss: 0.2755 - accuracy: 0.9722 - val_loss: 0.2673 - val_accuracy: 0.9444\n",
      "Epoch 105/150\n",
      "8/8 [==============================] - 0s 7ms/step - loss: 0.2739 - accuracy: 0.9722 - val_loss: 0.2642 - val_accuracy: 0.9444\n",
      "Epoch 106/150\n",
      "8/8 [==============================] - 0s 7ms/step - loss: 0.2713 - accuracy: 0.9722 - val_loss: 0.2633 - val_accuracy: 0.9444\n",
      "Epoch 107/150\n",
      "8/8 [==============================] - 0s 7ms/step - loss: 0.2694 - accuracy: 0.9722 - val_loss: 0.2615 - val_accuracy: 0.9444\n",
      "Epoch 108/150\n",
      "8/8 [==============================] - 0s 5ms/step - loss: 0.2676 - accuracy: 0.9722 - val_loss: 0.2586 - val_accuracy: 0.9444\n",
      "Epoch 109/150\n",
      "8/8 [==============================] - 0s 4ms/step - loss: 0.2655 - accuracy: 0.9722 - val_loss: 0.2564 - val_accuracy: 0.9444\n",
      "Epoch 110/150\n",
      "8/8 [==============================] - 0s 7ms/step - loss: 0.2636 - accuracy: 0.9722 - val_loss: 0.2539 - val_accuracy: 0.9444\n",
      "Epoch 111/150\n",
      "8/8 [==============================] - 0s 6ms/step - loss: 0.2622 - accuracy: 0.9722 - val_loss: 0.2502 - val_accuracy: 1.0000\n",
      "Epoch 112/150\n",
      "8/8 [==============================] - 0s 7ms/step - loss: 0.2600 - accuracy: 0.9722 - val_loss: 0.2485 - val_accuracy: 1.0000\n",
      "Epoch 113/150\n",
      "8/8 [==============================] - 0s 7ms/step - loss: 0.2582 - accuracy: 0.9722 - val_loss: 0.2468 - val_accuracy: 0.9444\n",
      "Epoch 114/150\n",
      "8/8 [==============================] - 0s 4ms/step - loss: 0.2563 - accuracy: 0.9722 - val_loss: 0.2445 - val_accuracy: 1.0000\n",
      "Epoch 115/150\n",
      "8/8 [==============================] - 0s 5ms/step - loss: 0.2545 - accuracy: 0.9722 - val_loss: 0.2432 - val_accuracy: 0.9444\n",
      "Epoch 116/150\n",
      "8/8 [==============================] - 0s 7ms/step - loss: 0.2526 - accuracy: 0.9722 - val_loss: 0.2408 - val_accuracy: 1.0000\n",
      "Epoch 117/150\n"
     ]
    },
    {
     "name": "stdout",
     "output_type": "stream",
     "text": [
      "8/8 [==============================] - 0s 7ms/step - loss: 0.2509 - accuracy: 0.9722 - val_loss: 0.2386 - val_accuracy: 1.0000\n",
      "Epoch 118/150\n",
      "8/8 [==============================] - 0s 4ms/step - loss: 0.2493 - accuracy: 0.9722 - val_loss: 0.2365 - val_accuracy: 1.0000\n",
      "Epoch 119/150\n",
      "8/8 [==============================] - 0s 4ms/step - loss: 0.2476 - accuracy: 0.9722 - val_loss: 0.2352 - val_accuracy: 1.0000\n",
      "Epoch 120/150\n",
      "8/8 [==============================] - 0s 4ms/step - loss: 0.2459 - accuracy: 0.9722 - val_loss: 0.2338 - val_accuracy: 1.0000\n",
      "Epoch 121/150\n",
      "8/8 [==============================] - 0s 4ms/step - loss: 0.2444 - accuracy: 0.9722 - val_loss: 0.2324 - val_accuracy: 0.9444\n",
      "Epoch 122/150\n",
      "8/8 [==============================] - 0s 7ms/step - loss: 0.2426 - accuracy: 0.9722 - val_loss: 0.2305 - val_accuracy: 1.0000\n",
      "Epoch 123/150\n",
      "8/8 [==============================] - 0s 4ms/step - loss: 0.2412 - accuracy: 0.9722 - val_loss: 0.2293 - val_accuracy: 0.9444\n",
      "Epoch 124/150\n",
      "8/8 [==============================] - 0s 5ms/step - loss: 0.2395 - accuracy: 0.9722 - val_loss: 0.2272 - val_accuracy: 1.0000\n",
      "Epoch 125/150\n",
      "8/8 [==============================] - 0s 7ms/step - loss: 0.2380 - accuracy: 0.9722 - val_loss: 0.2247 - val_accuracy: 1.0000\n",
      "Epoch 126/150\n",
      "8/8 [==============================] - 0s 7ms/step - loss: 0.2367 - accuracy: 0.9722 - val_loss: 0.2234 - val_accuracy: 1.0000\n",
      "Epoch 127/150\n",
      "8/8 [==============================] - 0s 4ms/step - loss: 0.2356 - accuracy: 0.9722 - val_loss: 0.2202 - val_accuracy: 1.0000\n",
      "Epoch 128/150\n",
      "8/8 [==============================] - 0s 4ms/step - loss: 0.2339 - accuracy: 0.9722 - val_loss: 0.2214 - val_accuracy: 0.9444\n",
      "Epoch 129/150\n",
      "8/8 [==============================] - 0s 7ms/step - loss: 0.2324 - accuracy: 0.9722 - val_loss: 0.2212 - val_accuracy: 0.9444\n",
      "Epoch 130/150\n",
      "8/8 [==============================] - 0s 8ms/step - loss: 0.2308 - accuracy: 0.9722 - val_loss: 0.2196 - val_accuracy: 0.9444\n",
      "Epoch 131/150\n",
      "8/8 [==============================] - 0s 7ms/step - loss: 0.2295 - accuracy: 0.9722 - val_loss: 0.2185 - val_accuracy: 0.9444\n",
      "Epoch 132/150\n",
      "8/8 [==============================] - 0s 7ms/step - loss: 0.2281 - accuracy: 0.9722 - val_loss: 0.2195 - val_accuracy: 0.9444\n",
      "Epoch 133/150\n",
      "8/8 [==============================] - 0s 6ms/step - loss: 0.2270 - accuracy: 0.9722 - val_loss: 0.2192 - val_accuracy: 0.9444\n",
      "Epoch 134/150\n",
      "8/8 [==============================] - 0s 7ms/step - loss: 0.2255 - accuracy: 0.9722 - val_loss: 0.2172 - val_accuracy: 0.9444\n",
      "Epoch 135/150\n",
      "8/8 [==============================] - 0s 7ms/step - loss: 0.2242 - accuracy: 0.9722 - val_loss: 0.2144 - val_accuracy: 0.9444\n",
      "Epoch 136/150\n",
      "8/8 [==============================] - 0s 7ms/step - loss: 0.2231 - accuracy: 0.9722 - val_loss: 0.2118 - val_accuracy: 0.9444\n",
      "Epoch 137/150\n",
      "8/8 [==============================] - 0s 7ms/step - loss: 0.2212 - accuracy: 0.9722 - val_loss: 0.2104 - val_accuracy: 0.9444\n",
      "Epoch 138/150\n",
      "8/8 [==============================] - 0s 7ms/step - loss: 0.2196 - accuracy: 0.9722 - val_loss: 0.2104 - val_accuracy: 0.9444\n",
      "Epoch 139/150\n",
      "8/8 [==============================] - 0s 4ms/step - loss: 0.2195 - accuracy: 0.9722 - val_loss: 0.2120 - val_accuracy: 0.9444\n",
      "Epoch 140/150\n",
      "8/8 [==============================] - 0s 4ms/step - loss: 0.2176 - accuracy: 0.9722 - val_loss: 0.2122 - val_accuracy: 0.9444\n",
      "Epoch 141/150\n",
      "8/8 [==============================] - 0s 7ms/step - loss: 0.2167 - accuracy: 0.9722 - val_loss: 0.2107 - val_accuracy: 0.9444\n",
      "Epoch 142/150\n",
      "8/8 [==============================] - 0s 7ms/step - loss: 0.2154 - accuracy: 0.9722 - val_loss: 0.2089 - val_accuracy: 0.9444\n",
      "Epoch 143/150\n",
      "8/8 [==============================] - 0s 5ms/step - loss: 0.2141 - accuracy: 0.9722 - val_loss: 0.2060 - val_accuracy: 0.9444\n",
      "Epoch 144/150\n",
      "8/8 [==============================] - 0s 4ms/step - loss: 0.2127 - accuracy: 0.9722 - val_loss: 0.2040 - val_accuracy: 0.9444\n",
      "Epoch 145/150\n",
      "8/8 [==============================] - 0s 7ms/step - loss: 0.2117 - accuracy: 0.9722 - val_loss: 0.2007 - val_accuracy: 0.9444\n",
      "Epoch 146/150\n",
      "8/8 [==============================] - 0s 7ms/step - loss: 0.2101 - accuracy: 0.9722 - val_loss: 0.1987 - val_accuracy: 0.9444\n",
      "Epoch 147/150\n",
      "8/8 [==============================] - 0s 7ms/step - loss: 0.2089 - accuracy: 0.9722 - val_loss: 0.1974 - val_accuracy: 0.9444\n",
      "Epoch 148/150\n",
      "8/8 [==============================] - 0s 4ms/step - loss: 0.2079 - accuracy: 0.9722 - val_loss: 0.1951 - val_accuracy: 0.9444\n",
      "Epoch 149/150\n",
      "8/8 [==============================] - 0s 5ms/step - loss: 0.2068 - accuracy: 0.9722 - val_loss: 0.1941 - val_accuracy: 0.9444\n",
      "Epoch 150/150\n",
      "8/8 [==============================] - 0s 4ms/step - loss: 0.2054 - accuracy: 0.9722 - val_loss: 0.1923 - val_accuracy: 0.9444\n"
     ]
    }
   ],
   "source": [
    "save2 = model2.fit(x_train, y_train,batch_size=10, epochs = 150, validation_split= 0.2)"
   ]
  },
  {
   "cell_type": "code",
   "execution_count": 80,
   "id": "0c396895",
   "metadata": {},
   "outputs": [],
   "source": [
    "tl2 = save2.history[\"loss\"]\n",
    "cvl2 = save2.history[\"val_loss\"]"
   ]
  },
  {
   "cell_type": "code",
   "execution_count": 81,
   "id": "66d0aed3",
   "metadata": {},
   "outputs": [
    {
     "data": {
      "text/plain": [
       "<matplotlib.legend.Legend at 0x1d8877587c0>"
      ]
     },
     "execution_count": 81,
     "metadata": {},
     "output_type": "execute_result"
    },
    {
     "data": {
      "image/png": "[encoded data removed]",
      "text/plain": [
       "<Figure size 432x288 with 1 Axes>"
      ]
     },
     "metadata": {
      "needs_background": "light"
     },
     "output_type": "display_data"
    }
   ],
   "source": [
    "plt.plot(tl2,label=\"training_loss\")\n",
    "plt.plot(cvl2,label=\"crossval_loss\")\n",
    "plt.legend()"
   ]
  },
  {
   "cell_type": "code",
   "execution_count": 82,
   "id": "97e1cc6d",
   "metadata": {},
   "outputs": [
    {
     "name": "stdout",
     "output_type": "stream",
     "text": [
      "1/1 [==============================] - 0s 16ms/step - loss: 0.4656 - accuracy: 0.8000\n"
     ]
    }
   ],
   "source": [
    "y_testpred2 = model2.evaluate(x_test, y_test)"
   ]
  },
  {
   "cell_type": "code",
   "execution_count": 83,
   "id": "08e41925",
   "metadata": {},
   "outputs": [
    {
     "data": {
      "text/plain": [
       "[0.46557456254959106, 0.800000011920929]"
      ]
     },
     "execution_count": 83,
     "metadata": {},
     "output_type": "execute_result"
    }
   ],
   "source": [
    "y_testpred2"
   ]
  },
  {
   "cell_type": "markdown",
   "id": "776d585f",
   "metadata": {},
   "source": [
    "**Creating 3rd Model**"
   ]
  },
  {
   "cell_type": "markdown",
   "id": "2188773f",
   "metadata": {},
   "source": [
    "**Creating Dense layers**"
   ]
  },
  {
   "cell_type": "code",
   "execution_count": 58,
   "id": "bab8ebdb",
   "metadata": {},
   "outputs": [],
   "source": [
    "model3 = Sequential()\n",
    "model3.add(Dense(1, activation = 'sigmoid', input_dim = 2))\n",
    "model3.add(Dense(1, activation = 'sigmoid'))\n",
    "model3.add(Dense(1, activation = 'sigmoid'))\n",
    "model3.add(Dense(1, activation = 'sigmoid'))"
   ]
  },
  {
   "cell_type": "markdown",
   "id": "60b0d35f",
   "metadata": {},
   "source": [
    "**Compile**"
   ]
  },
  {
   "cell_type": "code",
   "execution_count": 59,
   "id": "36c98590",
   "metadata": {},
   "outputs": [],
   "source": [
    "model3.compile(optimizer='Adam', loss = 'binary_crossentropy', metrics = ['accuracy'])"
   ]
  },
  {
   "cell_type": "markdown",
   "id": "0e7afe4a",
   "metadata": {},
   "source": [
    "**Fitting**"
   ]
  },
  {
   "cell_type": "code",
   "execution_count": 60,
   "id": "92f3a64e",
   "metadata": {},
   "outputs": [
    {
     "name": "stdout",
     "output_type": "stream",
     "text": [
      "Epoch 1/100\n",
      "9/9 [==============================] - 1s 37ms/step - loss: 0.7999 - accuracy: 0.4691 - val_loss: 0.7253 - val_accuracy: 0.5556\n",
      "Epoch 2/100\n",
      "9/9 [==============================] - 0s 7ms/step - loss: 0.7962 - accuracy: 0.4691 - val_loss: 0.7228 - val_accuracy: 0.5556\n",
      "Epoch 3/100\n",
      "9/9 [==============================] - 0s 8ms/step - loss: 0.7922 - accuracy: 0.4691 - val_loss: 0.7205 - val_accuracy: 0.5556\n",
      "Epoch 4/100\n",
      "9/9 [==============================] - 0s 6ms/step - loss: 0.7883 - accuracy: 0.4691 - val_loss: 0.7183 - val_accuracy: 0.5556\n",
      "Epoch 5/100\n",
      "9/9 [==============================] - 0s 6ms/step - loss: 0.7854 - accuracy: 0.4691 - val_loss: 0.7161 - val_accuracy: 0.5556\n",
      "Epoch 6/100\n",
      "9/9 [==============================] - 0s 6ms/step - loss: 0.7821 - accuracy: 0.4691 - val_loss: 0.7143 - val_accuracy: 0.5556\n",
      "Epoch 7/100\n",
      "9/9 [==============================] - 0s 6ms/step - loss: 0.7789 - accuracy: 0.4691 - val_loss: 0.7125 - val_accuracy: 0.5556\n",
      "Epoch 8/100\n",
      "9/9 [==============================] - 0s 6ms/step - loss: 0.7761 - accuracy: 0.4691 - val_loss: 0.7106 - val_accuracy: 0.5556\n",
      "Epoch 9/100\n",
      "9/9 [==============================] - 0s 4ms/step - loss: 0.7731 - accuracy: 0.4691 - val_loss: 0.7091 - val_accuracy: 0.5556\n",
      "Epoch 10/100\n",
      "9/9 [==============================] - 0s 4ms/step - loss: 0.7704 - accuracy: 0.4691 - val_loss: 0.7075 - val_accuracy: 0.5556\n",
      "Epoch 11/100\n",
      "9/9 [==============================] - 0s 4ms/step - loss: 0.7679 - accuracy: 0.4691 - val_loss: 0.7057 - val_accuracy: 0.5556\n",
      "Epoch 12/100\n",
      "9/9 [==============================] - 0s 4ms/step - loss: 0.7650 - accuracy: 0.4691 - val_loss: 0.7044 - val_accuracy: 0.5556\n",
      "Epoch 13/100\n",
      "9/9 [==============================] - 0s 6ms/step - loss: 0.7630 - accuracy: 0.4691 - val_loss: 0.7033 - val_accuracy: 0.5556\n",
      "Epoch 14/100\n",
      "9/9 [==============================] - 0s 6ms/step - loss: 0.7613 - accuracy: 0.4691 - val_loss: 0.7022 - val_accuracy: 0.5556\n",
      "Epoch 15/100\n",
      "9/9 [==============================] - 0s 6ms/step - loss: 0.7593 - accuracy: 0.4691 - val_loss: 0.7011 - val_accuracy: 0.5556\n",
      "Epoch 16/100\n",
      "9/9 [==============================] - 0s 6ms/step - loss: 0.7572 - accuracy: 0.4691 - val_loss: 0.6998 - val_accuracy: 0.5556\n",
      "Epoch 17/100\n",
      "9/9 [==============================] - 0s 4ms/step - loss: 0.7552 - accuracy: 0.4691 - val_loss: 0.6987 - val_accuracy: 0.5556\n",
      "Epoch 18/100\n",
      "9/9 [==============================] - 0s 6ms/step - loss: 0.7532 - accuracy: 0.4691 - val_loss: 0.6977 - val_accuracy: 0.5556\n",
      "Epoch 19/100\n",
      "9/9 [==============================] - 0s 6ms/step - loss: 0.7514 - accuracy: 0.4691 - val_loss: 0.6965 - val_accuracy: 0.5556\n",
      "Epoch 20/100\n",
      "9/9 [==============================] - 0s 6ms/step - loss: 0.7493 - accuracy: 0.4691 - val_loss: 0.6955 - val_accuracy: 0.5556\n",
      "Epoch 21/100\n",
      "9/9 [==============================] - 0s 6ms/step - loss: 0.7475 - accuracy: 0.4691 - val_loss: 0.6946 - val_accuracy: 0.5556\n",
      "Epoch 22/100\n",
      "9/9 [==============================] - 0s 6ms/step - loss: 0.7459 - accuracy: 0.4691 - val_loss: 0.6938 - val_accuracy: 0.5556\n",
      "Epoch 23/100\n",
      "9/9 [==============================] - 0s 6ms/step - loss: 0.7441 - accuracy: 0.4691 - val_loss: 0.6927 - val_accuracy: 0.5556\n",
      "Epoch 24/100\n",
      "9/9 [==============================] - 0s 6ms/step - loss: 0.7424 - accuracy: 0.4691 - val_loss: 0.6918 - val_accuracy: 0.5556\n",
      "Epoch 25/100\n",
      "9/9 [==============================] - 0s 6ms/step - loss: 0.7408 - accuracy: 0.4691 - val_loss: 0.6911 - val_accuracy: 0.5556\n",
      "Epoch 26/100\n",
      "9/9 [==============================] - 0s 6ms/step - loss: 0.7394 - accuracy: 0.4691 - val_loss: 0.6900 - val_accuracy: 0.5556\n",
      "Epoch 27/100\n",
      "9/9 [==============================] - 0s 6ms/step - loss: 0.7373 - accuracy: 0.4691 - val_loss: 0.6892 - val_accuracy: 0.5556\n",
      "Epoch 28/100\n",
      "9/9 [==============================] - 0s 6ms/step - loss: 0.7355 - accuracy: 0.4691 - val_loss: 0.6883 - val_accuracy: 0.5556\n",
      "Epoch 29/100\n",
      "9/9 [==============================] - 0s 6ms/step - loss: 0.7335 - accuracy: 0.4691 - val_loss: 0.6873 - val_accuracy: 0.5556\n",
      "Epoch 30/100\n",
      "9/9 [==============================] - 0s 6ms/step - loss: 0.7317 - accuracy: 0.4691 - val_loss: 0.6863 - val_accuracy: 0.5556\n",
      "Epoch 31/100\n",
      "9/9 [==============================] - 0s 4ms/step - loss: 0.7296 - accuracy: 0.4691 - val_loss: 0.6854 - val_accuracy: 0.5556\n",
      "Epoch 32/100\n",
      "9/9 [==============================] - 0s 4ms/step - loss: 0.7277 - accuracy: 0.4691 - val_loss: 0.6846 - val_accuracy: 0.5556\n",
      "Epoch 33/100\n",
      "9/9 [==============================] - 0s 6ms/step - loss: 0.7262 - accuracy: 0.4691 - val_loss: 0.6840 - val_accuracy: 0.5556\n",
      "Epoch 34/100\n",
      "9/9 [==============================] - 0s 6ms/step - loss: 0.7251 - accuracy: 0.4691 - val_loss: 0.6834 - val_accuracy: 0.5556\n",
      "Epoch 35/100\n",
      "9/9 [==============================] - 0s 6ms/step - loss: 0.7239 - accuracy: 0.4691 - val_loss: 0.6830 - val_accuracy: 0.5556\n",
      "Epoch 36/100\n",
      "9/9 [==============================] - 0s 4ms/step - loss: 0.7229 - accuracy: 0.4691 - val_loss: 0.6826 - val_accuracy: 0.5556\n",
      "Epoch 37/100\n",
      "9/9 [==============================] - 0s 4ms/step - loss: 0.7218 - accuracy: 0.4691 - val_loss: 0.6820 - val_accuracy: 0.5556\n",
      "Epoch 38/100\n",
      "9/9 [==============================] - 0s 6ms/step - loss: 0.7204 - accuracy: 0.4691 - val_loss: 0.6813 - val_accuracy: 0.5556\n",
      "Epoch 39/100\n",
      "9/9 [==============================] - 0s 6ms/step - loss: 0.7189 - accuracy: 0.4691 - val_loss: 0.6807 - val_accuracy: 0.5556\n",
      "Epoch 40/100\n",
      "9/9 [==============================] - 0s 6ms/step - loss: 0.7175 - accuracy: 0.4691 - val_loss: 0.6803 - val_accuracy: 0.5556\n",
      "Epoch 41/100\n",
      "9/9 [==============================] - 0s 6ms/step - loss: 0.7165 - accuracy: 0.4691 - val_loss: 0.6799 - val_accuracy: 0.5556\n",
      "Epoch 42/100\n",
      "9/9 [==============================] - 0s 6ms/step - loss: 0.7159 - accuracy: 0.4691 - val_loss: 0.6796 - val_accuracy: 0.5556\n",
      "Epoch 43/100\n",
      "9/9 [==============================] - 0s 6ms/step - loss: 0.7150 - accuracy: 0.4691 - val_loss: 0.6793 - val_accuracy: 0.5556\n",
      "Epoch 44/100\n",
      "9/9 [==============================] - 0s 6ms/step - loss: 0.7143 - accuracy: 0.4691 - val_loss: 0.6790 - val_accuracy: 0.5556\n",
      "Epoch 45/100\n",
      "9/9 [==============================] - 0s 6ms/step - loss: 0.7134 - accuracy: 0.4691 - val_loss: 0.6785 - val_accuracy: 0.5556\n",
      "Epoch 46/100\n",
      "9/9 [==============================] - 0s 6ms/step - loss: 0.7123 - accuracy: 0.4691 - val_loss: 0.6781 - val_accuracy: 0.5556\n",
      "Epoch 47/100\n",
      "9/9 [==============================] - 0s 6ms/step - loss: 0.7110 - accuracy: 0.4691 - val_loss: 0.6778 - val_accuracy: 0.5556\n",
      "Epoch 48/100\n",
      "9/9 [==============================] - 0s 6ms/step - loss: 0.7101 - accuracy: 0.4691 - val_loss: 0.6774 - val_accuracy: 0.5556\n",
      "Epoch 49/100\n",
      "9/9 [==============================] - 0s 6ms/step - loss: 0.7090 - accuracy: 0.4691 - val_loss: 0.6770 - val_accuracy: 0.5556\n",
      "Epoch 50/100\n",
      "9/9 [==============================] - 0s 5ms/step - loss: 0.7080 - accuracy: 0.4691 - val_loss: 0.6767 - val_accuracy: 0.5556\n",
      "Epoch 51/100\n",
      "9/9 [==============================] - 0s 6ms/step - loss: 0.7073 - accuracy: 0.4691 - val_loss: 0.6765 - val_accuracy: 0.5556\n",
      "Epoch 52/100\n",
      "9/9 [==============================] - 0s 8ms/step - loss: 0.7067 - accuracy: 0.4691 - val_loss: 0.6763 - val_accuracy: 0.5556\n",
      "Epoch 53/100\n",
      "9/9 [==============================] - 0s 6ms/step - loss: 0.7060 - accuracy: 0.4691 - val_loss: 0.6760 - val_accuracy: 0.5556\n",
      "Epoch 54/100\n",
      "9/9 [==============================] - 0s 8ms/step - loss: 0.7048 - accuracy: 0.4691 - val_loss: 0.6757 - val_accuracy: 0.5556\n",
      "Epoch 55/100\n",
      "9/9 [==============================] - 0s 6ms/step - loss: 0.7043 - accuracy: 0.4691 - val_loss: 0.6755 - val_accuracy: 0.5556\n",
      "Epoch 56/100\n",
      "9/9 [==============================] - 0s 6ms/step - loss: 0.7032 - accuracy: 0.4691 - val_loss: 0.6753 - val_accuracy: 0.5556\n",
      "Epoch 57/100\n",
      "9/9 [==============================] - 0s 4ms/step - loss: 0.7026 - accuracy: 0.4691 - val_loss: 0.6751 - val_accuracy: 0.5556\n",
      "Epoch 58/100\n",
      "9/9 [==============================] - 0s 10ms/step - loss: 0.7021 - accuracy: 0.4691 - val_loss: 0.6749 - val_accuracy: 0.5556\n",
      "Epoch 59/100\n"
     ]
    },
    {
     "name": "stdout",
     "output_type": "stream",
     "text": [
      "9/9 [==============================] - 0s 6ms/step - loss: 0.7016 - accuracy: 0.4691 - val_loss: 0.6747 - val_accuracy: 0.5556\n",
      "Epoch 60/100\n",
      "9/9 [==============================] - 0s 6ms/step - loss: 0.7013 - accuracy: 0.4691 - val_loss: 0.6745 - val_accuracy: 0.5556\n",
      "Epoch 61/100\n",
      "9/9 [==============================] - 0s 6ms/step - loss: 0.7008 - accuracy: 0.4691 - val_loss: 0.6743 - val_accuracy: 0.5556\n",
      "Epoch 62/100\n",
      "9/9 [==============================] - 0s 5ms/step - loss: 0.7001 - accuracy: 0.4691 - val_loss: 0.6742 - val_accuracy: 0.5556\n",
      "Epoch 63/100\n",
      "9/9 [==============================] - 0s 6ms/step - loss: 0.6993 - accuracy: 0.4691 - val_loss: 0.6740 - val_accuracy: 0.5556\n",
      "Epoch 64/100\n",
      "9/9 [==============================] - 0s 6ms/step - loss: 0.6987 - accuracy: 0.4691 - val_loss: 0.6738 - val_accuracy: 0.5556\n",
      "Epoch 65/100\n",
      "9/9 [==============================] - 0s 6ms/step - loss: 0.6980 - accuracy: 0.4691 - val_loss: 0.6737 - val_accuracy: 0.5556\n",
      "Epoch 66/100\n",
      "9/9 [==============================] - 0s 6ms/step - loss: 0.6973 - accuracy: 0.4691 - val_loss: 0.6735 - val_accuracy: 0.5556\n",
      "Epoch 67/100\n",
      "9/9 [==============================] - 0s 6ms/step - loss: 0.6965 - accuracy: 0.4691 - val_loss: 0.6734 - val_accuracy: 0.5556\n",
      "Epoch 68/100\n",
      "9/9 [==============================] - 0s 8ms/step - loss: 0.6961 - accuracy: 0.4691 - val_loss: 0.6732 - val_accuracy: 0.5556\n",
      "Epoch 69/100\n",
      "9/9 [==============================] - 0s 4ms/step - loss: 0.6958 - accuracy: 0.4691 - val_loss: 0.6731 - val_accuracy: 0.5556\n",
      "Epoch 70/100\n",
      "9/9 [==============================] - 0s 6ms/step - loss: 0.6955 - accuracy: 0.4691 - val_loss: 0.6730 - val_accuracy: 0.5556\n",
      "Epoch 71/100\n",
      "9/9 [==============================] - 0s 5ms/step - loss: 0.6951 - accuracy: 0.4691 - val_loss: 0.6728 - val_accuracy: 0.5556\n",
      "Epoch 72/100\n",
      "9/9 [==============================] - 0s 6ms/step - loss: 0.6948 - accuracy: 0.4691 - val_loss: 0.6727 - val_accuracy: 0.5556\n",
      "Epoch 73/100\n",
      "9/9 [==============================] - 0s 8ms/step - loss: 0.6942 - accuracy: 0.4691 - val_loss: 0.6726 - val_accuracy: 0.5556\n",
      "Epoch 74/100\n",
      "9/9 [==============================] - 0s 4ms/step - loss: 0.6939 - accuracy: 0.4691 - val_loss: 0.6724 - val_accuracy: 0.5556\n",
      "Epoch 75/100\n",
      "9/9 [==============================] - 0s 6ms/step - loss: 0.6936 - accuracy: 0.4691 - val_loss: 0.6723 - val_accuracy: 0.5556\n",
      "Epoch 76/100\n",
      "9/9 [==============================] - 0s 8ms/step - loss: 0.6932 - accuracy: 0.4691 - val_loss: 0.6722 - val_accuracy: 0.5556\n",
      "Epoch 77/100\n",
      "9/9 [==============================] - 0s 7ms/step - loss: 0.6929 - accuracy: 0.4691 - val_loss: 0.6721 - val_accuracy: 0.5556\n",
      "Epoch 78/100\n",
      "9/9 [==============================] - 0s 6ms/step - loss: 0.6923 - accuracy: 0.4691 - val_loss: 0.6720 - val_accuracy: 0.5556\n",
      "Epoch 79/100\n",
      "9/9 [==============================] - 0s 6ms/step - loss: 0.6919 - accuracy: 0.4691 - val_loss: 0.6719 - val_accuracy: 0.5556\n",
      "Epoch 80/100\n",
      "9/9 [==============================] - 0s 6ms/step - loss: 0.6914 - accuracy: 0.4691 - val_loss: 0.6718 - val_accuracy: 0.5556\n",
      "Epoch 81/100\n",
      "9/9 [==============================] - 0s 6ms/step - loss: 0.6911 - accuracy: 0.4691 - val_loss: 0.6716 - val_accuracy: 0.5556\n",
      "Epoch 82/100\n",
      "9/9 [==============================] - 0s 6ms/step - loss: 0.6908 - accuracy: 0.4691 - val_loss: 0.6715 - val_accuracy: 0.5556\n",
      "Epoch 83/100\n",
      "9/9 [==============================] - 0s 8ms/step - loss: 0.6906 - accuracy: 0.4691 - val_loss: 0.6714 - val_accuracy: 0.5556\n",
      "Epoch 84/100\n",
      "9/9 [==============================] - 0s 8ms/step - loss: 0.6901 - accuracy: 0.4691 - val_loss: 0.6713 - val_accuracy: 0.5556\n",
      "Epoch 85/100\n",
      "9/9 [==============================] - 0s 6ms/step - loss: 0.6896 - accuracy: 0.4691 - val_loss: 0.6713 - val_accuracy: 0.5556\n",
      "Epoch 86/100\n",
      "9/9 [==============================] - 0s 6ms/step - loss: 0.6889 - accuracy: 0.4691 - val_loss: 0.6713 - val_accuracy: 0.5556\n",
      "Epoch 87/100\n",
      "9/9 [==============================] - 0s 8ms/step - loss: 0.6884 - accuracy: 0.4691 - val_loss: 0.6713 - val_accuracy: 0.5556\n",
      "Epoch 88/100\n",
      "9/9 [==============================] - 0s 6ms/step - loss: 0.6877 - accuracy: 0.4691 - val_loss: 0.6713 - val_accuracy: 0.5556\n",
      "Epoch 89/100\n",
      "9/9 [==============================] - 0s 6ms/step - loss: 0.6873 - accuracy: 0.4691 - val_loss: 0.6712 - val_accuracy: 0.5556\n",
      "Epoch 90/100\n",
      "9/9 [==============================] - 0s 6ms/step - loss: 0.6869 - accuracy: 0.4691 - val_loss: 0.6712 - val_accuracy: 0.5556\n",
      "Epoch 91/100\n",
      "9/9 [==============================] - 0s 6ms/step - loss: 0.6864 - accuracy: 0.4691 - val_loss: 0.6712 - val_accuracy: 0.5556\n",
      "Epoch 92/100\n",
      "9/9 [==============================] - 0s 6ms/step - loss: 0.6858 - accuracy: 0.4691 - val_loss: 0.6713 - val_accuracy: 0.5556\n",
      "Epoch 93/100\n",
      "9/9 [==============================] - 0s 6ms/step - loss: 0.6855 - accuracy: 0.4691 - val_loss: 0.6712 - val_accuracy: 0.5556\n",
      "Epoch 94/100\n",
      "9/9 [==============================] - 0s 6ms/step - loss: 0.6852 - accuracy: 0.4691 - val_loss: 0.6710 - val_accuracy: 0.5556\n",
      "Epoch 95/100\n",
      "9/9 [==============================] - 0s 5ms/step - loss: 0.6850 - accuracy: 0.4691 - val_loss: 0.6709 - val_accuracy: 0.5556\n",
      "Epoch 96/100\n",
      "9/9 [==============================] - 0s 6ms/step - loss: 0.6848 - accuracy: 0.4691 - val_loss: 0.6707 - val_accuracy: 0.5556\n",
      "Epoch 97/100\n",
      "9/9 [==============================] - 0s 10ms/step - loss: 0.6846 - accuracy: 0.4691 - val_loss: 0.6707 - val_accuracy: 0.5556\n",
      "Epoch 98/100\n",
      "9/9 [==============================] - 0s 6ms/step - loss: 0.6841 - accuracy: 0.4691 - val_loss: 0.6707 - val_accuracy: 0.5556\n",
      "Epoch 99/100\n",
      "9/9 [==============================] - 0s 6ms/step - loss: 0.6838 - accuracy: 0.4691 - val_loss: 0.6706 - val_accuracy: 0.5556\n",
      "Epoch 100/100\n",
      "9/9 [==============================] - 0s 6ms/step - loss: 0.6836 - accuracy: 0.4691 - val_loss: 0.6707 - val_accuracy: 0.5556\n"
     ]
    }
   ],
   "source": [
    "save3 = model3.fit(x_train, y_train,batch_size=10, epochs = 100, validation_split= 0.1)"
   ]
  },
  {
   "cell_type": "code",
   "execution_count": 40,
   "id": "bad89ff0",
   "metadata": {},
   "outputs": [],
   "source": [
    "tl3 = save3.history[\"loss\"]\n",
    "cvl3 = save3.history[\"val_loss\"]"
   ]
  },
  {
   "cell_type": "code",
   "execution_count": 41,
   "id": "b699d21e",
   "metadata": {},
   "outputs": [
    {
     "data": {
      "text/plain": [
       "<matplotlib.legend.Legend at 0x1d8850c3370>"
      ]
     },
     "execution_count": 41,
     "metadata": {},
     "output_type": "execute_result"
    },
    {
     "data": {
      "image/png": "[encoded data removed]",
      "text/plain": [
       "<Figure size 432x288 with 1 Axes>"
      ]
     },
     "metadata": {
      "needs_background": "light"
     },
     "output_type": "display_data"
    }
   ],
   "source": [
    "plt.plot(tl3,label=\"training_loss\")\n",
    "plt.plot(cvl3,label=\"crossval_loss\")\n",
    "plt.legend()"
   ]
  },
  {
   "cell_type": "code",
   "execution_count": 42,
   "id": "c8b926c7",
   "metadata": {},
   "outputs": [
    {
     "name": "stdout",
     "output_type": "stream",
     "text": [
      "1/1 [==============================] - 0s 31ms/step - loss: 0.7014 - accuracy: 0.3000\n"
     ]
    }
   ],
   "source": [
    "y_testpred3 = model1.evaluate(x_test, y_test)"
   ]
  },
  {
   "cell_type": "code",
   "execution_count": 43,
   "id": "f21f613b",
   "metadata": {},
   "outputs": [
    {
     "data": {
      "text/plain": [
       "[0.7013803720474243, 0.30000001192092896]"
      ]
     },
     "execution_count": 43,
     "metadata": {},
     "output_type": "execute_result"
    }
   ],
   "source": [
    "y_testpred3"
   ]
  },
  {
   "cell_type": "markdown",
   "id": "4f932950",
   "metadata": {},
   "source": [
    "**Creating 4th Model**"
   ]
  },
  {
   "cell_type": "markdown",
   "id": "a1636108",
   "metadata": {},
   "source": [
    "**Creating Dense layers**"
   ]
  },
  {
   "cell_type": "code",
   "execution_count": 44,
   "id": "bc23c98b",
   "metadata": {},
   "outputs": [],
   "source": [
    "model4=Sequential()\n",
    "model4.add(Dense(1,activation=\"tanh\",input_dim=2,kernel_initializer='glorot_uniform'))\n",
    "model4.add(Dense(1,activation=\"tanh\",kernel_initializer='glorot_uniform'))\n",
    "model4.add(Dense(1,activation=\"tanh\",kernel_initializer='glorot_uniform'))\n",
    "model4.add(Dense(1,activation=\"sigmoid\"))"
   ]
  },
  {
   "cell_type": "code",
   "execution_count": 45,
   "id": "fa36b56e",
   "metadata": {},
   "outputs": [
    {
     "name": "stdout",
     "output_type": "stream",
     "text": [
      "Model: \"sequential_3\"\n",
      "_________________________________________________________________\n",
      " Layer (type)                Output Shape              Param #   \n",
      "=================================================================\n",
      " dense_12 (Dense)            (None, 1)                 3         \n",
      "                                                                 \n",
      " dense_13 (Dense)            (None, 1)                 2         \n",
      "                                                                 \n",
      " dense_14 (Dense)            (None, 1)                 2         \n",
      "                                                                 \n",
      " dense_15 (Dense)            (None, 1)                 2         \n",
      "                                                                 \n",
      "=================================================================\n",
      "Total params: 9\n",
      "Trainable params: 9\n",
      "Non-trainable params: 0\n",
      "_________________________________________________________________\n"
     ]
    }
   ],
   "source": [
    "model4.summary()"
   ]
  },
  {
   "cell_type": "markdown",
   "id": "0a585991",
   "metadata": {},
   "source": [
    "**Compile**"
   ]
  },
  {
   "cell_type": "code",
   "execution_count": 47,
   "id": "eea35638",
   "metadata": {},
   "outputs": [],
   "source": [
    "model4.compile(optimizer=\"Adam\",loss=\"binary_crossentropy\",metrics=['accuracy'])"
   ]
  },
  {
   "cell_type": "markdown",
   "id": "7f077714",
   "metadata": {},
   "source": [
    "**Fitting**"
   ]
  },
  {
   "cell_type": "code",
   "execution_count": 48,
   "id": "7c3ca299",
   "metadata": {},
   "outputs": [
    {
     "name": "stdout",
     "output_type": "stream",
     "text": [
      "Epoch 1/100\n",
      "9/9 [==============================] - 2s 27ms/step - loss: 0.6280 - accuracy: 0.7654 - val_loss: 0.6397 - val_accuracy: 0.6667\n",
      "Epoch 2/100\n",
      "9/9 [==============================] - 0s 6ms/step - loss: 0.6241 - accuracy: 0.7778 - val_loss: 0.6346 - val_accuracy: 0.6667\n",
      "Epoch 3/100\n",
      "9/9 [==============================] - 0s 8ms/step - loss: 0.6200 - accuracy: 0.7778 - val_loss: 0.6302 - val_accuracy: 0.6667\n",
      "Epoch 4/100\n",
      "9/9 [==============================] - 0s 6ms/step - loss: 0.6167 - accuracy: 0.8148 - val_loss: 0.6258 - val_accuracy: 0.6667\n",
      "Epoch 5/100\n",
      "9/9 [==============================] - 0s 6ms/step - loss: 0.6127 - accuracy: 0.8148 - val_loss: 0.6213 - val_accuracy: 0.6667\n",
      "Epoch 6/100\n",
      "9/9 [==============================] - 0s 6ms/step - loss: 0.6087 - accuracy: 0.8148 - val_loss: 0.6170 - val_accuracy: 0.6667\n",
      "Epoch 7/100\n",
      "9/9 [==============================] - 0s 6ms/step - loss: 0.6041 - accuracy: 0.8148 - val_loss: 0.6112 - val_accuracy: 0.6667\n",
      "Epoch 8/100\n",
      "9/9 [==============================] - 0s 4ms/step - loss: 0.5996 - accuracy: 0.8148 - val_loss: 0.6055 - val_accuracy: 0.6667\n",
      "Epoch 9/100\n",
      "9/9 [==============================] - 0s 4ms/step - loss: 0.5948 - accuracy: 0.8395 - val_loss: 0.5990 - val_accuracy: 0.6667\n",
      "Epoch 10/100\n",
      "9/9 [==============================] - 0s 4ms/step - loss: 0.5897 - accuracy: 0.8395 - val_loss: 0.5920 - val_accuracy: 0.7778\n",
      "Epoch 11/100\n",
      "9/9 [==============================] - 0s 6ms/step - loss: 0.5842 - accuracy: 0.8519 - val_loss: 0.5847 - val_accuracy: 0.7778\n",
      "Epoch 12/100\n",
      "9/9 [==============================] - 0s 4ms/step - loss: 0.5789 - accuracy: 0.8765 - val_loss: 0.5770 - val_accuracy: 0.8889\n",
      "Epoch 13/100\n",
      "9/9 [==============================] - 0s 6ms/step - loss: 0.5739 - accuracy: 0.8765 - val_loss: 0.5698 - val_accuracy: 0.8889\n",
      "Epoch 14/100\n",
      "9/9 [==============================] - 0s 5ms/step - loss: 0.5683 - accuracy: 0.8765 - val_loss: 0.5623 - val_accuracy: 1.0000\n",
      "Epoch 15/100\n",
      "9/9 [==============================] - 0s 6ms/step - loss: 0.5625 - accuracy: 0.8642 - val_loss: 0.5543 - val_accuracy: 1.0000\n",
      "Epoch 16/100\n",
      "9/9 [==============================] - 0s 4ms/step - loss: 0.5572 - accuracy: 0.8642 - val_loss: 0.5470 - val_accuracy: 1.0000\n",
      "Epoch 17/100\n",
      "9/9 [==============================] - 0s 6ms/step - loss: 0.5514 - accuracy: 0.8765 - val_loss: 0.5392 - val_accuracy: 1.0000\n",
      "Epoch 18/100\n",
      "9/9 [==============================] - 0s 6ms/step - loss: 0.5456 - accuracy: 0.8765 - val_loss: 0.5316 - val_accuracy: 1.0000\n",
      "Epoch 19/100\n",
      "9/9 [==============================] - 0s 6ms/step - loss: 0.5399 - accuracy: 0.8765 - val_loss: 0.5233 - val_accuracy: 1.0000\n",
      "Epoch 20/100\n",
      "9/9 [==============================] - 0s 6ms/step - loss: 0.5337 - accuracy: 0.8765 - val_loss: 0.5156 - val_accuracy: 1.0000\n",
      "Epoch 21/100\n",
      "9/9 [==============================] - 0s 8ms/step - loss: 0.5282 - accuracy: 0.8765 - val_loss: 0.5085 - val_accuracy: 1.0000\n",
      "Epoch 22/100\n",
      "9/9 [==============================] - 0s 6ms/step - loss: 0.5224 - accuracy: 0.8765 - val_loss: 0.5008 - val_accuracy: 1.0000\n",
      "Epoch 23/100\n",
      "9/9 [==============================] - 0s 6ms/step - loss: 0.5166 - accuracy: 0.8889 - val_loss: 0.4930 - val_accuracy: 1.0000\n",
      "Epoch 24/100\n",
      "9/9 [==============================] - 0s 6ms/step - loss: 0.5106 - accuracy: 0.8889 - val_loss: 0.4855 - val_accuracy: 1.0000\n",
      "Epoch 25/100\n",
      "9/9 [==============================] - 0s 6ms/step - loss: 0.5047 - accuracy: 0.9012 - val_loss: 0.4779 - val_accuracy: 1.0000\n",
      "Epoch 26/100\n",
      "9/9 [==============================] - 0s 6ms/step - loss: 0.4987 - accuracy: 0.9012 - val_loss: 0.4706 - val_accuracy: 1.0000\n",
      "Epoch 27/100\n",
      "9/9 [==============================] - 0s 4ms/step - loss: 0.4930 - accuracy: 0.9259 - val_loss: 0.4634 - val_accuracy: 1.0000\n",
      "Epoch 28/100\n",
      "9/9 [==============================] - 0s 6ms/step - loss: 0.4870 - accuracy: 0.9259 - val_loss: 0.4570 - val_accuracy: 1.0000\n",
      "Epoch 29/100\n",
      "9/9 [==============================] - 0s 4ms/step - loss: 0.4811 - accuracy: 0.9259 - val_loss: 0.4504 - val_accuracy: 1.0000\n",
      "Epoch 30/100\n",
      "9/9 [==============================] - 0s 6ms/step - loss: 0.4752 - accuracy: 0.9259 - val_loss: 0.4432 - val_accuracy: 1.0000\n",
      "Epoch 31/100\n",
      "9/9 [==============================] - 0s 6ms/step - loss: 0.4694 - accuracy: 0.9259 - val_loss: 0.4366 - val_accuracy: 1.0000\n",
      "Epoch 32/100\n",
      "9/9 [==============================] - 0s 6ms/step - loss: 0.4642 - accuracy: 0.9259 - val_loss: 0.4300 - val_accuracy: 1.0000\n",
      "Epoch 33/100\n",
      "9/9 [==============================] - 0s 6ms/step - loss: 0.4583 - accuracy: 0.9383 - val_loss: 0.4238 - val_accuracy: 1.0000\n",
      "Epoch 34/100\n",
      "9/9 [==============================] - 0s 6ms/step - loss: 0.4529 - accuracy: 0.9259 - val_loss: 0.4181 - val_accuracy: 1.0000\n",
      "Epoch 35/100\n",
      "9/9 [==============================] - 0s 5ms/step - loss: 0.4474 - accuracy: 0.9383 - val_loss: 0.4119 - val_accuracy: 1.0000\n",
      "Epoch 36/100\n",
      "9/9 [==============================] - 0s 6ms/step - loss: 0.4421 - accuracy: 0.9506 - val_loss: 0.4059 - val_accuracy: 1.0000\n",
      "Epoch 37/100\n",
      "9/9 [==============================] - 0s 6ms/step - loss: 0.4370 - accuracy: 0.9506 - val_loss: 0.4001 - val_accuracy: 1.0000\n",
      "Epoch 38/100\n",
      "9/9 [==============================] - 0s 6ms/step - loss: 0.4316 - accuracy: 0.9506 - val_loss: 0.3946 - val_accuracy: 1.0000\n",
      "Epoch 39/100\n",
      "9/9 [==============================] - 0s 4ms/step - loss: 0.4267 - accuracy: 0.9506 - val_loss: 0.3889 - val_accuracy: 1.0000\n",
      "Epoch 40/100\n",
      "9/9 [==============================] - 0s 4ms/step - loss: 0.4216 - accuracy: 0.9506 - val_loss: 0.3833 - val_accuracy: 1.0000\n",
      "Epoch 41/100\n",
      "9/9 [==============================] - 0s 6ms/step - loss: 0.4166 - accuracy: 0.9506 - val_loss: 0.3777 - val_accuracy: 1.0000\n",
      "Epoch 42/100\n",
      "9/9 [==============================] - 0s 6ms/step - loss: 0.4116 - accuracy: 0.9630 - val_loss: 0.3723 - val_accuracy: 1.0000\n",
      "Epoch 43/100\n",
      "9/9 [==============================] - 0s 4ms/step - loss: 0.4068 - accuracy: 0.9630 - val_loss: 0.3669 - val_accuracy: 1.0000\n",
      "Epoch 44/100\n",
      "9/9 [==============================] - 0s 4ms/step - loss: 0.4018 - accuracy: 0.9630 - val_loss: 0.3615 - val_accuracy: 1.0000\n",
      "Epoch 45/100\n",
      "9/9 [==============================] - 0s 6ms/step - loss: 0.3970 - accuracy: 0.9630 - val_loss: 0.3562 - val_accuracy: 1.0000\n",
      "Epoch 46/100\n",
      "9/9 [==============================] - 0s 5ms/step - loss: 0.3923 - accuracy: 0.9630 - val_loss: 0.3511 - val_accuracy: 1.0000\n",
      "Epoch 47/100\n",
      "9/9 [==============================] - 0s 6ms/step - loss: 0.3876 - accuracy: 0.9630 - val_loss: 0.3460 - val_accuracy: 1.0000\n",
      "Epoch 48/100\n",
      "9/9 [==============================] - 0s 6ms/step - loss: 0.3831 - accuracy: 0.9630 - val_loss: 0.3411 - val_accuracy: 1.0000\n",
      "Epoch 49/100\n",
      "9/9 [==============================] - 0s 6ms/step - loss: 0.3788 - accuracy: 0.9630 - val_loss: 0.3362 - val_accuracy: 1.0000\n",
      "Epoch 50/100\n",
      "9/9 [==============================] - 0s 6ms/step - loss: 0.3744 - accuracy: 0.9630 - val_loss: 0.3313 - val_accuracy: 1.0000\n",
      "Epoch 51/100\n",
      "9/9 [==============================] - 0s 6ms/step - loss: 0.3700 - accuracy: 0.9630 - val_loss: 0.3266 - val_accuracy: 1.0000\n",
      "Epoch 52/100\n",
      "9/9 [==============================] - 0s 6ms/step - loss: 0.3657 - accuracy: 0.9630 - val_loss: 0.3219 - val_accuracy: 1.0000\n",
      "Epoch 53/100\n",
      "9/9 [==============================] - 0s 6ms/step - loss: 0.3616 - accuracy: 0.9630 - val_loss: 0.3173 - val_accuracy: 1.0000\n",
      "Epoch 54/100\n",
      "9/9 [==============================] - 0s 6ms/step - loss: 0.3574 - accuracy: 0.9753 - val_loss: 0.3128 - val_accuracy: 1.0000\n",
      "Epoch 55/100\n",
      "9/9 [==============================] - 0s 10ms/step - loss: 0.3531 - accuracy: 0.9753 - val_loss: 0.3083 - val_accuracy: 1.0000\n",
      "Epoch 56/100\n",
      "9/9 [==============================] - 0s 5ms/step - loss: 0.3495 - accuracy: 0.9753 - val_loss: 0.3040 - val_accuracy: 1.0000\n",
      "Epoch 57/100\n",
      "9/9 [==============================] - 0s 4ms/step - loss: 0.3455 - accuracy: 0.9753 - val_loss: 0.2997 - val_accuracy: 1.0000\n",
      "Epoch 58/100\n",
      "9/9 [==============================] - 0s 4ms/step - loss: 0.3415 - accuracy: 0.9753 - val_loss: 0.2955 - val_accuracy: 1.0000\n",
      "Epoch 59/100\n"
     ]
    },
    {
     "name": "stdout",
     "output_type": "stream",
     "text": [
      "9/9 [==============================] - 0s 4ms/step - loss: 0.3377 - accuracy: 0.9753 - val_loss: 0.2915 - val_accuracy: 1.0000\n",
      "Epoch 60/100\n",
      "9/9 [==============================] - 0s 6ms/step - loss: 0.3341 - accuracy: 0.9753 - val_loss: 0.2874 - val_accuracy: 1.0000\n",
      "Epoch 61/100\n",
      "9/9 [==============================] - 0s 4ms/step - loss: 0.3304 - accuracy: 0.9753 - val_loss: 0.2834 - val_accuracy: 1.0000\n",
      "Epoch 62/100\n",
      "9/9 [==============================] - 0s 5ms/step - loss: 0.3269 - accuracy: 0.9753 - val_loss: 0.2796 - val_accuracy: 1.0000\n",
      "Epoch 63/100\n",
      "9/9 [==============================] - 0s 5ms/step - loss: 0.3233 - accuracy: 0.9753 - val_loss: 0.2759 - val_accuracy: 1.0000\n",
      "Epoch 64/100\n",
      "9/9 [==============================] - 0s 6ms/step - loss: 0.3199 - accuracy: 0.9753 - val_loss: 0.2722 - val_accuracy: 1.0000\n",
      "Epoch 65/100\n",
      "9/9 [==============================] - 0s 6ms/step - loss: 0.3167 - accuracy: 0.9753 - val_loss: 0.2686 - val_accuracy: 1.0000\n",
      "Epoch 66/100\n",
      "9/9 [==============================] - 0s 6ms/step - loss: 0.3133 - accuracy: 0.9753 - val_loss: 0.2650 - val_accuracy: 1.0000\n",
      "Epoch 67/100\n",
      "9/9 [==============================] - 0s 6ms/step - loss: 0.3099 - accuracy: 0.9630 - val_loss: 0.2614 - val_accuracy: 1.0000\n",
      "Epoch 68/100\n",
      "9/9 [==============================] - 0s 6ms/step - loss: 0.3069 - accuracy: 0.9753 - val_loss: 0.2579 - val_accuracy: 1.0000\n",
      "Epoch 69/100\n",
      "9/9 [==============================] - 0s 4ms/step - loss: 0.3037 - accuracy: 0.9753 - val_loss: 0.2545 - val_accuracy: 1.0000\n",
      "Epoch 70/100\n",
      "9/9 [==============================] - 0s 4ms/step - loss: 0.3007 - accuracy: 0.9630 - val_loss: 0.2512 - val_accuracy: 1.0000\n",
      "Epoch 71/100\n",
      "9/9 [==============================] - 0s 6ms/step - loss: 0.2976 - accuracy: 0.9753 - val_loss: 0.2481 - val_accuracy: 1.0000\n",
      "Epoch 72/100\n",
      "9/9 [==============================] - 0s 6ms/step - loss: 0.2953 - accuracy: 0.9753 - val_loss: 0.2451 - val_accuracy: 1.0000\n",
      "Epoch 73/100\n",
      "9/9 [==============================] - 0s 6ms/step - loss: 0.2928 - accuracy: 0.9753 - val_loss: 0.2419 - val_accuracy: 1.0000\n",
      "Epoch 74/100\n",
      "9/9 [==============================] - 0s 6ms/step - loss: 0.2898 - accuracy: 0.9753 - val_loss: 0.2389 - val_accuracy: 1.0000\n",
      "Epoch 75/100\n",
      "9/9 [==============================] - 0s 6ms/step - loss: 0.2871 - accuracy: 0.9753 - val_loss: 0.2358 - val_accuracy: 1.0000\n",
      "Epoch 76/100\n",
      "9/9 [==============================] - 0s 6ms/step - loss: 0.2842 - accuracy: 0.9753 - val_loss: 0.2329 - val_accuracy: 1.0000\n",
      "Epoch 77/100\n",
      "9/9 [==============================] - 0s 6ms/step - loss: 0.2819 - accuracy: 0.9753 - val_loss: 0.2305 - val_accuracy: 1.0000\n",
      "Epoch 78/100\n",
      "9/9 [==============================] - 0s 6ms/step - loss: 0.2798 - accuracy: 0.9753 - val_loss: 0.2285 - val_accuracy: 1.0000\n",
      "Epoch 79/100\n",
      "9/9 [==============================] - 0s 6ms/step - loss: 0.2780 - accuracy: 0.9630 - val_loss: 0.2260 - val_accuracy: 1.0000\n",
      "Epoch 80/100\n",
      "9/9 [==============================] - 0s 6ms/step - loss: 0.2759 - accuracy: 0.9630 - val_loss: 0.2233 - val_accuracy: 1.0000\n",
      "Epoch 81/100\n",
      "9/9 [==============================] - 0s 8ms/step - loss: 0.2728 - accuracy: 0.9630 - val_loss: 0.2203 - val_accuracy: 1.0000\n",
      "Epoch 82/100\n",
      "9/9 [==============================] - 0s 6ms/step - loss: 0.2689 - accuracy: 0.9753 - val_loss: 0.2176 - val_accuracy: 1.0000\n",
      "Epoch 83/100\n",
      "9/9 [==============================] - 0s 4ms/step - loss: 0.2668 - accuracy: 0.9630 - val_loss: 0.2150 - val_accuracy: 1.0000\n",
      "Epoch 84/100\n",
      "9/9 [==============================] - 0s 6ms/step - loss: 0.2641 - accuracy: 0.9630 - val_loss: 0.2126 - val_accuracy: 1.0000\n",
      "Epoch 85/100\n",
      "9/9 [==============================] - 0s 6ms/step - loss: 0.2618 - accuracy: 0.9630 - val_loss: 0.2101 - val_accuracy: 1.0000\n",
      "Epoch 86/100\n",
      "9/9 [==============================] - 0s 6ms/step - loss: 0.2594 - accuracy: 0.9630 - val_loss: 0.2077 - val_accuracy: 1.0000\n",
      "Epoch 87/100\n",
      "9/9 [==============================] - 0s 6ms/step - loss: 0.2570 - accuracy: 0.9630 - val_loss: 0.2051 - val_accuracy: 1.0000\n",
      "Epoch 88/100\n",
      "9/9 [==============================] - 0s 6ms/step - loss: 0.2550 - accuracy: 0.9630 - val_loss: 0.2027 - val_accuracy: 1.0000\n",
      "Epoch 89/100\n",
      "9/9 [==============================] - 0s 6ms/step - loss: 0.2528 - accuracy: 0.9630 - val_loss: 0.2003 - val_accuracy: 1.0000\n",
      "Epoch 90/100\n",
      "9/9 [==============================] - 0s 6ms/step - loss: 0.2505 - accuracy: 0.9630 - val_loss: 0.1980 - val_accuracy: 1.0000\n",
      "Epoch 91/100\n",
      "9/9 [==============================] - 0s 6ms/step - loss: 0.2485 - accuracy: 0.9630 - val_loss: 0.1957 - val_accuracy: 1.0000\n",
      "Epoch 92/100\n",
      "9/9 [==============================] - 0s 4ms/step - loss: 0.2464 - accuracy: 0.9630 - val_loss: 0.1936 - val_accuracy: 1.0000\n",
      "Epoch 93/100\n",
      "9/9 [==============================] - 0s 6ms/step - loss: 0.2445 - accuracy: 0.9630 - val_loss: 0.1914 - val_accuracy: 1.0000\n",
      "Epoch 94/100\n",
      "9/9 [==============================] - 0s 6ms/step - loss: 0.2423 - accuracy: 0.9630 - val_loss: 0.1893 - val_accuracy: 1.0000\n",
      "Epoch 95/100\n",
      "9/9 [==============================] - 0s 6ms/step - loss: 0.2410 - accuracy: 0.9753 - val_loss: 0.1877 - val_accuracy: 1.0000\n",
      "Epoch 96/100\n",
      "9/9 [==============================] - 0s 6ms/step - loss: 0.2392 - accuracy: 0.9753 - val_loss: 0.1858 - val_accuracy: 1.0000\n",
      "Epoch 97/100\n",
      "9/9 [==============================] - 0s 6ms/step - loss: 0.2369 - accuracy: 0.9753 - val_loss: 0.1837 - val_accuracy: 1.0000\n",
      "Epoch 98/100\n",
      "9/9 [==============================] - 0s 4ms/step - loss: 0.2346 - accuracy: 0.9630 - val_loss: 0.1818 - val_accuracy: 1.0000\n",
      "Epoch 99/100\n",
      "9/9 [==============================] - 0s 4ms/step - loss: 0.2330 - accuracy: 0.9630 - val_loss: 0.1800 - val_accuracy: 1.0000\n",
      "Epoch 100/100\n",
      "9/9 [==============================] - 0s 4ms/step - loss: 0.2312 - accuracy: 0.9630 - val_loss: 0.1780 - val_accuracy: 1.0000\n"
     ]
    }
   ],
   "source": [
    "save4 = model4.fit(x_train, y_train, batch_size = 10, epochs = 100, validation_split= 0.1)"
   ]
  },
  {
   "cell_type": "code",
   "execution_count": 49,
   "id": "73901042",
   "metadata": {},
   "outputs": [],
   "source": [
    "tl4 = save4.history[\"loss\"]\n",
    "cvl4 = save4.history[\"val_loss\"]"
   ]
  },
  {
   "cell_type": "code",
   "execution_count": 50,
   "id": "a2e20d1e",
   "metadata": {},
   "outputs": [
    {
     "data": {
      "text/plain": [
       "<matplotlib.legend.Legend at 0x1d8864938b0>"
      ]
     },
     "execution_count": 50,
     "metadata": {},
     "output_type": "execute_result"
    },
    {
     "data": {
      "image/png": "[encoded data removed]",
      "text/plain": [
       "<Figure size 432x288 with 1 Axes>"
      ]
     },
     "metadata": {
      "needs_background": "light"
     },
     "output_type": "display_data"
    }
   ],
   "source": [
    "plt.plot(tl4,label=\"training_loss\")\n",
    "plt.plot(cvl4,label=\"crossval_loss\")\n",
    "plt.legend()"
   ]
  },
  {
   "cell_type": "code",
   "execution_count": 51,
   "id": "49686228",
   "metadata": {},
   "outputs": [
    {
     "name": "stdout",
     "output_type": "stream",
     "text": [
      "1/1 [==============================] - 0s 31ms/step - loss: 0.4713 - accuracy: 0.8000\n"
     ]
    }
   ],
   "source": [
    "y_pred4 = model4.evaluate(x_test, y_test)"
   ]
  },
  {
   "cell_type": "code",
   "execution_count": 52,
   "id": "316170f6",
   "metadata": {},
   "outputs": [
    {
     "data": {
      "text/plain": [
       "[0.4713370203971863, 0.800000011920929]"
      ]
     },
     "execution_count": 52,
     "metadata": {},
     "output_type": "execute_result"
    }
   ],
   "source": [
    "y_pred4"
   ]
  },
  {
   "cell_type": "markdown",
   "id": "e1b682ea",
   "metadata": {},
   "source": [
    "**Conclusion:**"
   ]
  },
  {
   "cell_type": "markdown",
   "id": "7aa281bf",
   "metadata": {},
   "source": [
    "- from the above models, for the 2nd model we got the best accuracy\n",
    "- accuracy score : 0.9722\n",
    "- optimizer : Adam\n",
    "- loss : binary_crossentropy\n",
    "- epochs : 150\n",
    "- activation : tanh"
   ]
  },
  {
   "cell_type": "code",
   "execution_count": null,
   "id": "a105bf79",
   "metadata": {},
   "outputs": [],
   "source": []
  }
 ],
 "metadata": {
  "kernelspec": {
   "display_name": "Python 3 (ipykernel)",
   "language": "python",
   "name": "python3"
  },
  "language_info": {
   "codemirror_mode": {
    "name": "ipython",
    "version": 3
   },
   "file_extension": ".py",
   "mimetype": "text/x-python",
   "name": "python",
   "nbconvert_exporter": "python",
   "pygments_lexer": "ipython3",
   "version": "3.9.12"
  }
 },
 "nbformat": 4,
 "nbformat_minor": 5
}
