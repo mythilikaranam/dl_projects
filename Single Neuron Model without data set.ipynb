{
 "cells": [
  {
   "cell_type": "markdown",
   "id": "bfd64db4",
   "metadata": {},
   "source": [
    "### **Importing Library:**"
   ]
  },
  {
   "cell_type": "code",
   "execution_count": 1,
   "id": "a4e82ba6",
   "metadata": {},
   "outputs": [],
   "source": [
    "import numpy as np"
   ]
  },
  {
   "cell_type": "markdown",
   "id": "42d638c1",
   "metadata": {},
   "source": [
    "### **Adding `inputs`,Neuron `weights` and `bias` for `Single Neuron`:**"
   ]
  },
  {
   "cell_type": "code",
   "execution_count": 11,
   "id": "c0d24e7e",
   "metadata": {},
   "outputs": [],
   "source": [
    "inputs=np.array([0.2,0.4,0.6])\n",
    "weights=np.array([0.1,0.3,0.5])\n",
    "bias=0.4"
   ]
  },
  {
   "cell_type": "markdown",
   "id": "dbad9a04",
   "metadata": {},
   "source": [
    "### **Sigmoid Activation Function:**"
   ]
  },
  {
   "cell_type": "code",
   "execution_count": 4,
   "id": "8a029c73",
   "metadata": {},
   "outputs": [],
   "source": [
    "def sigmoid(x):\n",
    "    return 1 / (1 + np.exp(-x))"
   ]
  },
  {
   "cell_type": "markdown",
   "id": "c58be134",
   "metadata": {},
   "source": [
    "*The sigmoid function takes a numpy array x as input and applies the sigmoid activation function\n",
    "element-wise to each element of the array.*"
   ]
  },
  {
   "cell_type": "markdown",
   "id": "938c97a7",
   "metadata": {},
   "source": [
    "### **Tanh Activation Function:**"
   ]
  },
  {
   "cell_type": "code",
   "execution_count": 5,
   "id": "7cd98cbe",
   "metadata": {},
   "outputs": [],
   "source": [
    "def tanh(x):\n",
    "    return np.tanh(x)"
   ]
  },
  {
   "cell_type": "markdown",
   "id": "12707a18",
   "metadata": {},
   "source": [
    "*The tanh function takes a numpy array x as input and applies the tanh activation function\n",
    "element-wise to each element of the array.*"
   ]
  },
  {
   "cell_type": "markdown",
   "id": "506c7e5e",
   "metadata": {},
   "source": [
    "### **Neuron output with Sigmoid activation:**"
   ]
  },
  {
   "cell_type": "code",
   "execution_count": 7,
   "id": "fc704c71",
   "metadata": {},
   "outputs": [],
   "source": [
    "Sigmoid_output=sigmoid(np.dot(inputs,weights)+bias)"
   ]
  },
  {
   "cell_type": "code",
   "execution_count": 8,
   "id": "a2c89a31",
   "metadata": {},
   "outputs": [
    {
     "data": {
      "text/plain": [
       "0.6984652160025387"
      ]
     },
     "execution_count": 8,
     "metadata": {},
     "output_type": "execute_result"
    }
   ],
   "source": [
    "Sigmoid_output"
   ]
  },
  {
   "cell_type": "markdown",
   "id": "8d1674f6",
   "metadata": {},
   "source": [
    "### **Neuron output with Tanh activation:**"
   ]
  },
  {
   "cell_type": "code",
   "execution_count": 9,
   "id": "f42c0772",
   "metadata": {},
   "outputs": [],
   "source": [
    "tanh_output=tanh(np.dot(inputs,weights)+bias)"
   ]
  },
  {
   "cell_type": "code",
   "execution_count": 10,
   "id": "0772b56a",
   "metadata": {},
   "outputs": [
    {
     "data": {
      "text/plain": [
       "0.6858090622290947"
      ]
     },
     "execution_count": 10,
     "metadata": {},
     "output_type": "execute_result"
    }
   ],
   "source": [
    "tanh_output"
   ]
  },
  {
   "cell_type": "code",
   "execution_count": null,
   "id": "6093964c",
   "metadata": {},
   "outputs": [],
   "source": []
  }
 ],
 "metadata": {
  "kernelspec": {
   "display_name": "Python 3 (ipykernel)",
   "language": "python",
   "name": "python3"
  },
  "language_info": {
   "codemirror_mode": {
    "name": "ipython",
    "version": 3
   },
   "file_extension": ".py",
   "mimetype": "text/x-python",
   "name": "python",
   "nbconvert_exporter": "python",
   "pygments_lexer": "ipython3",
   "version": "3.9.12"
  }
 },
 "nbformat": 4,
 "nbformat_minor": 5
}
