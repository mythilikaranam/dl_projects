{
 "cells": [
  {
   "cell_type": "markdown",
   "id": "f9e6147c",
   "metadata": {},
   "source": [
    "**Importing Required Libraries**"
   ]
  },
  {
   "cell_type": "code",
   "execution_count": 1,
   "id": "66b330b2",
   "metadata": {},
   "outputs": [],
   "source": [
    "import pandas as pd\n",
    "import matplotlib.pyplot as plt\n",
    "import numpy as np\n",
    "import seaborn as sns\n",
    "import warnings\n",
    "warnings.filterwarnings(\"ignore\")"
   ]
  },
  {
   "cell_type": "code",
   "execution_count": 2,
   "id": "f70896fa",
   "metadata": {},
   "outputs": [],
   "source": [
    "df=pd.read_csv(r\"C:\\Users\\mythi\\Downloads\\data\\data\\demo_data\\1.ushape.csv\",header=None)"
   ]
  },
  {
   "cell_type": "code",
   "execution_count": 3,
   "id": "a475ef99",
   "metadata": {},
   "outputs": [
    {
     "data": {
      "text/html": [
       "<div>\n",
       "<style scoped>\n",
       "    .dataframe tbody tr th:only-of-type {\n",
       "        vertical-align: middle;\n",
       "    }\n",
       "\n",
       "    .dataframe tbody tr th {\n",
       "        vertical-align: top;\n",
       "    }\n",
       "\n",
       "    .dataframe thead th {\n",
       "        text-align: right;\n",
       "    }\n",
       "</style>\n",
       "<table border=\"1\" class=\"dataframe\">\n",
       "  <thead>\n",
       "    <tr style=\"text-align: right;\">\n",
       "      <th></th>\n",
       "      <th>0</th>\n",
       "      <th>1</th>\n",
       "      <th>2</th>\n",
       "    </tr>\n",
       "  </thead>\n",
       "  <tbody>\n",
       "    <tr>\n",
       "      <th>0</th>\n",
       "      <td>0.031595</td>\n",
       "      <td>0.986988</td>\n",
       "      <td>0.0</td>\n",
       "    </tr>\n",
       "    <tr>\n",
       "      <th>1</th>\n",
       "      <td>2.115098</td>\n",
       "      <td>-0.046244</td>\n",
       "      <td>1.0</td>\n",
       "    </tr>\n",
       "    <tr>\n",
       "      <th>2</th>\n",
       "      <td>0.882490</td>\n",
       "      <td>-0.075756</td>\n",
       "      <td>0.0</td>\n",
       "    </tr>\n",
       "    <tr>\n",
       "      <th>3</th>\n",
       "      <td>-0.055144</td>\n",
       "      <td>-0.037332</td>\n",
       "      <td>1.0</td>\n",
       "    </tr>\n",
       "    <tr>\n",
       "      <th>4</th>\n",
       "      <td>0.829545</td>\n",
       "      <td>-0.539321</td>\n",
       "      <td>1.0</td>\n",
       "    </tr>\n",
       "  </tbody>\n",
       "</table>\n",
       "</div>"
      ],
      "text/plain": [
       "          0         1    2\n",
       "0  0.031595  0.986988  0.0\n",
       "1  2.115098 -0.046244  1.0\n",
       "2  0.882490 -0.075756  0.0\n",
       "3 -0.055144 -0.037332  1.0\n",
       "4  0.829545 -0.539321  1.0"
      ]
     },
     "execution_count": 3,
     "metadata": {},
     "output_type": "execute_result"
    }
   ],
   "source": [
    "df.head()"
   ]
  },
  {
   "cell_type": "code",
   "execution_count": 4,
   "id": "4aaee240",
   "metadata": {},
   "outputs": [
    {
     "name": "stdout",
     "output_type": "stream",
     "text": [
      "<class 'pandas.core.frame.DataFrame'>\n",
      "RangeIndex: 100 entries, 0 to 99\n",
      "Data columns (total 3 columns):\n",
      " #   Column  Non-Null Count  Dtype  \n",
      "---  ------  --------------  -----  \n",
      " 0   0       100 non-null    float64\n",
      " 1   1       100 non-null    float64\n",
      " 2   2       100 non-null    float64\n",
      "dtypes: float64(3)\n",
      "memory usage: 2.5 KB\n"
     ]
    }
   ],
   "source": [
    "df.info()"
   ]
  },
  {
   "cell_type": "code",
   "execution_count": 5,
   "id": "c76f1dfb",
   "metadata": {},
   "outputs": [
    {
     "data": {
      "text/plain": [
       "0.0    50\n",
       "1.0    50\n",
       "Name: 2, dtype: int64"
      ]
     },
     "execution_count": 5,
     "metadata": {},
     "output_type": "execute_result"
    }
   ],
   "source": [
    "df[2].value_counts()"
   ]
  },
  {
   "cell_type": "code",
   "execution_count": 6,
   "id": "2a67c9b7",
   "metadata": {},
   "outputs": [
    {
     "data": {
      "text/plain": [
       "<AxesSubplot:xlabel='0', ylabel='1'>"
      ]
     },
     "execution_count": 6,
     "metadata": {},
     "output_type": "execute_result"
    },
    {
     "data": {
      "image/png": "[encoded data removed]",
      "text/plain": [
       "<Figure size 360x216 with 1 Axes>"
      ]
     },
     "metadata": {
      "needs_background": "light"
     },
     "output_type": "display_data"
    }
   ],
   "source": [
    "plt.figure(figsize = (5,3))\n",
    "sns.scatterplot(x = df[0], y = df[1], hue = df[2])"
   ]
  },
  {
   "cell_type": "markdown",
   "id": "886574be",
   "metadata": {},
   "source": [
    "**Splitting train and test data**"
   ]
  },
  {
   "cell_type": "code",
   "execution_count": 7,
   "id": "5551cb82",
   "metadata": {},
   "outputs": [],
   "source": [
    "from sklearn.model_selection import train_test_split\n",
    "x_train, x_test, y_train, y_test = train_test_split(df[[0,1]], df[2], train_size = 0.9)"
   ]
  },
  {
   "cell_type": "code",
   "execution_count": 8,
   "id": "86d6a94e",
   "metadata": {},
   "outputs": [
    {
     "name": "stdout",
     "output_type": "stream",
     "text": [
      "(90, 2) (90,)\n",
      "(10, 2) (10,)\n"
     ]
    }
   ],
   "source": [
    "#Shape of 'x_train' and 'y_train'\n",
    "\n",
    "print(x_train.shape,y_train.shape)\n",
    "\n",
    "#Shape of 'x_test' and 'y_test'\n",
    "\n",
    "print(x_test.shape,y_test.shape)"
   ]
  },
  {
   "cell_type": "markdown",
   "id": "177d730d",
   "metadata": {},
   "source": [
    "**Standardizing the train data**"
   ]
  },
  {
   "cell_type": "code",
   "execution_count": 9,
   "id": "ae365339",
   "metadata": {},
   "outputs": [],
   "source": [
    "from sklearn.preprocessing import StandardScaler\n",
    "std = StandardScaler()"
   ]
  },
  {
   "cell_type": "code",
   "execution_count": 10,
   "id": "3dd6b0dd",
   "metadata": {},
   "outputs": [],
   "source": [
    "std_train=std.fit_transform(x_train)"
   ]
  },
  {
   "cell_type": "code",
   "execution_count": 11,
   "id": "8e217e26",
   "metadata": {
    "scrolled": true
   },
   "outputs": [
    {
     "data": {
      "text/plain": [
       "array([[ 0.80093862,  1.71354574],\n",
       "       [ 0.13220176,  0.94965141],\n",
       "       [ 1.09395162, -0.53103508],\n",
       "       [-2.08788811,  0.37892777],\n",
       "       [-0.2258841 ,  0.14393554],\n",
       "       [-0.8423248 ,  0.0835014 ],\n",
       "       [ 0.49149821, -1.07292335],\n",
       "       [ 1.84609193,  0.44757128],\n",
       "       [-0.18707066, -1.51855673],\n",
       "       [ 0.22059061, -1.72777366],\n",
       "       [ 0.18670337,  0.94694469],\n",
       "       [ 0.41152507, -0.48036938],\n",
       "       [ 0.87164059, -1.19568706],\n",
       "       [ 1.70663924, -0.13758036],\n",
       "       [ 0.57516065,  0.30091991],\n",
       "       [-1.43847962, -1.00953143],\n",
       "       [-0.31154081,  1.11361557],\n",
       "       [ 1.80871284,  0.79055387],\n",
       "       [-0.65323863, -0.41418502],\n",
       "       [-0.62380089,  0.32684132],\n",
       "       [ 0.28895462, -0.08503306],\n",
       "       [ 1.35781541,  0.27141355],\n",
       "       [-0.06419724, -0.68603197],\n",
       "       [ 1.58948715, -0.05279617],\n",
       "       [-0.38483664,  0.07588117],\n",
       "       [ 1.00432574, -0.36203577],\n",
       "       [-0.0599492 ,  0.59237832],\n",
       "       [-0.55473894,  1.350199  ],\n",
       "       [ 1.88508462, -1.55524173],\n",
       "       [ 1.68446613, -0.88238805],\n",
       "       [-1.669465  ,  1.20659346],\n",
       "       [-0.24852867,  1.77422365],\n",
       "       [-1.22853656,  1.46710931],\n",
       "       [ 0.0563172 ,  0.23136011],\n",
       "       [ 0.65271035, -0.98447819],\n",
       "       [-0.44602201, -1.00383289],\n",
       "       [-1.80529715, -0.11448387],\n",
       "       [ 0.97276036, -1.74363689],\n",
       "       [-0.11427118, -0.90931303],\n",
       "       [ 0.13813351, -1.02801632],\n",
       "       [-1.58470242,  0.5207266 ],\n",
       "       [ 1.32051001, -0.69789651],\n",
       "       [-0.87964208, -0.01714156],\n",
       "       [-0.78744242,  1.3763181 ],\n",
       "       [ 0.57427379, -1.42772242],\n",
       "       [ 0.00924633,  1.34334722],\n",
       "       [-1.26858997,  0.7822042 ],\n",
       "       [ 1.13549707, -0.42766069],\n",
       "       [-1.33789013, -0.57284322],\n",
       "       [-1.00684658,  1.57882299],\n",
       "       [ 0.17795291,  2.35770483],\n",
       "       [-0.35534615, -0.51811845],\n",
       "       [-2.06326554, -0.03268813],\n",
       "       [-0.01414756, -0.55196261],\n",
       "       [ 0.46696839,  2.03607946],\n",
       "       [ 0.25476402,  0.64333272],\n",
       "       [-1.00948694,  0.9055862 ],\n",
       "       [-1.59255378, -0.22501588],\n",
       "       [-1.01337194,  1.36040547],\n",
       "       [-0.71217737,  0.61778739],\n",
       "       [-0.51256603,  0.62588553],\n",
       "       [ 1.38443551,  0.44075005],\n",
       "       [-0.24800127,  1.00405994],\n",
       "       [ 1.11287021, -1.6354862 ],\n",
       "       [ 1.52725816, -0.36896318],\n",
       "       [ 0.7384441 ,  0.68087069],\n",
       "       [-1.02381168, -0.75447206],\n",
       "       [ 0.35140183, -1.27885743],\n",
       "       [ 0.24228967,  0.13520701],\n",
       "       [-0.24505052,  1.06900482],\n",
       "       [-0.19696664,  1.57191653],\n",
       "       [ 1.30308767, -1.08169258],\n",
       "       [-0.36876653, -0.07281536],\n",
       "       [ 0.22876675,  0.42044712],\n",
       "       [ 0.21014853, -1.1403741 ],\n",
       "       [ 0.7305209 ,  0.60249014],\n",
       "       [ 0.09737948,  0.18844776],\n",
       "       [-0.56230044, -0.16474734],\n",
       "       [ 0.60872674, -2.1338693 ],\n",
       "       [-0.05229645, -0.60093459],\n",
       "       [-0.85989347,  0.9915288 ],\n",
       "       [ 1.88651706, -0.38935531],\n",
       "       [ 1.21063488, -1.43478378],\n",
       "       [-0.34235232, -1.47384306],\n",
       "       [-1.64510291, -1.1358878 ],\n",
       "       [-1.52375458,  0.73772007],\n",
       "       [ 0.13452724, -1.12015202],\n",
       "       [-1.75420144, -0.07100488],\n",
       "       [ 0.87433054, -0.70628805],\n",
       "       [-0.44966408,  1.37369579]])"
      ]
     },
     "execution_count": 11,
     "metadata": {},
     "output_type": "execute_result"
    }
   ],
   "source": [
    "std_train"
   ]
  },
  {
   "cell_type": "markdown",
   "id": "53711b96",
   "metadata": {},
   "source": [
    "**Creating Dense layers**"
   ]
  },
  {
   "cell_type": "code",
   "execution_count": 12,
   "id": "223335b8",
   "metadata": {},
   "outputs": [],
   "source": [
    "import tensorflow\n",
    "from tensorflow.keras import Sequential\n",
    "from tensorflow.keras.layers import Dense"
   ]
  },
  {
   "cell_type": "code",
   "execution_count": 20,
   "id": "38bb293b",
   "metadata": {},
   "outputs": [],
   "source": [
    "model=Sequential()\n",
    "model.add(Dense(3,activation=\"relu\",input_dim=2))\n",
    "model.add(Dense(2,activation=\"relu\"))\n",
    "model.add(Dense(1,activation=\"sigmoid\"))"
   ]
  },
  {
   "cell_type": "code",
   "execution_count": 21,
   "id": "98b2dec0",
   "metadata": {},
   "outputs": [
    {
     "name": "stdout",
     "output_type": "stream",
     "text": [
      "Model: \"sequential_1\"\n",
      "_________________________________________________________________\n",
      " Layer (type)                Output Shape              Param #   \n",
      "=================================================================\n",
      " dense_3 (Dense)             (None, 3)                 9         \n",
      "                                                                 \n",
      " dense_4 (Dense)             (None, 2)                 8         \n",
      "                                                                 \n",
      " dense_5 (Dense)             (None, 1)                 3         \n",
      "                                                                 \n",
      "=================================================================\n",
      "Total params: 20\n",
      "Trainable params: 20\n",
      "Non-trainable params: 0\n",
      "_________________________________________________________________\n"
     ]
    }
   ],
   "source": [
    "model.summary()"
   ]
  },
  {
   "cell_type": "markdown",
   "id": "a5f6030f",
   "metadata": {},
   "source": [
    "**Compile**"
   ]
  },
  {
   "cell_type": "code",
   "execution_count": 22,
   "id": "726ffd88",
   "metadata": {},
   "outputs": [],
   "source": [
    "model.compile(optimizer=\"Adam\",loss='binary_crossentropy',metrics=['accuracy'])"
   ]
  },
  {
   "cell_type": "markdown",
   "id": "9ae2934a",
   "metadata": {},
   "source": [
    "**Fitting**"
   ]
  },
  {
   "cell_type": "code",
   "execution_count": 23,
   "id": "05f7a983",
   "metadata": {},
   "outputs": [
    {
     "name": "stdout",
     "output_type": "stream",
     "text": [
      "Epoch 1/100\n",
      "9/9 [==============================] - 1s 31ms/step - loss: 0.6777 - accuracy: 0.5802 - val_loss: 0.6405 - val_accuracy: 0.8889\n",
      "Epoch 2/100\n",
      "9/9 [==============================] - 0s 6ms/step - loss: 0.6735 - accuracy: 0.5926 - val_loss: 0.6380 - val_accuracy: 0.8889\n",
      "Epoch 3/100\n",
      "9/9 [==============================] - 0s 5ms/step - loss: 0.6706 - accuracy: 0.6173 - val_loss: 0.6356 - val_accuracy: 0.8889\n",
      "Epoch 4/100\n",
      "9/9 [==============================] - 0s 5ms/step - loss: 0.6670 - accuracy: 0.6420 - val_loss: 0.6332 - val_accuracy: 0.8889\n",
      "Epoch 5/100\n",
      "9/9 [==============================] - 0s 6ms/step - loss: 0.6639 - accuracy: 0.6420 - val_loss: 0.6313 - val_accuracy: 0.8889\n",
      "Epoch 6/100\n",
      "9/9 [==============================] - 0s 5ms/step - loss: 0.6607 - accuracy: 0.6543 - val_loss: 0.6300 - val_accuracy: 0.7778\n",
      "Epoch 7/100\n",
      "9/9 [==============================] - 0s 5ms/step - loss: 0.6564 - accuracy: 0.6914 - val_loss: 0.6280 - val_accuracy: 0.8889\n",
      "Epoch 8/100\n",
      "9/9 [==============================] - 0s 6ms/step - loss: 0.6534 - accuracy: 0.6914 - val_loss: 0.6258 - val_accuracy: 0.8889\n",
      "Epoch 9/100\n",
      "9/9 [==============================] - 0s 6ms/step - loss: 0.6505 - accuracy: 0.7284 - val_loss: 0.6230 - val_accuracy: 0.8889\n",
      "Epoch 10/100\n",
      "9/9 [==============================] - 0s 6ms/step - loss: 0.6477 - accuracy: 0.7531 - val_loss: 0.6199 - val_accuracy: 0.8889\n",
      "Epoch 11/100\n",
      "9/9 [==============================] - 0s 5ms/step - loss: 0.6445 - accuracy: 0.7531 - val_loss: 0.6171 - val_accuracy: 0.8889\n",
      "Epoch 12/100\n",
      "9/9 [==============================] - 0s 4ms/step - loss: 0.6411 - accuracy: 0.7531 - val_loss: 0.6149 - val_accuracy: 0.8889\n",
      "Epoch 13/100\n",
      "9/9 [==============================] - 0s 5ms/step - loss: 0.6375 - accuracy: 0.7778 - val_loss: 0.6130 - val_accuracy: 0.8889\n",
      "Epoch 14/100\n",
      "9/9 [==============================] - 0s 7ms/step - loss: 0.6347 - accuracy: 0.7901 - val_loss: 0.6096 - val_accuracy: 0.8889\n",
      "Epoch 15/100\n",
      "9/9 [==============================] - 0s 6ms/step - loss: 0.6318 - accuracy: 0.8025 - val_loss: 0.6066 - val_accuracy: 0.8889\n",
      "Epoch 16/100\n",
      "9/9 [==============================] - 0s 6ms/step - loss: 0.6283 - accuracy: 0.8148 - val_loss: 0.6030 - val_accuracy: 0.8889\n",
      "Epoch 17/100\n",
      "9/9 [==============================] - 0s 5ms/step - loss: 0.6252 - accuracy: 0.8148 - val_loss: 0.6003 - val_accuracy: 0.8889\n",
      "Epoch 18/100\n",
      "9/9 [==============================] - 0s 5ms/step - loss: 0.6226 - accuracy: 0.8025 - val_loss: 0.5974 - val_accuracy: 0.8889\n",
      "Epoch 19/100\n",
      "9/9 [==============================] - 0s 5ms/step - loss: 0.6197 - accuracy: 0.8025 - val_loss: 0.5937 - val_accuracy: 0.8889\n",
      "Epoch 20/100\n",
      "9/9 [==============================] - 0s 6ms/step - loss: 0.6173 - accuracy: 0.8148 - val_loss: 0.5894 - val_accuracy: 0.8889\n",
      "Epoch 21/100\n",
      "9/9 [==============================] - 0s 6ms/step - loss: 0.6141 - accuracy: 0.8148 - val_loss: 0.5855 - val_accuracy: 0.8889\n",
      "Epoch 22/100\n",
      "9/9 [==============================] - 0s 5ms/step - loss: 0.6113 - accuracy: 0.8148 - val_loss: 0.5805 - val_accuracy: 0.8889\n",
      "Epoch 23/100\n",
      "9/9 [==============================] - 0s 5ms/step - loss: 0.6088 - accuracy: 0.8148 - val_loss: 0.5754 - val_accuracy: 0.8889\n",
      "Epoch 24/100\n",
      "9/9 [==============================] - 0s 5ms/step - loss: 0.6055 - accuracy: 0.8148 - val_loss: 0.5716 - val_accuracy: 0.8889\n",
      "Epoch 25/100\n",
      "9/9 [==============================] - 0s 6ms/step - loss: 0.6023 - accuracy: 0.8148 - val_loss: 0.5677 - val_accuracy: 0.8889\n",
      "Epoch 26/100\n",
      "9/9 [==============================] - 0s 6ms/step - loss: 0.5993 - accuracy: 0.8025 - val_loss: 0.5632 - val_accuracy: 0.8889\n",
      "Epoch 27/100\n",
      "9/9 [==============================] - 0s 6ms/step - loss: 0.5966 - accuracy: 0.8272 - val_loss: 0.5576 - val_accuracy: 0.8889\n",
      "Epoch 28/100\n",
      "9/9 [==============================] - 0s 5ms/step - loss: 0.5934 - accuracy: 0.8395 - val_loss: 0.5525 - val_accuracy: 0.8889\n",
      "Epoch 29/100\n",
      "9/9 [==============================] - 0s 5ms/step - loss: 0.5905 - accuracy: 0.8642 - val_loss: 0.5464 - val_accuracy: 0.8889\n",
      "Epoch 30/100\n",
      "9/9 [==============================] - 0s 5ms/step - loss: 0.5871 - accuracy: 0.8642 - val_loss: 0.5412 - val_accuracy: 0.8889\n",
      "Epoch 31/100\n",
      "9/9 [==============================] - 0s 6ms/step - loss: 0.5839 - accuracy: 0.8642 - val_loss: 0.5361 - val_accuracy: 0.8889\n",
      "Epoch 32/100\n",
      "9/9 [==============================] - 0s 6ms/step - loss: 0.5804 - accuracy: 0.8519 - val_loss: 0.5314 - val_accuracy: 0.8889\n",
      "Epoch 33/100\n",
      "9/9 [==============================] - 0s 5ms/step - loss: 0.5768 - accuracy: 0.8395 - val_loss: 0.5268 - val_accuracy: 0.8889\n",
      "Epoch 34/100\n",
      "9/9 [==============================] - 0s 5ms/step - loss: 0.5737 - accuracy: 0.8272 - val_loss: 0.5224 - val_accuracy: 0.8889\n",
      "Epoch 35/100\n",
      "9/9 [==============================] - 0s 4ms/step - loss: 0.5702 - accuracy: 0.8272 - val_loss: 0.5172 - val_accuracy: 1.0000\n",
      "Epoch 36/100\n",
      "9/9 [==============================] - 0s 5ms/step - loss: 0.5672 - accuracy: 0.8395 - val_loss: 0.5121 - val_accuracy: 1.0000\n",
      "Epoch 37/100\n",
      "9/9 [==============================] - 0s 5ms/step - loss: 0.5642 - accuracy: 0.8395 - val_loss: 0.5082 - val_accuracy: 1.0000\n",
      "Epoch 38/100\n",
      "9/9 [==============================] - 0s 4ms/step - loss: 0.5613 - accuracy: 0.8272 - val_loss: 0.5039 - val_accuracy: 1.0000\n",
      "Epoch 39/100\n",
      "9/9 [==============================] - 0s 6ms/step - loss: 0.5577 - accuracy: 0.8272 - val_loss: 0.4992 - val_accuracy: 1.0000\n",
      "Epoch 40/100\n",
      "9/9 [==============================] - 0s 6ms/step - loss: 0.5549 - accuracy: 0.8272 - val_loss: 0.4937 - val_accuracy: 1.0000\n",
      "Epoch 41/100\n",
      "9/9 [==============================] - 0s 5ms/step - loss: 0.5516 - accuracy: 0.8272 - val_loss: 0.4884 - val_accuracy: 1.0000\n",
      "Epoch 42/100\n",
      "9/9 [==============================] - 0s 4ms/step - loss: 0.5482 - accuracy: 0.8272 - val_loss: 0.4830 - val_accuracy: 1.0000\n",
      "Epoch 43/100\n",
      "9/9 [==============================] - 0s 5ms/step - loss: 0.5451 - accuracy: 0.8272 - val_loss: 0.4761 - val_accuracy: 1.0000\n",
      "Epoch 44/100\n",
      "9/9 [==============================] - 0s 4ms/step - loss: 0.5415 - accuracy: 0.8395 - val_loss: 0.4702 - val_accuracy: 1.0000\n",
      "Epoch 45/100\n",
      "9/9 [==============================] - 0s 5ms/step - loss: 0.5381 - accuracy: 0.8519 - val_loss: 0.4640 - val_accuracy: 1.0000\n",
      "Epoch 46/100\n",
      "9/9 [==============================] - 0s 5ms/step - loss: 0.5348 - accuracy: 0.8519 - val_loss: 0.4569 - val_accuracy: 1.0000\n",
      "Epoch 47/100\n",
      "9/9 [==============================] - 0s 5ms/step - loss: 0.5314 - accuracy: 0.8519 - val_loss: 0.4512 - val_accuracy: 1.0000\n",
      "Epoch 48/100\n",
      "9/9 [==============================] - 0s 5ms/step - loss: 0.5283 - accuracy: 0.8519 - val_loss: 0.4444 - val_accuracy: 1.0000\n",
      "Epoch 49/100\n",
      "9/9 [==============================] - 0s 6ms/step - loss: 0.5248 - accuracy: 0.8519 - val_loss: 0.4379 - val_accuracy: 1.0000\n",
      "Epoch 50/100\n",
      "9/9 [==============================] - 0s 5ms/step - loss: 0.5211 - accuracy: 0.8519 - val_loss: 0.4313 - val_accuracy: 1.0000\n",
      "Epoch 51/100\n",
      "9/9 [==============================] - 0s 5ms/step - loss: 0.5184 - accuracy: 0.8519 - val_loss: 0.4249 - val_accuracy: 1.0000\n",
      "Epoch 52/100\n",
      "9/9 [==============================] - 0s 4ms/step - loss: 0.5151 - accuracy: 0.8519 - val_loss: 0.4187 - val_accuracy: 1.0000\n",
      "Epoch 53/100\n",
      "9/9 [==============================] - 0s 5ms/step - loss: 0.5123 - accuracy: 0.8519 - val_loss: 0.4137 - val_accuracy: 1.0000\n",
      "Epoch 54/100\n",
      "9/9 [==============================] - 0s 5ms/step - loss: 0.5086 - accuracy: 0.8519 - val_loss: 0.4083 - val_accuracy: 1.0000\n",
      "Epoch 55/100\n",
      "9/9 [==============================] - 0s 5ms/step - loss: 0.5052 - accuracy: 0.8519 - val_loss: 0.4027 - val_accuracy: 1.0000\n",
      "Epoch 56/100\n",
      "9/9 [==============================] - 0s 6ms/step - loss: 0.5024 - accuracy: 0.8519 - val_loss: 0.3985 - val_accuracy: 1.0000\n",
      "Epoch 57/100\n",
      "9/9 [==============================] - 0s 5ms/step - loss: 0.4994 - accuracy: 0.8519 - val_loss: 0.3942 - val_accuracy: 1.0000\n",
      "Epoch 58/100\n",
      "9/9 [==============================] - 0s 6ms/step - loss: 0.4966 - accuracy: 0.8519 - val_loss: 0.3910 - val_accuracy: 1.0000\n",
      "Epoch 59/100\n",
      "9/9 [==============================] - 0s 5ms/step - loss: 0.4954 - accuracy: 0.8519 - val_loss: 0.3873 - val_accuracy: 1.0000\n",
      "Epoch 60/100\n",
      "9/9 [==============================] - 0s 4ms/step - loss: 0.4909 - accuracy: 0.8519 - val_loss: 0.3812 - val_accuracy: 1.0000\n",
      "Epoch 61/100\n",
      "9/9 [==============================] - 0s 6ms/step - loss: 0.4878 - accuracy: 0.8519 - val_loss: 0.3747 - val_accuracy: 1.0000\n",
      "Epoch 62/100\n",
      "9/9 [==============================] - 0s 6ms/step - loss: 0.4842 - accuracy: 0.8519 - val_loss: 0.3676 - val_accuracy: 1.0000\n",
      "Epoch 63/100\n",
      "9/9 [==============================] - 0s 5ms/step - loss: 0.4805 - accuracy: 0.8519 - val_loss: 0.3603 - val_accuracy: 1.0000\n",
      "Epoch 64/100\n",
      "9/9 [==============================] - 0s 6ms/step - loss: 0.4771 - accuracy: 0.8519 - val_loss: 0.3537 - val_accuracy: 1.0000\n",
      "Epoch 65/100\n",
      "9/9 [==============================] - 0s 5ms/step - loss: 0.4739 - accuracy: 0.8519 - val_loss: 0.3467 - val_accuracy: 1.0000\n",
      "Epoch 66/100\n",
      "9/9 [==============================] - 0s 5ms/step - loss: 0.4704 - accuracy: 0.8519 - val_loss: 0.3406 - val_accuracy: 1.0000\n",
      "Epoch 67/100\n",
      "9/9 [==============================] - 0s 4ms/step - loss: 0.4673 - accuracy: 0.8395 - val_loss: 0.3342 - val_accuracy: 1.0000\n",
      "Epoch 68/100\n",
      "9/9 [==============================] - 0s 6ms/step - loss: 0.4638 - accuracy: 0.8395 - val_loss: 0.3290 - val_accuracy: 1.0000\n",
      "Epoch 69/100\n",
      "9/9 [==============================] - 0s 6ms/step - loss: 0.4611 - accuracy: 0.8519 - val_loss: 0.3247 - val_accuracy: 1.0000\n",
      "Epoch 70/100\n",
      "9/9 [==============================] - 0s 6ms/step - loss: 0.4585 - accuracy: 0.8519 - val_loss: 0.3185 - val_accuracy: 1.0000\n",
      "Epoch 71/100\n",
      "9/9 [==============================] - 0s 5ms/step - loss: 0.4552 - accuracy: 0.8395 - val_loss: 0.3117 - val_accuracy: 1.0000\n",
      "Epoch 72/100\n",
      "9/9 [==============================] - 0s 5ms/step - loss: 0.4521 - accuracy: 0.8395 - val_loss: 0.3060 - val_accuracy: 1.0000\n",
      "Epoch 73/100\n",
      "9/9 [==============================] - 0s 6ms/step - loss: 0.4492 - accuracy: 0.8395 - val_loss: 0.3018 - val_accuracy: 1.0000\n",
      "Epoch 74/100\n",
      "9/9 [==============================] - 0s 5ms/step - loss: 0.4473 - accuracy: 0.8272 - val_loss: 0.2972 - val_accuracy: 1.0000\n",
      "Epoch 75/100\n",
      "9/9 [==============================] - 0s 5ms/step - loss: 0.4454 - accuracy: 0.8272 - val_loss: 0.2921 - val_accuracy: 1.0000\n",
      "Epoch 76/100\n",
      "9/9 [==============================] - 0s 6ms/step - loss: 0.4425 - accuracy: 0.8395 - val_loss: 0.2890 - val_accuracy: 1.0000\n",
      "Epoch 77/100\n",
      "9/9 [==============================] - 0s 6ms/step - loss: 0.4405 - accuracy: 0.8395 - val_loss: 0.2857 - val_accuracy: 1.0000\n",
      "Epoch 78/100\n",
      "9/9 [==============================] - 0s 5ms/step - loss: 0.4387 - accuracy: 0.8395 - val_loss: 0.2834 - val_accuracy: 1.0000\n",
      "Epoch 79/100\n",
      "9/9 [==============================] - 0s 5ms/step - loss: 0.4371 - accuracy: 0.8395 - val_loss: 0.2800 - val_accuracy: 1.0000\n",
      "Epoch 80/100\n",
      "9/9 [==============================] - 0s 5ms/step - loss: 0.4354 - accuracy: 0.8272 - val_loss: 0.2753 - val_accuracy: 1.0000\n",
      "Epoch 81/100\n",
      "9/9 [==============================] - 0s 5ms/step - loss: 0.4344 - accuracy: 0.8272 - val_loss: 0.2687 - val_accuracy: 1.0000\n",
      "Epoch 82/100\n",
      "9/9 [==============================] - 0s 6ms/step - loss: 0.4313 - accuracy: 0.8272 - val_loss: 0.2653 - val_accuracy: 1.0000\n",
      "Epoch 83/100\n",
      "9/9 [==============================] - 0s 6ms/step - loss: 0.4296 - accuracy: 0.8272 - val_loss: 0.2624 - val_accuracy: 1.0000\n",
      "Epoch 84/100\n",
      "9/9 [==============================] - 0s 6ms/step - loss: 0.4277 - accuracy: 0.8272 - val_loss: 0.2582 - val_accuracy: 1.0000\n",
      "Epoch 85/100\n",
      "9/9 [==============================] - 0s 6ms/step - loss: 0.4255 - accuracy: 0.8272 - val_loss: 0.2539 - val_accuracy: 1.0000\n",
      "Epoch 86/100\n",
      "9/9 [==============================] - 0s 6ms/step - loss: 0.4234 - accuracy: 0.8272 - val_loss: 0.2495 - val_accuracy: 1.0000\n",
      "Epoch 87/100\n",
      "9/9 [==============================] - 0s 6ms/step - loss: 0.4213 - accuracy: 0.8272 - val_loss: 0.2447 - val_accuracy: 1.0000\n",
      "Epoch 88/100\n",
      "9/9 [==============================] - 0s 6ms/step - loss: 0.4194 - accuracy: 0.8272 - val_loss: 0.2402 - val_accuracy: 1.0000\n",
      "Epoch 89/100\n",
      "9/9 [==============================] - 0s 6ms/step - loss: 0.4174 - accuracy: 0.8272 - val_loss: 0.2370 - val_accuracy: 1.0000\n",
      "Epoch 90/100\n",
      "9/9 [==============================] - 0s 5ms/step - loss: 0.4156 - accuracy: 0.8272 - val_loss: 0.2340 - val_accuracy: 1.0000\n",
      "Epoch 91/100\n",
      "9/9 [==============================] - 0s 6ms/step - loss: 0.4138 - accuracy: 0.8272 - val_loss: 0.2309 - val_accuracy: 1.0000\n",
      "Epoch 92/100\n",
      "9/9 [==============================] - 0s 5ms/step - loss: 0.4125 - accuracy: 0.8272 - val_loss: 0.2266 - val_accuracy: 1.0000\n",
      "Epoch 93/100\n",
      "9/9 [==============================] - 0s 6ms/step - loss: 0.4099 - accuracy: 0.8272 - val_loss: 0.2236 - val_accuracy: 1.0000\n",
      "Epoch 94/100\n",
      "9/9 [==============================] - 0s 5ms/step - loss: 0.4083 - accuracy: 0.8272 - val_loss: 0.2201 - val_accuracy: 1.0000\n",
      "Epoch 95/100\n",
      "9/9 [==============================] - 0s 6ms/step - loss: 0.4066 - accuracy: 0.8272 - val_loss: 0.2177 - val_accuracy: 1.0000\n",
      "Epoch 96/100\n",
      "9/9 [==============================] - 0s 5ms/step - loss: 0.4049 - accuracy: 0.8272 - val_loss: 0.2145 - val_accuracy: 1.0000\n",
      "Epoch 97/100\n",
      "9/9 [==============================] - 0s 5ms/step - loss: 0.4037 - accuracy: 0.8272 - val_loss: 0.2124 - val_accuracy: 1.0000\n",
      "Epoch 98/100\n",
      "9/9 [==============================] - 0s 6ms/step - loss: 0.4018 - accuracy: 0.8272 - val_loss: 0.2097 - val_accuracy: 1.0000\n",
      "Epoch 99/100\n",
      "9/9 [==============================] - 0s 6ms/step - loss: 0.4002 - accuracy: 0.8272 - val_loss: 0.2062 - val_accuracy: 1.0000\n",
      "Epoch 100/100\n",
      "9/9 [==============================] - 0s 5ms/step - loss: 0.3986 - accuracy: 0.8272 - val_loss: 0.2024 - val_accuracy: 1.0000\n"
     ]
    }
   ],
   "source": [
    "save=model.fit(x_train,y_train,batch_size=10,epochs=100,verbose=1,validation_split=0.1)"
   ]
  },
  {
   "cell_type": "code",
   "execution_count": 24,
   "id": "41fb0c00",
   "metadata": {},
   "outputs": [],
   "source": [
    "tl=save.history[\"loss\"]\n",
    "cvl=save.history[\"val_loss\"]"
   ]
  },
  {
   "cell_type": "code",
   "execution_count": 28,
   "id": "a99682a0",
   "metadata": {},
   "outputs": [
    {
     "data": {
      "text/plain": [
       "<matplotlib.legend.Legend at 0x1f68720a700>"
      ]
     },
     "execution_count": 28,
     "metadata": {},
     "output_type": "execute_result"
    },
    {
     "data": {
      "image/png": "[encoded data removed]",
      "text/plain": [
       "<Figure size 360x216 with 1 Axes>"
      ]
     },
     "metadata": {
      "needs_background": "light"
     },
     "output_type": "display_data"
    }
   ],
   "source": [
    "plt.figure(figsize = (5,3))\n",
    "plt.plot(range(1,101),tl,label=\"training_loss\")\n",
    "plt.plot(range(1,101),cvl,label=\"crossval_loss\")\n",
    "plt.legend()"
   ]
  },
  {
   "cell_type": "code",
   "execution_count": 29,
   "id": "b245f2f2",
   "metadata": {},
   "outputs": [
    {
     "name": "stdout",
     "output_type": "stream",
     "text": [
      "3/3 [==============================] - 0s 6ms/step\n"
     ]
    }
   ],
   "source": [
    "predi=model.predict(x_train)"
   ]
  },
  {
   "cell_type": "code",
   "execution_count": 37,
   "id": "0e876408",
   "metadata": {},
   "outputs": [],
   "source": [
    "predict=np.where(predi>0.5,1,0).flatten()"
   ]
  },
  {
   "cell_type": "code",
   "execution_count": 38,
   "id": "de5c7422",
   "metadata": {},
   "outputs": [
    {
     "data": {
      "text/plain": [
       "<AxesSubplot:xlabel='0', ylabel='1'>"
      ]
     },
     "execution_count": 38,
     "metadata": {},
     "output_type": "execute_result"
    },
    {
     "data": {
      "image/png": "[encoded data removed]",
      "text/plain": [
       "<Figure size 360x216 with 1 Axes>"
      ]
     },
     "metadata": {
      "needs_background": "light"
     },
     "output_type": "display_data"
    }
   ],
   "source": [
    "plt.figure(figsize = (5,3))\n",
    "sns.scatterplot(x=x_train[0],y=x_train[1],hue=predict)"
   ]
  },
  {
   "cell_type": "code",
   "execution_count": 40,
   "id": "cb1a8492",
   "metadata": {},
   "outputs": [
    {
     "data": {
      "text/plain": [
       "<AxesSubplot:xlabel='0', ylabel='1'>"
      ]
     },
     "execution_count": 40,
     "metadata": {},
     "output_type": "execute_result"
    },
    {
     "data": {
      "image/png": "[encoded data removed]",
      "text/plain": [
       "<Figure size 360x216 with 1 Axes>"
      ]
     },
     "metadata": {
      "needs_background": "light"
     },
     "output_type": "display_data"
    }
   ],
   "source": [
    "plt.figure(figsize = (5,3))\n",
    "sns.scatterplot(x=x_train[0],y=x_train[1],hue=y_train)"
   ]
  },
  {
   "cell_type": "code",
   "execution_count": 39,
   "id": "58fa2c2f",
   "metadata": {},
   "outputs": [
    {
     "data": {
      "text/plain": [
       "0.8444444444444444"
      ]
     },
     "execution_count": 39,
     "metadata": {},
     "output_type": "execute_result"
    }
   ],
   "source": [
    "from sklearn.metrics import accuracy_score\n",
    "accuracy_score(y_train,predict)"
   ]
  },
  {
   "cell_type": "code",
   "execution_count": 34,
   "id": "355c7b2c",
   "metadata": {},
   "outputs": [],
   "source": [
    "from mlxtend.plotting import plot_decision_regions"
   ]
  },
  {
   "cell_type": "code",
   "execution_count": 35,
   "id": "a78fada9",
   "metadata": {},
   "outputs": [
    {
     "name": "stdout",
     "output_type": "stream",
     "text": [
      "3888/3888 [==============================] - 5s 1ms/step\n"
     ]
    },
    {
     "data": {
      "text/plain": [
       "<AxesSubplot:>"
      ]
     },
     "execution_count": 35,
     "metadata": {},
     "output_type": "execute_result"
    },
    {
     "data": {
      "image/png": "[encoded data removed]",
      "text/plain": [
       "<Figure size 432x288 with 1 Axes>"
      ]
     },
     "metadata": {
      "needs_background": "light"
     },
     "output_type": "display_data"
    }
   ],
   "source": [
    "plot_decision_regions(x_train[[0,1]].values,y_train.values.astype(int),clf=model)"
   ]
  },
  {
   "cell_type": "code",
   "execution_count": 41,
   "id": "605be0f7",
   "metadata": {},
   "outputs": [
    {
     "name": "stdout",
     "output_type": "stream",
     "text": [
      "2430/2430 [==============================] - 3s 1ms/step\n"
     ]
    },
    {
     "data": {
      "text/plain": [
       "<AxesSubplot:>"
      ]
     },
     "execution_count": 41,
     "metadata": {},
     "output_type": "execute_result"
    },
    {
     "data": {
      "image/png": "[encoded data removed]",
      "text/plain": [
       "<Figure size 360x216 with 1 Axes>"
      ]
     },
     "metadata": {
      "needs_background": "light"
     },
     "output_type": "display_data"
    }
   ],
   "source": [
    "plt.figure(figsize = (5,3))\n",
    "plot_decision_regions(x_train[[0,1]].values,predict.astype(int),clf=model)"
   ]
  },
  {
   "cell_type": "code",
   "execution_count": null,
   "id": "a0c8c8da",
   "metadata": {},
   "outputs": [],
   "source": []
  }
 ],
 "metadata": {
  "kernelspec": {
   "display_name": "Python 3 (ipykernel)",
   "language": "python",
   "name": "python3"
  },
  "language_info": {
   "codemirror_mode": {
    "name": "ipython",
    "version": 3
   },
   "file_extension": ".py",
   "mimetype": "text/x-python",
   "name": "python",
   "nbconvert_exporter": "python",
   "pygments_lexer": "ipython3",
   "version": "3.9.12"
  }
 },
 "nbformat": 4,
 "nbformat_minor": 5
}
